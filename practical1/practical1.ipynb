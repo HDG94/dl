{
 "cells": [
  {
   "cell_type": "markdown",
   "metadata": {},
   "source": [
    "## Practical 1: word2vec\n",
    "Oxford CS - Deep NLP 2017<br>\n",
    "https://www.cs.ox.ac.uk/teaching/courses/2016-2017/dl/"
   ]
  },
  {
   "cell_type": "markdown",
   "metadata": {},
   "source": [
    "This practical is presented as an IPython Notebook, with the code written for recent versions of **Python 3**. The code in this practical will not work with Python 2 unless you modify it. If you are using your own Python installation, ensure you have a setup identical to that described in the installation shell script (which is intended for use with the department lab machines). We will be unable to support installation on personal machines due to time constraints, so please use the lab machines and the setup script if you are unfamiliar with how to install Anaconda.\n",
    "\n",
    "To execute a notebook cell, press `shift-enter`. The return value of the last command will be displayed, if it is not `None`.\n",
    "\n",
    "Potentially useful library documentation, references, and resources:\n",
    "\n",
    "* IPython notebooks: <https://ipython.org/ipython-doc/3/notebook/notebook.html#introduction>\n",
    "* Numpy numerical array library: <https://docs.scipy.org/doc/>\n",
    "* Gensim's word2vec: <https://radimrehurek.com/gensim/models/word2vec.html>\n",
    "* Bokeh interactive plots: <http://bokeh.pydata.org/en/latest/> (we provide plotting code here, but click the thumbnails for more examples to copy-paste)\n",
    "* scikit-learn ML library (aka `sklearn`): <http://scikit-learn.org/stable/documentation.html>\n",
    "* nltk NLP toolkit: <http://www.nltk.org/>\n",
    "* tutorial for processing xml in python using `lxml`: <http://lxml.de/tutorial.html> (we did this for you below, but in case you need it in the future)"
   ]
  },
  {
   "cell_type": "code",
   "execution_count": 1,
   "metadata": {
    "collapsed": false
   },
   "outputs": [],
   "source": [
    "import numpy as np\n",
    "import os\n",
    "from random import shuffle\n",
    "import re"
   ]
  },
  {
   "cell_type": "code",
   "execution_count": 2,
   "metadata": {
    "collapsed": false
   },
   "outputs": [
    {
     "data": {
      "text/html": [
       "\n",
       "    <div class=\"bk-root\">\n",
       "        <a href=\"http://bokeh.pydata.org\" target=\"_blank\" class=\"bk-logo bk-logo-small bk-logo-notebook\"></a>\n",
       "        <span id=\"f48b442f-ffa3-40d0-9deb-3dfc9fe7bacf\">Loading BokehJS ...</span>\n",
       "    </div>"
      ]
     },
     "metadata": {},
     "output_type": "display_data"
    },
    {
     "data": {
      "application/javascript": [
       "\n",
       "(function(global) {\n",
       "  function now() {\n",
       "    return new Date();\n",
       "  }\n",
       "\n",
       "  var force = \"1\";\n",
       "\n",
       "  if (typeof (window._bokeh_onload_callbacks) === \"undefined\" || force !== \"\") {\n",
       "    window._bokeh_onload_callbacks = [];\n",
       "    window._bokeh_is_loading = undefined;\n",
       "  }\n",
       "\n",
       "\n",
       "  \n",
       "  if (typeof (window._bokeh_timeout) === \"undefined\" || force !== \"\") {\n",
       "    window._bokeh_timeout = Date.now() + 5000;\n",
       "    window._bokeh_failed_load = false;\n",
       "  }\n",
       "\n",
       "  var NB_LOAD_WARNING = {'data': {'text/html':\n",
       "     \"<div style='background-color: #fdd'>\\n\"+\n",
       "     \"<p>\\n\"+\n",
       "     \"BokehJS does not appear to have successfully loaded. If loading BokehJS from CDN, this \\n\"+\n",
       "     \"may be due to a slow or bad network connection. Possible fixes:\\n\"+\n",
       "     \"</p>\\n\"+\n",
       "     \"<ul>\\n\"+\n",
       "     \"<li>re-rerun `output_notebook()` to attempt to load from CDN again, or</li>\\n\"+\n",
       "     \"<li>use INLINE resources instead, as so:</li>\\n\"+\n",
       "     \"</ul>\\n\"+\n",
       "     \"<code>\\n\"+\n",
       "     \"from bokeh.resources import INLINE\\n\"+\n",
       "     \"output_notebook(resources=INLINE)\\n\"+\n",
       "     \"</code>\\n\"+\n",
       "     \"</div>\"}};\n",
       "\n",
       "  function display_loaded() {\n",
       "    if (window.Bokeh !== undefined) {\n",
       "      Bokeh.$(\"#f48b442f-ffa3-40d0-9deb-3dfc9fe7bacf\").text(\"BokehJS successfully loaded.\");\n",
       "    } else if (Date.now() < window._bokeh_timeout) {\n",
       "      setTimeout(display_loaded, 100)\n",
       "    }\n",
       "  }\n",
       "\n",
       "  function run_callbacks() {\n",
       "    window._bokeh_onload_callbacks.forEach(function(callback) { callback() });\n",
       "    delete window._bokeh_onload_callbacks\n",
       "    console.info(\"Bokeh: all callbacks have finished\");\n",
       "  }\n",
       "\n",
       "  function load_libs(js_urls, callback) {\n",
       "    window._bokeh_onload_callbacks.push(callback);\n",
       "    if (window._bokeh_is_loading > 0) {\n",
       "      console.log(\"Bokeh: BokehJS is being loaded, scheduling callback at\", now());\n",
       "      return null;\n",
       "    }\n",
       "    if (js_urls == null || js_urls.length === 0) {\n",
       "      run_callbacks();\n",
       "      return null;\n",
       "    }\n",
       "    console.log(\"Bokeh: BokehJS not loaded, scheduling load and callback at\", now());\n",
       "    window._bokeh_is_loading = js_urls.length;\n",
       "    for (var i = 0; i < js_urls.length; i++) {\n",
       "      var url = js_urls[i];\n",
       "      var s = document.createElement('script');\n",
       "      s.src = url;\n",
       "      s.async = false;\n",
       "      s.onreadystatechange = s.onload = function() {\n",
       "        window._bokeh_is_loading--;\n",
       "        if (window._bokeh_is_loading === 0) {\n",
       "          console.log(\"Bokeh: all BokehJS libraries loaded\");\n",
       "          run_callbacks()\n",
       "        }\n",
       "      };\n",
       "      s.onerror = function() {\n",
       "        console.warn(\"failed to load library \" + url);\n",
       "      };\n",
       "      console.log(\"Bokeh: injecting script tag for BokehJS library: \", url);\n",
       "      document.getElementsByTagName(\"head\")[0].appendChild(s);\n",
       "    }\n",
       "  };var element = document.getElementById(\"f48b442f-ffa3-40d0-9deb-3dfc9fe7bacf\");\n",
       "  if (element == null) {\n",
       "    console.log(\"Bokeh: ERROR: autoload.js configured with elementid 'f48b442f-ffa3-40d0-9deb-3dfc9fe7bacf' but no matching script tag was found. \")\n",
       "    return false;\n",
       "  }\n",
       "\n",
       "  var js_urls = ['https://cdn.pydata.org/bokeh/release/bokeh-0.12.2.min.js', 'https://cdn.pydata.org/bokeh/release/bokeh-widgets-0.12.2.min.js', 'https://cdn.pydata.org/bokeh/release/bokeh-compiler-0.12.2.min.js'];\n",
       "\n",
       "  var inline_js = [\n",
       "    function(Bokeh) {\n",
       "      Bokeh.set_log_level(\"info\");\n",
       "    },\n",
       "    \n",
       "    function(Bokeh) {\n",
       "      \n",
       "      Bokeh.$(\"#f48b442f-ffa3-40d0-9deb-3dfc9fe7bacf\").text(\"BokehJS is loading...\");\n",
       "    },\n",
       "    function(Bokeh) {\n",
       "      console.log(\"Bokeh: injecting CSS: https://cdn.pydata.org/bokeh/release/bokeh-0.12.2.min.css\");\n",
       "      Bokeh.embed.inject_css(\"https://cdn.pydata.org/bokeh/release/bokeh-0.12.2.min.css\");\n",
       "      console.log(\"Bokeh: injecting CSS: https://cdn.pydata.org/bokeh/release/bokeh-widgets-0.12.2.min.css\");\n",
       "      Bokeh.embed.inject_css(\"https://cdn.pydata.org/bokeh/release/bokeh-widgets-0.12.2.min.css\");\n",
       "    }\n",
       "  ];\n",
       "\n",
       "  function run_inline_js() {\n",
       "    \n",
       "    if ((window.Bokeh !== undefined) || (force === \"1\")) {\n",
       "      for (var i = 0; i < inline_js.length; i++) {\n",
       "        inline_js[i](window.Bokeh);\n",
       "      }if (force === \"1\") {\n",
       "        display_loaded();\n",
       "      }} else if (Date.now() < window._bokeh_timeout) {\n",
       "      setTimeout(run_inline_js, 100);\n",
       "    } else if (!window._bokeh_failed_load) {\n",
       "      console.log(\"Bokeh: BokehJS failed to load within specified timeout.\");\n",
       "      window._bokeh_failed_load = true;\n",
       "    } else if (!force) {\n",
       "      var cell = $(\"#f48b442f-ffa3-40d0-9deb-3dfc9fe7bacf\").parents('.cell').data().cell;\n",
       "      cell.output_area.append_execute_result(NB_LOAD_WARNING)\n",
       "    }\n",
       "\n",
       "  }\n",
       "\n",
       "  if (window._bokeh_is_loading === 0) {\n",
       "    console.log(\"Bokeh: BokehJS loaded, going straight to plotting\");\n",
       "    run_inline_js();\n",
       "  } else {\n",
       "    load_libs(js_urls, function() {\n",
       "      console.log(\"Bokeh: BokehJS plotting callback run at\", now());\n",
       "      run_inline_js();\n",
       "    });\n",
       "  }\n",
       "}(this));"
      ]
     },
     "metadata": {},
     "output_type": "display_data"
    }
   ],
   "source": [
    "from bokeh.models import ColumnDataSource, LabelSet\n",
    "from bokeh.plotting import figure, show, output_file\n",
    "from bokeh.io import output_notebook\n",
    "output_notebook()"
   ]
  },
  {
   "cell_type": "markdown",
   "metadata": {},
   "source": [
    "### Part 0: Download the TED dataset"
   ]
  },
  {
   "cell_type": "code",
   "execution_count": 3,
   "metadata": {
    "collapsed": false
   },
   "outputs": [],
   "source": [
    "import urllib.request\n",
    "import zipfile\n",
    "import lxml.etree"
   ]
  },
  {
   "cell_type": "code",
   "execution_count": 4,
   "metadata": {
    "collapsed": false
   },
   "outputs": [],
   "source": [
    "# Download the dataset if it's not already there: this may take a minute as it is 75MB\n",
    "if not os.path.isfile('ted_en-20160408.zip'):\n",
    "    urllib.request.urlretrieve(\"https://wit3.fbk.eu/get.php?path=XML_releases/xml/ted_en-20160408.zip&filename=ted_en-20160408.zip\", filename=\"ted_en-20160408.zip\")"
   ]
  },
  {
   "cell_type": "code",
   "execution_count": 5,
   "metadata": {
    "collapsed": false
   },
   "outputs": [],
   "source": [
    "# For now, we're only interested in the subtitle text, so let's extract that from the XML:\n",
    "with zipfile.ZipFile('ted_en-20160408.zip', 'r') as z:\n",
    "    doc = lxml.etree.parse(z.open('ted_en-20160408.xml', 'r'))\n",
    "input_text = '\\n'.join(doc.xpath('//content/text()'))\n",
    "del doc"
   ]
  },
  {
   "cell_type": "markdown",
   "metadata": {},
   "source": [
    "### Part 1: Preprocessing\n",
    "\n",
    "In this part, we attempt to clean up the raw subtitles a bit, so that we get only sentences. The following substring shows examples of what we're trying to get rid of. Since it's hard to define precisely what we want to get rid of, we'll just use some simple heuristics."
   ]
  },
  {
   "cell_type": "code",
   "execution_count": 6,
   "metadata": {
    "collapsed": false,
    "scrolled": false
   },
   "outputs": [
    {
     "data": {
      "text/plain": [
       "' baby does.\\n(Video) Hyowon Gweon: See this? (Ball squeaks) Did you see that? (Ball squeaks) Cool. See this one? (Ball squeaks) Wow.\\nLaura Schulz: Told you. (Laughs)\\n(Vide'"
      ]
     },
     "execution_count": 6,
     "metadata": {},
     "output_type": "execute_result"
    }
   ],
   "source": [
    "i = input_text.find(\"Hyowon Gweon: See this?\")\n",
    "input_text[i-20:i+150]"
   ]
  },
  {
   "cell_type": "markdown",
   "metadata": {},
   "source": [
    "Let's start by removing all parenthesized strings using a regex:"
   ]
  },
  {
   "cell_type": "code",
   "execution_count": 7,
   "metadata": {
    "collapsed": true
   },
   "outputs": [],
   "source": [
    "input_text_noparens = re.sub(r'\\([^)]*\\)', '', input_text)"
   ]
  },
  {
   "cell_type": "markdown",
   "metadata": {},
   "source": [
    "We can verify the same location in the text is now clean as follows. We won't worry about the irregular spaces since we'll later split the text into sentences and tokenize it anyway."
   ]
  },
  {
   "cell_type": "code",
   "execution_count": 8,
   "metadata": {
    "collapsed": false
   },
   "outputs": [
    {
     "data": {
      "text/plain": [
       "\"hat the baby does.\\n Hyowon Gweon: See this?  Did you see that?  Cool. See this one?  Wow.\\nLaura Schulz: Told you. \\n HG: See this one?  Hey Clara, this one's for you. You \""
      ]
     },
     "execution_count": 8,
     "metadata": {},
     "output_type": "execute_result"
    }
   ],
   "source": [
    "i = input_text_noparens.find(\"Hyowon Gweon: See this?\")\n",
    "input_text_noparens[i-20:i+150]"
   ]
  },
  {
   "cell_type": "markdown",
   "metadata": {},
   "source": [
    "Now, let's attempt to remove speakers' names that occur at the beginning of a line, by deleting pieces of the form \"`<up to 20 characters>:`\", as shown in this example. Of course, this is an imperfect heuristic. "
   ]
  },
  {
   "cell_type": "code",
   "execution_count": 9,
   "metadata": {
    "collapsed": false
   },
   "outputs": [
    {
     "data": {
      "text/plain": [
       "[\"Here are two reasons companies fail: they only do more of the same, or they only do what's new\",\n",
       " 'To me the real, real solution to quality growth is figuring out the balance between two activities: exploration and exploitation',\n",
       " ' Both are necessary, but it can be too much of a good thing',\n",
       " 'Consider Facit',\n",
       " \" I'm actually old enough to remember them\"]"
      ]
     },
     "execution_count": 9,
     "metadata": {},
     "output_type": "execute_result"
    }
   ],
   "source": [
    "sentences_strings_ted = []\n",
    "for line in input_text_noparens.split('\\n'):\n",
    "    m = re.match(r'^(?:(?P<precolon>[^:]{,20}):)?(?P<postcolon>.*)$', line)\n",
    "    sentences_strings_ted.extend(sent for sent in m.groupdict()['postcolon'].split('.') if sent)\n",
    "\n",
    "# Uncomment if you need to save some RAM: these strings are about 50MB.\n",
    "# del input_text, input_text_noparens\n",
    "\n",
    "# Let's view the first few:\n",
    "sentences_strings_ted[:5]"
   ]
  },
  {
   "cell_type": "markdown",
   "metadata": {},
   "source": [
    "Now that we have sentences, we're ready to tokenize each of them into words. This tokenization is imperfect, of course. For instance, how many tokens is \"can't\", and where/how do we split it? We'll take the simplest naive approach of splitting on spaces. Before splitting, we remove non-alphanumeric characters, such as punctuation. You may want to consider the following question: why do we replace these characters with spaces rather than deleting them? Think of a case where this yields a different answer."
   ]
  },
  {
   "cell_type": "code",
   "execution_count": 10,
   "metadata": {
    "collapsed": false
   },
   "outputs": [],
   "source": [
    "sentences_ted = []\n",
    "for sent_str in sentences_strings_ted:\n",
    "    tokens = re.sub(r\"[^a-z0-9]+\", \" \", sent_str.lower()).split()\n",
    "    sentences_ted.append(tokens)"
   ]
  },
  {
   "cell_type": "markdown",
   "metadata": {},
   "source": [
    "Two sample processed sentences:"
   ]
  },
  {
   "cell_type": "code",
   "execution_count": 11,
   "metadata": {
    "collapsed": false
   },
   "outputs": [
    {
     "data": {
      "text/plain": [
       "266694"
      ]
     },
     "execution_count": 11,
     "metadata": {},
     "output_type": "execute_result"
    }
   ],
   "source": [
    "len(sentences_ted)"
   ]
  },
  {
   "cell_type": "code",
   "execution_count": 12,
   "metadata": {
    "collapsed": false
   },
   "outputs": [
    {
     "name": "stdout",
     "output_type": "stream",
     "text": [
      "['here', 'are', 'two', 'reasons', 'companies', 'fail', 'they', 'only', 'do', 'more', 'of', 'the', 'same', 'or', 'they', 'only', 'do', 'what', 's', 'new']\n",
      "['to', 'me', 'the', 'real', 'real', 'solution', 'to', 'quality', 'growth', 'is', 'figuring', 'out', 'the', 'balance', 'between', 'two', 'activities', 'exploration', 'and', 'exploitation']\n"
     ]
    }
   ],
   "source": [
    "print(sentences_ted[0])\n",
    "print(sentences_ted[1])"
   ]
  },
  {
   "cell_type": "markdown",
   "metadata": {},
   "source": [
    "### Part 2: Word Frequencies"
   ]
  },
  {
   "cell_type": "markdown",
   "metadata": {},
   "source": [
    "If you store the counts of the top 1000 words in a list called `counts_ted_top1000`, the code below will plot the histogram requested in the writeup."
   ]
  },
  {
   "cell_type": "code",
   "execution_count": 20,
   "metadata": {
    "collapsed": false
   },
   "outputs": [
    {
     "ename": "KeyboardInterrupt",
     "evalue": "",
     "output_type": "error",
     "traceback": [
      "\u001b[0;31m---------------------------------------------------------------------------\u001b[0m",
      "\u001b[0;31mKeyboardInterrupt\u001b[0m                         Traceback (most recent call last)",
      "\u001b[0;32m<ipython-input-20-6dae15738849>\u001b[0m in \u001b[0;36m<module>\u001b[0;34m()\u001b[0m\n\u001b[1;32m      4\u001b[0m \u001b[0mc\u001b[0m \u001b[0;34m=\u001b[0m \u001b[0mCounter\u001b[0m\u001b[0;34m(\u001b[0m\u001b[0;34m)\u001b[0m\u001b[0;34m\u001b[0m\u001b[0m\n\u001b[1;32m      5\u001b[0m \u001b[0;32mfor\u001b[0m \u001b[0msentence\u001b[0m \u001b[0;32min\u001b[0m \u001b[0msentences_ted\u001b[0m\u001b[0;34m:\u001b[0m\u001b[0;34m\u001b[0m\u001b[0m\n\u001b[0;32m----> 6\u001b[0;31m     \u001b[0mc\u001b[0m \u001b[0;34m+=\u001b[0m \u001b[0mCounter\u001b[0m\u001b[0;34m(\u001b[0m\u001b[0msentence\u001b[0m\u001b[0;34m)\u001b[0m\u001b[0;34m\u001b[0m\u001b[0m\n\u001b[0m\u001b[1;32m      7\u001b[0m \u001b[0mtop1000WordCounts\u001b[0m \u001b[0;34m=\u001b[0m \u001b[0mc\u001b[0m\u001b[0;34m.\u001b[0m\u001b[0mmost_common\u001b[0m\u001b[0;34m(\u001b[0m\u001b[0;36m1000\u001b[0m\u001b[0;34m)\u001b[0m \u001b[0;31m# this is a list of tuples: [(word, count),...]\u001b[0m\u001b[0;34m\u001b[0m\u001b[0m\n\u001b[1;32m      8\u001b[0m \u001b[0mcounts_ted_top1000\u001b[0m \u001b[0;34m=\u001b[0m \u001b[0;34m[\u001b[0m\u001b[0mx\u001b[0m\u001b[0;34m[\u001b[0m\u001b[0;36m1\u001b[0m\u001b[0;34m]\u001b[0m \u001b[0;32mfor\u001b[0m \u001b[0mx\u001b[0m \u001b[0;32min\u001b[0m \u001b[0mtop1000WordCounts\u001b[0m\u001b[0;34m]\u001b[0m\u001b[0;34m\u001b[0m\u001b[0m\n",
      "\u001b[0;32m/home/scratch/donhan/anaconda3/lib/python3.5/collections/__init__.py\u001b[0m in \u001b[0;36m__iadd__\u001b[0;34m(self, other)\u001b[0m\n\u001b[1;32m    796\u001b[0m         \u001b[0;32mfor\u001b[0m \u001b[0melem\u001b[0m\u001b[0;34m,\u001b[0m \u001b[0mcount\u001b[0m \u001b[0;32min\u001b[0m \u001b[0mother\u001b[0m\u001b[0;34m.\u001b[0m\u001b[0mitems\u001b[0m\u001b[0;34m(\u001b[0m\u001b[0;34m)\u001b[0m\u001b[0;34m:\u001b[0m\u001b[0;34m\u001b[0m\u001b[0m\n\u001b[1;32m    797\u001b[0m             \u001b[0mself\u001b[0m\u001b[0;34m[\u001b[0m\u001b[0melem\u001b[0m\u001b[0;34m]\u001b[0m \u001b[0;34m+=\u001b[0m \u001b[0mcount\u001b[0m\u001b[0;34m\u001b[0m\u001b[0m\n\u001b[0;32m--> 798\u001b[0;31m         \u001b[0;32mreturn\u001b[0m \u001b[0mself\u001b[0m\u001b[0;34m.\u001b[0m\u001b[0m_keep_positive\u001b[0m\u001b[0;34m(\u001b[0m\u001b[0;34m)\u001b[0m\u001b[0;34m\u001b[0m\u001b[0m\n\u001b[0m\u001b[1;32m    799\u001b[0m \u001b[0;34m\u001b[0m\u001b[0m\n\u001b[1;32m    800\u001b[0m     \u001b[0;32mdef\u001b[0m \u001b[0m__isub__\u001b[0m\u001b[0;34m(\u001b[0m\u001b[0mself\u001b[0m\u001b[0;34m,\u001b[0m \u001b[0mother\u001b[0m\u001b[0;34m)\u001b[0m\u001b[0;34m:\u001b[0m\u001b[0;34m\u001b[0m\u001b[0m\n",
      "\u001b[0;32m/home/scratch/donhan/anaconda3/lib/python3.5/collections/__init__.py\u001b[0m in \u001b[0;36m_keep_positive\u001b[0;34m(self)\u001b[0m\n\u001b[1;32m    780\u001b[0m     \u001b[0;32mdef\u001b[0m \u001b[0m_keep_positive\u001b[0m\u001b[0;34m(\u001b[0m\u001b[0mself\u001b[0m\u001b[0;34m)\u001b[0m\u001b[0;34m:\u001b[0m\u001b[0;34m\u001b[0m\u001b[0m\n\u001b[1;32m    781\u001b[0m         \u001b[0;34m'''Internal method to strip elements with a negative or zero count'''\u001b[0m\u001b[0;34m\u001b[0m\u001b[0m\n\u001b[0;32m--> 782\u001b[0;31m         \u001b[0mnonpositive\u001b[0m \u001b[0;34m=\u001b[0m \u001b[0;34m[\u001b[0m\u001b[0melem\u001b[0m \u001b[0;32mfor\u001b[0m \u001b[0melem\u001b[0m\u001b[0;34m,\u001b[0m \u001b[0mcount\u001b[0m \u001b[0;32min\u001b[0m \u001b[0mself\u001b[0m\u001b[0;34m.\u001b[0m\u001b[0mitems\u001b[0m\u001b[0;34m(\u001b[0m\u001b[0;34m)\u001b[0m \u001b[0;32mif\u001b[0m \u001b[0;32mnot\u001b[0m \u001b[0mcount\u001b[0m \u001b[0;34m>\u001b[0m \u001b[0;36m0\u001b[0m\u001b[0;34m]\u001b[0m\u001b[0;34m\u001b[0m\u001b[0m\n\u001b[0m\u001b[1;32m    783\u001b[0m         \u001b[0;32mfor\u001b[0m \u001b[0melem\u001b[0m \u001b[0;32min\u001b[0m \u001b[0mnonpositive\u001b[0m\u001b[0;34m:\u001b[0m\u001b[0;34m\u001b[0m\u001b[0m\n\u001b[1;32m    784\u001b[0m             \u001b[0;32mdel\u001b[0m \u001b[0mself\u001b[0m\u001b[0;34m[\u001b[0m\u001b[0melem\u001b[0m\u001b[0;34m]\u001b[0m\u001b[0;34m\u001b[0m\u001b[0m\n",
      "\u001b[0;32m/home/scratch/donhan/anaconda3/lib/python3.5/collections/__init__.py\u001b[0m in \u001b[0;36m<listcomp>\u001b[0;34m(.0)\u001b[0m\n\u001b[1;32m    780\u001b[0m     \u001b[0;32mdef\u001b[0m \u001b[0m_keep_positive\u001b[0m\u001b[0;34m(\u001b[0m\u001b[0mself\u001b[0m\u001b[0;34m)\u001b[0m\u001b[0;34m:\u001b[0m\u001b[0;34m\u001b[0m\u001b[0m\n\u001b[1;32m    781\u001b[0m         \u001b[0;34m'''Internal method to strip elements with a negative or zero count'''\u001b[0m\u001b[0;34m\u001b[0m\u001b[0m\n\u001b[0;32m--> 782\u001b[0;31m         \u001b[0mnonpositive\u001b[0m \u001b[0;34m=\u001b[0m \u001b[0;34m[\u001b[0m\u001b[0melem\u001b[0m \u001b[0;32mfor\u001b[0m \u001b[0melem\u001b[0m\u001b[0;34m,\u001b[0m \u001b[0mcount\u001b[0m \u001b[0;32min\u001b[0m \u001b[0mself\u001b[0m\u001b[0;34m.\u001b[0m\u001b[0mitems\u001b[0m\u001b[0;34m(\u001b[0m\u001b[0;34m)\u001b[0m \u001b[0;32mif\u001b[0m \u001b[0;32mnot\u001b[0m \u001b[0mcount\u001b[0m \u001b[0;34m>\u001b[0m \u001b[0;36m0\u001b[0m\u001b[0;34m]\u001b[0m\u001b[0;34m\u001b[0m\u001b[0m\n\u001b[0m\u001b[1;32m    783\u001b[0m         \u001b[0;32mfor\u001b[0m \u001b[0melem\u001b[0m \u001b[0;32min\u001b[0m \u001b[0mnonpositive\u001b[0m\u001b[0;34m:\u001b[0m\u001b[0;34m\u001b[0m\u001b[0m\n\u001b[1;32m    784\u001b[0m             \u001b[0;32mdel\u001b[0m \u001b[0mself\u001b[0m\u001b[0;34m[\u001b[0m\u001b[0melem\u001b[0m\u001b[0;34m]\u001b[0m\u001b[0;34m\u001b[0m\u001b[0m\n",
      "\u001b[0;31mKeyboardInterrupt\u001b[0m: "
     ]
    }
   ],
   "source": [
    "# My Edit 1, finding the top 1000 occuring words\n",
    "counts_ted_top1000 = []\n",
    "from collections import Counter\n",
    "c = Counter()\n",
    "for sentence in sentences_ted:\n",
    "    c += Counter(sentence)\n",
    "top1000WordCounts = c.most_common(1000) # this is a list of tuples: [(word, count),...]\n",
    "counts_ted_top1000 = [x[1] for x in top1000WordCounts]"
   ]
  },
  {
   "cell_type": "code",
   "execution_count": 21,
   "metadata": {
    "collapsed": false
   },
   "outputs": [],
   "source": [
    "allwords = []\n",
    "with open('allwords.txt', 'w') as out:\n",
    "    # lay the counter into a plain list, then sort by their count value\n",
    "    for k in c.keys():\n",
    "        allwords.append((k, c[k])) #allwords stores the tuples (word, count)\n",
    "    allwords.sort(key = lambda x: (-x[1], x[0]))"
   ]
  },
  {
   "cell_type": "code",
   "execution_count": 22,
   "metadata": {
    "collapsed": false
   },
   "outputs": [
    {
     "name": "stdout",
     "output_type": "stream",
     "text": [
      "10504\n",
      "[('the', 5885), ('and', 4163), ('to', 3649), ('of', 3261), ('a', 3081), ('that', 2709), ('we', 2258), ('in', 2196), ('i', 2177), ('it', 1984)]\n"
     ]
    }
   ],
   "source": [
    "print (len(allwords))\n",
    "print (allwords[:10])"
   ]
  },
  {
   "cell_type": "code",
   "execution_count": 23,
   "metadata": {
    "collapsed": true
   },
   "outputs": [],
   "source": [
    "with open('allwords', 'w') as outfile:\n",
    "    for tup in allwords:\n",
    "        outfile.write(tup[0] + ' ' + str(tup[1]) + '\\n')\n",
    "        outfile.flush()"
   ]
  },
  {
   "cell_type": "markdown",
   "metadata": {},
   "source": [
    "Plot distribution of top-1000 words"
   ]
  },
  {
   "cell_type": "code",
   "execution_count": 17,
   "metadata": {
    "collapsed": false
   },
   "outputs": [
    {
     "data": {
      "text/html": [
       "\n",
       "\n",
       "    <div class=\"bk-root\">\n",
       "        <div class=\"plotdiv\" id=\"6f8ebf66-74e6-47a3-bb51-4768a1784e1b\"></div>\n",
       "    </div>\n",
       "<script type=\"text/javascript\">\n",
       "  \n",
       "  (function(global) {\n",
       "    function now() {\n",
       "      return new Date();\n",
       "    }\n",
       "  \n",
       "    var force = \"\";\n",
       "  \n",
       "    if (typeof (window._bokeh_onload_callbacks) === \"undefined\" || force !== \"\") {\n",
       "      window._bokeh_onload_callbacks = [];\n",
       "      window._bokeh_is_loading = undefined;\n",
       "    }\n",
       "  \n",
       "  \n",
       "    \n",
       "    if (typeof (window._bokeh_timeout) === \"undefined\" || force !== \"\") {\n",
       "      window._bokeh_timeout = Date.now() + 0;\n",
       "      window._bokeh_failed_load = false;\n",
       "    }\n",
       "  \n",
       "    var NB_LOAD_WARNING = {'data': {'text/html':\n",
       "       \"<div style='background-color: #fdd'>\\n\"+\n",
       "       \"<p>\\n\"+\n",
       "       \"BokehJS does not appear to have successfully loaded. If loading BokehJS from CDN, this \\n\"+\n",
       "       \"may be due to a slow or bad network connection. Possible fixes:\\n\"+\n",
       "       \"</p>\\n\"+\n",
       "       \"<ul>\\n\"+\n",
       "       \"<li>re-rerun `output_notebook()` to attempt to load from CDN again, or</li>\\n\"+\n",
       "       \"<li>use INLINE resources instead, as so:</li>\\n\"+\n",
       "       \"</ul>\\n\"+\n",
       "       \"<code>\\n\"+\n",
       "       \"from bokeh.resources import INLINE\\n\"+\n",
       "       \"output_notebook(resources=INLINE)\\n\"+\n",
       "       \"</code>\\n\"+\n",
       "       \"</div>\"}};\n",
       "  \n",
       "    function display_loaded() {\n",
       "      if (window.Bokeh !== undefined) {\n",
       "        Bokeh.$(\"#6f8ebf66-74e6-47a3-bb51-4768a1784e1b\").text(\"BokehJS successfully loaded.\");\n",
       "      } else if (Date.now() < window._bokeh_timeout) {\n",
       "        setTimeout(display_loaded, 100)\n",
       "      }\n",
       "    }\n",
       "  \n",
       "    function run_callbacks() {\n",
       "      window._bokeh_onload_callbacks.forEach(function(callback) { callback() });\n",
       "      delete window._bokeh_onload_callbacks\n",
       "      console.info(\"Bokeh: all callbacks have finished\");\n",
       "    }\n",
       "  \n",
       "    function load_libs(js_urls, callback) {\n",
       "      window._bokeh_onload_callbacks.push(callback);\n",
       "      if (window._bokeh_is_loading > 0) {\n",
       "        console.log(\"Bokeh: BokehJS is being loaded, scheduling callback at\", now());\n",
       "        return null;\n",
       "      }\n",
       "      if (js_urls == null || js_urls.length === 0) {\n",
       "        run_callbacks();\n",
       "        return null;\n",
       "      }\n",
       "      console.log(\"Bokeh: BokehJS not loaded, scheduling load and callback at\", now());\n",
       "      window._bokeh_is_loading = js_urls.length;\n",
       "      for (var i = 0; i < js_urls.length; i++) {\n",
       "        var url = js_urls[i];\n",
       "        var s = document.createElement('script');\n",
       "        s.src = url;\n",
       "        s.async = false;\n",
       "        s.onreadystatechange = s.onload = function() {\n",
       "          window._bokeh_is_loading--;\n",
       "          if (window._bokeh_is_loading === 0) {\n",
       "            console.log(\"Bokeh: all BokehJS libraries loaded\");\n",
       "            run_callbacks()\n",
       "          }\n",
       "        };\n",
       "        s.onerror = function() {\n",
       "          console.warn(\"failed to load library \" + url);\n",
       "        };\n",
       "        console.log(\"Bokeh: injecting script tag for BokehJS library: \", url);\n",
       "        document.getElementsByTagName(\"head\")[0].appendChild(s);\n",
       "      }\n",
       "    };var element = document.getElementById(\"6f8ebf66-74e6-47a3-bb51-4768a1784e1b\");\n",
       "    if (element == null) {\n",
       "      console.log(\"Bokeh: ERROR: autoload.js configured with elementid '6f8ebf66-74e6-47a3-bb51-4768a1784e1b' but no matching script tag was found. \")\n",
       "      return false;\n",
       "    }\n",
       "  \n",
       "    var js_urls = [];\n",
       "  \n",
       "    var inline_js = [\n",
       "      function(Bokeh) {\n",
       "        Bokeh.$(function() {\n",
       "            var docs_json = {\"b8142c35-7157-4076-8982-4fdbbb489e62\":{\"roots\":{\"references\":[{\"attributes\":{\"formatter\":{\"id\":\"becc8d32-606d-4b38-8a87-fdd3b3b46038\",\"type\":\"BasicTickFormatter\"},\"plot\":{\"id\":\"18781136-74ae-4dff-abf1-69d751e38a32\",\"subtype\":\"Figure\",\"type\":\"Plot\"},\"ticker\":{\"id\":\"d9319b6a-8f39-4e26-9703-159c906f621a\",\"type\":\"BasicTicker\"}},\"id\":\"5f0f79ac-ce66-4f9a-a759-9eeb1e367842\",\"type\":\"LinearAxis\"},{\"attributes\":{\"dimension\":1,\"plot\":{\"id\":\"18781136-74ae-4dff-abf1-69d751e38a32\",\"subtype\":\"Figure\",\"type\":\"Plot\"},\"ticker\":{\"id\":\"6b0f72d4-98ed-4a4e-ac0c-243aa5246f46\",\"type\":\"BasicTicker\"}},\"id\":\"a2b8f76b-400e-4d79-9061-ad96bb883a5f\",\"type\":\"Grid\"},{\"attributes\":{\"plot\":{\"id\":\"18781136-74ae-4dff-abf1-69d751e38a32\",\"subtype\":\"Figure\",\"type\":\"Plot\"}},\"id\":\"2d0ce1d1-6f17-417a-81e4-bf983234da9e\",\"type\":\"SaveTool\"},{\"attributes\":{},\"id\":\"6b0f72d4-98ed-4a4e-ac0c-243aa5246f46\",\"type\":\"BasicTicker\"},{\"attributes\":{\"data_source\":{\"id\":\"d1a2d77e-c684-4911-8676-723b29d0c609\",\"type\":\"ColumnDataSource\"},\"glyph\":{\"id\":\"21e8478d-8e4b-45c7-b474-f761cd1839c8\",\"type\":\"Quad\"},\"hover_glyph\":null,\"nonselection_glyph\":{\"id\":\"ce67bfdd-76f6-43aa-b8ae-c04283bd0820\",\"type\":\"Quad\"},\"selection_glyph\":null},\"id\":\"f13c9f17-4b48-4c96-b85f-dd9a75cefed9\",\"type\":\"GlyphRenderer\"},{\"attributes\":{\"plot\":{\"id\":\"18781136-74ae-4dff-abf1-69d751e38a32\",\"subtype\":\"Figure\",\"type\":\"Plot\"}},\"id\":\"941c98e7-c968-45de-b03d-62619872cf54\",\"type\":\"ResetTool\"},{\"attributes\":{\"plot\":{\"id\":\"18781136-74ae-4dff-abf1-69d751e38a32\",\"subtype\":\"Figure\",\"type\":\"Plot\"}},\"id\":\"58eb3c59-ba1f-4961-9dd8-49aa48c3a90b\",\"type\":\"WheelZoomTool\"},{\"attributes\":{\"below\":[{\"id\":\"5f0f79ac-ce66-4f9a-a759-9eeb1e367842\",\"type\":\"LinearAxis\"}],\"left\":[{\"id\":\"c6c166b1-0a88-4c3c-882c-c78ca8b52aca\",\"type\":\"LinearAxis\"}],\"renderers\":[{\"id\":\"5f0f79ac-ce66-4f9a-a759-9eeb1e367842\",\"type\":\"LinearAxis\"},{\"id\":\"565db1af-b7d8-4203-be31-5c54d5b876b0\",\"type\":\"Grid\"},{\"id\":\"c6c166b1-0a88-4c3c-882c-c78ca8b52aca\",\"type\":\"LinearAxis\"},{\"id\":\"a2b8f76b-400e-4d79-9061-ad96bb883a5f\",\"type\":\"Grid\"},{\"id\":\"f13c9f17-4b48-4c96-b85f-dd9a75cefed9\",\"type\":\"GlyphRenderer\"}],\"title\":{\"id\":\"abf6b6a0-6fdc-4bdd-bf1d-839849be50f3\",\"type\":\"Title\"},\"tool_events\":{\"id\":\"37374a64-6e2d-4f44-9dad-c0eb2a6e68c8\",\"type\":\"ToolEvents\"},\"toolbar\":{\"id\":\"e1f22712-b9dd-4f0f-986f-ca11045aae83\",\"type\":\"Toolbar\"},\"toolbar_location\":\"above\",\"x_range\":{\"id\":\"28bc6208-2e61-4f9d-bb63-8c527e7dbf6f\",\"type\":\"DataRange1d\"},\"y_range\":{\"id\":\"601ba878-dc0b-4b34-a9bf-4951f2a9a68f\",\"type\":\"DataRange1d\"}},\"id\":\"18781136-74ae-4dff-abf1-69d751e38a32\",\"subtype\":\"Figure\",\"type\":\"Plot\"},{\"attributes\":{},\"id\":\"becc8d32-606d-4b38-8a87-fdd3b3b46038\",\"type\":\"BasicTickFormatter\"},{\"attributes\":{\"bottom\":{\"value\":0},\"fill_color\":{\"value\":\"#1f77b4\"},\"left\":{\"field\":\"left\"},\"line_color\":{\"value\":\"#555555\"},\"right\":{\"field\":\"right\"},\"top\":{\"field\":\"top\"}},\"id\":\"21e8478d-8e4b-45c7-b474-f761cd1839c8\",\"type\":\"Quad\"},{\"attributes\":{\"plot\":null,\"text\":\"Top-1000 words distribution\"},\"id\":\"abf6b6a0-6fdc-4bdd-bf1d-839849be50f3\",\"type\":\"Title\"},{\"attributes\":{\"plot\":{\"id\":\"18781136-74ae-4dff-abf1-69d751e38a32\",\"subtype\":\"Figure\",\"type\":\"Plot\"}},\"id\":\"8887c37d-ab6c-432c-955c-c0e99eb629ab\",\"type\":\"PanTool\"},{\"attributes\":{\"callback\":null,\"column_names\":[\"left\",\"right\",\"top\"],\"data\":{\"left\":[0.0,0.01,0.02,0.03,0.04,0.05,0.06,0.07,0.08,0.09,0.1,0.11,0.12,0.13,0.14,0.15,0.16,0.17,0.18,0.19,0.2,0.21,0.22,0.23,0.24,0.25,0.26,0.27,0.28,0.29,0.3,0.31,0.32,0.33,0.34,0.35000000000000003,0.36,0.37,0.38,0.39,0.4,0.41000000000000003,0.42,0.43,0.44,0.45,0.46,0.47000000000000003,0.48,0.49,0.5,0.51,0.52,0.53,0.54,0.55,0.56,0.5700000000000001,0.58,0.59,0.6,0.61,0.62,0.63,0.64,0.65,0.66,0.67,0.68,0.6900000000000001,0.7000000000000001,0.71,0.72,0.73,0.74,0.75,0.76,0.77,0.78,0.79,0.8,0.81,0.8200000000000001,0.8300000000000001,0.84,0.85,0.86,0.87,0.88,0.89,0.9,0.91,0.92,0.93,0.9400000000000001,0.9500000000000001,0.96,0.97,0.98,0.99],\"right\":[0.01,0.02,0.03,0.04,0.05,0.06,0.07,0.08,0.09,0.1,0.11,0.12,0.13,0.14,0.15,0.16,0.17,0.18,0.19,0.2,0.21,0.22,0.23,0.24,0.25,0.26,0.27,0.28,0.29,0.3,0.31,0.32,0.33,0.34,0.35000000000000003,0.36,0.37,0.38,0.39,0.4,0.41000000000000003,0.42,0.43,0.44,0.45,0.46,0.47000000000000003,0.48,0.49,0.5,0.51,0.52,0.53,0.54,0.55,0.56,0.5700000000000001,0.58,0.59,0.6,0.61,0.62,0.63,0.64,0.65,0.66,0.67,0.68,0.6900000000000001,0.7000000000000001,0.71,0.72,0.73,0.74,0.75,0.76,0.77,0.78,0.79,0.8,0.81,0.8200000000000001,0.8300000000000001,0.84,0.85,0.86,0.87,0.88,0.89,0.9,0.91,0.92,0.93,0.9400000000000001,0.9500000000000001,0.96,0.97,0.98,0.99,1.0],\"top\":[\"NaN\",\"NaN\",\"NaN\",\"NaN\",\"NaN\",\"NaN\",\"NaN\",\"NaN\",\"NaN\",\"NaN\",\"NaN\",\"NaN\",\"NaN\",\"NaN\",\"NaN\",\"NaN\",\"NaN\",\"NaN\",\"NaN\",\"NaN\",\"NaN\",\"NaN\",\"NaN\",\"NaN\",\"NaN\",\"NaN\",\"NaN\",\"NaN\",\"NaN\",\"NaN\",\"NaN\",\"NaN\",\"NaN\",\"NaN\",\"NaN\",\"NaN\",\"NaN\",\"NaN\",\"NaN\",\"NaN\",\"NaN\",\"NaN\",\"NaN\",\"NaN\",\"NaN\",\"NaN\",\"NaN\",\"NaN\",\"NaN\",\"NaN\",\"NaN\",\"NaN\",\"NaN\",\"NaN\",\"NaN\",\"NaN\",\"NaN\",\"NaN\",\"NaN\",\"NaN\",\"NaN\",\"NaN\",\"NaN\",\"NaN\",\"NaN\",\"NaN\",\"NaN\",\"NaN\",\"NaN\",\"NaN\",\"NaN\",\"NaN\",\"NaN\",\"NaN\",\"NaN\",\"NaN\",\"NaN\",\"NaN\",\"NaN\",\"NaN\",\"NaN\",\"NaN\",\"NaN\",\"NaN\",\"NaN\",\"NaN\",\"NaN\",\"NaN\",\"NaN\",\"NaN\",\"NaN\",\"NaN\",\"NaN\",\"NaN\",\"NaN\",\"NaN\",\"NaN\",\"NaN\",\"NaN\",\"NaN\"]}},\"id\":\"d1a2d77e-c684-4911-8676-723b29d0c609\",\"type\":\"ColumnDataSource\"},{\"attributes\":{},\"id\":\"6e2310db-ad05-4fe2-9e51-d5c8b8d52353\",\"type\":\"BasicTickFormatter\"},{\"attributes\":{\"bottom\":{\"value\":0},\"fill_alpha\":{\"value\":0.1},\"fill_color\":{\"value\":\"#1f77b4\"},\"left\":{\"field\":\"left\"},\"line_alpha\":{\"value\":0.1},\"line_color\":{\"value\":\"#1f77b4\"},\"right\":{\"field\":\"right\"},\"top\":{\"field\":\"top\"}},\"id\":\"ce67bfdd-76f6-43aa-b8ae-c04283bd0820\",\"type\":\"Quad\"},{\"attributes\":{\"callback\":null},\"id\":\"28bc6208-2e61-4f9d-bb63-8c527e7dbf6f\",\"type\":\"DataRange1d\"},{\"attributes\":{\"active_drag\":\"auto\",\"active_scroll\":\"auto\",\"active_tap\":\"auto\",\"tools\":[{\"id\":\"8887c37d-ab6c-432c-955c-c0e99eb629ab\",\"type\":\"PanTool\"},{\"id\":\"58eb3c59-ba1f-4961-9dd8-49aa48c3a90b\",\"type\":\"WheelZoomTool\"},{\"id\":\"941c98e7-c968-45de-b03d-62619872cf54\",\"type\":\"ResetTool\"},{\"id\":\"2d0ce1d1-6f17-417a-81e4-bf983234da9e\",\"type\":\"SaveTool\"}]},\"id\":\"e1f22712-b9dd-4f0f-986f-ca11045aae83\",\"type\":\"Toolbar\"},{\"attributes\":{\"plot\":{\"id\":\"18781136-74ae-4dff-abf1-69d751e38a32\",\"subtype\":\"Figure\",\"type\":\"Plot\"},\"ticker\":{\"id\":\"d9319b6a-8f39-4e26-9703-159c906f621a\",\"type\":\"BasicTicker\"}},\"id\":\"565db1af-b7d8-4203-be31-5c54d5b876b0\",\"type\":\"Grid\"},{\"attributes\":{\"formatter\":{\"id\":\"6e2310db-ad05-4fe2-9e51-d5c8b8d52353\",\"type\":\"BasicTickFormatter\"},\"plot\":{\"id\":\"18781136-74ae-4dff-abf1-69d751e38a32\",\"subtype\":\"Figure\",\"type\":\"Plot\"},\"ticker\":{\"id\":\"6b0f72d4-98ed-4a4e-ac0c-243aa5246f46\",\"type\":\"BasicTicker\"}},\"id\":\"c6c166b1-0a88-4c3c-882c-c78ca8b52aca\",\"type\":\"LinearAxis\"},{\"attributes\":{},\"id\":\"37374a64-6e2d-4f44-9dad-c0eb2a6e68c8\",\"type\":\"ToolEvents\"},{\"attributes\":{\"callback\":null},\"id\":\"601ba878-dc0b-4b34-a9bf-4951f2a9a68f\",\"type\":\"DataRange1d\"},{\"attributes\":{},\"id\":\"d9319b6a-8f39-4e26-9703-159c906f621a\",\"type\":\"BasicTicker\"}],\"root_ids\":[\"18781136-74ae-4dff-abf1-69d751e38a32\"]},\"title\":\"Bokeh Application\",\"version\":\"0.12.2\"}};\n",
       "            var render_items = [{\"docid\":\"b8142c35-7157-4076-8982-4fdbbb489e62\",\"elementid\":\"6f8ebf66-74e6-47a3-bb51-4768a1784e1b\",\"modelid\":\"18781136-74ae-4dff-abf1-69d751e38a32\"}];\n",
       "            \n",
       "            Bokeh.embed.embed_items(docs_json, render_items);\n",
       "        });\n",
       "      },\n",
       "      function(Bokeh) {\n",
       "      }\n",
       "    ];\n",
       "  \n",
       "    function run_inline_js() {\n",
       "      \n",
       "      if ((window.Bokeh !== undefined) || (force === \"1\")) {\n",
       "        for (var i = 0; i < inline_js.length; i++) {\n",
       "          inline_js[i](window.Bokeh);\n",
       "        }if (force === \"1\") {\n",
       "          display_loaded();\n",
       "        }} else if (Date.now() < window._bokeh_timeout) {\n",
       "        setTimeout(run_inline_js, 100);\n",
       "      } else if (!window._bokeh_failed_load) {\n",
       "        console.log(\"Bokeh: BokehJS failed to load within specified timeout.\");\n",
       "        window._bokeh_failed_load = true;\n",
       "      } else if (!force) {\n",
       "        var cell = $(\"#6f8ebf66-74e6-47a3-bb51-4768a1784e1b\").parents('.cell').data().cell;\n",
       "        cell.output_area.append_execute_result(NB_LOAD_WARNING)\n",
       "      }\n",
       "  \n",
       "    }\n",
       "  \n",
       "    if (window._bokeh_is_loading === 0) {\n",
       "      console.log(\"Bokeh: BokehJS loaded, going straight to plotting\");\n",
       "      run_inline_js();\n",
       "    } else {\n",
       "      load_libs(js_urls, function() {\n",
       "        console.log(\"Bokeh: BokehJS plotting callback run at\", now());\n",
       "        run_inline_js();\n",
       "      });\n",
       "    }\n",
       "  }(this));\n",
       "</script>"
      ]
     },
     "metadata": {},
     "output_type": "display_data"
    }
   ],
   "source": [
    "hist, edges = np.histogram(counts_ted_top1000, density=True, bins=100, normed=True)\n",
    "\n",
    "p = figure(tools=\"pan,wheel_zoom,reset,save\",\n",
    "           toolbar_location=\"above\",\n",
    "           title=\"Top-1000 words distribution\")\n",
    "p.quad(top=hist, bottom=0, left=edges[:-1], right=edges[1:], line_color=\"#555555\")\n",
    "show(p)"
   ]
  },
  {
   "cell_type": "markdown",
   "metadata": {},
   "source": [
    "### Part 3: Train Word2Vec"
   ]
  },
  {
   "cell_type": "code",
   "execution_count": 24,
   "metadata": {
    "collapsed": false,
    "scrolled": true
   },
   "outputs": [],
   "source": [
    "from gensim.models import Word2Vec"
   ]
  },
  {
   "cell_type": "code",
   "execution_count": 25,
   "metadata": {
    "collapsed": false
   },
   "outputs": [],
   "source": [
    "# my code edit 2\n",
    "\n",
    "# initialize a model with min_count = 10\n",
    "model_ted = Word2Vec(sentences_ted,min_count = 0)"
   ]
  },
  {
   "cell_type": "code",
   "execution_count": 26,
   "metadata": {
    "collapsed": false,
    "scrolled": true
   },
   "outputs": [
    {
     "name": "stdout",
     "output_type": "stream",
     "text": [
      "54454\n"
     ]
    }
   ],
   "source": [
    "print (len(model_ted.vocab))\n",
    "#save the model\n",
    "model_ted.save('ted_model')\n"
   ]
  },
  {
   "cell_type": "markdown",
   "metadata": {},
   "source": [
    "### Part 4: Ted Learnt Representations"
   ]
  },
  {
   "cell_type": "markdown",
   "metadata": {},
   "source": [
    "Finding similar words: (see gensim docs for more functionality of `most_similar`)"
   ]
  },
  {
   "cell_type": "code",
   "execution_count": 41,
   "metadata": {
    "collapsed": false
   },
   "outputs": [
    {
     "data": {
      "text/plain": [
       "[('woman', 0.8510145545005798),\n",
       " ('guy', 0.8070447444915771),\n",
       " ('lady', 0.770460844039917),\n",
       " ('girl', 0.7613636255264282),\n",
       " ('boy', 0.7463864684104919),\n",
       " ('soldier', 0.7284667491912842),\n",
       " ('gentleman', 0.7011345624923706),\n",
       " ('kid', 0.6866320371627808),\n",
       " ('poet', 0.6641428470611572),\n",
       " ('philosopher', 0.6617022752761841)]"
      ]
     },
     "execution_count": 41,
     "metadata": {},
     "output_type": "execute_result"
    }
   ],
   "source": [
    "model_ted.most_similar(\"man\")"
   ]
  },
  {
   "cell_type": "code",
   "execution_count": 42,
   "metadata": {
    "collapsed": false
   },
   "outputs": [
    {
     "data": {
      "text/plain": [
       "[('machine', 0.7647178173065186),\n",
       " ('software', 0.7128764390945435),\n",
       " ('robot', 0.7085899114608765),\n",
       " ('3d', 0.6907616853713989),\n",
       " ('device', 0.67992103099823),\n",
       " ('program', 0.658528745174408),\n",
       " ('chip', 0.6585046648979187),\n",
       " ('camera', 0.6582038998603821),\n",
       " ('video', 0.6315593719482422),\n",
       " ('printer', 0.630183756351471)]"
      ]
     },
     "execution_count": 42,
     "metadata": {},
     "output_type": "execute_result"
    }
   ],
   "source": [
    "model_ted.most_similar(\"computer\")"
   ]
  },
  {
   "cell_type": "code",
   "execution_count": 56,
   "metadata": {
    "collapsed": false
   },
   "outputs": [
    {
     "data": {
      "text/plain": [
       "[('mathematics', 0.6643838882446289),\n",
       " ('culture', 0.659943163394928),\n",
       " ('english', 0.6539066433906555),\n",
       " ('logic', 0.6274464130401611),\n",
       " ('narrative', 0.6246222257614136),\n",
       " ('nature', 0.6029856204986572),\n",
       " ('domain', 0.5986967086791992),\n",
       " ('desire', 0.592326283454895),\n",
       " ('meaning', 0.588565468788147),\n",
       " ('empathy', 0.5859334468841553)]"
      ]
     },
     "execution_count": 56,
     "metadata": {},
     "output_type": "execute_result"
    }
   ],
   "source": [
    "# my edit: alternative words with interesting nearest neighbors\n",
    "model_ted.most_similar(\"language\")"
   ]
  },
  {
   "cell_type": "markdown",
   "metadata": {},
   "source": [
    "#### t-SNE visualization\n",
    "To use the t-SNE code below, first put a list of the top 1000 words (as strings) into a variable `words_top_ted`. The following code gets the corresponding vectors from the model, assuming it's called `model_ted`:"
   ]
  },
  {
   "cell_type": "code",
   "execution_count": 44,
   "metadata": {
    "collapsed": true
   },
   "outputs": [],
   "source": [
    "# my edit\n",
    "words_top_ted = [tup[0] for tup in top1000WordCounts]"
   ]
  },
  {
   "cell_type": "code",
   "execution_count": 45,
   "metadata": {
    "collapsed": false
   },
   "outputs": [],
   "source": [
    "# This assumes words_top_ted is a list of strings, the top 1000 words\n",
    "words_top_vec_ted = model_ted[words_top_ted]"
   ]
  },
  {
   "cell_type": "code",
   "execution_count": 46,
   "metadata": {
    "collapsed": false
   },
   "outputs": [],
   "source": [
    "from sklearn.manifold import TSNE\n",
    "tsne = TSNE(n_components=2, random_state=0)\n",
    "words_top_ted_tsne = tsne.fit_transform(words_top_vec_ted)"
   ]
  },
  {
   "cell_type": "code",
   "execution_count": 47,
   "metadata": {
    "collapsed": false
   },
   "outputs": [
    {
     "data": {
      "text/html": [
       "\n",
       "\n",
       "    <div class=\"bk-root\">\n",
       "        <div class=\"plotdiv\" id=\"54f18c15-af9a-4cb9-8bd3-ec25e3c75c85\"></div>\n",
       "    </div>\n",
       "<script type=\"text/javascript\">\n",
       "  \n",
       "  (function(global) {\n",
       "    function now() {\n",
       "      return new Date();\n",
       "    }\n",
       "  \n",
       "    var force = \"\";\n",
       "  \n",
       "    if (typeof (window._bokeh_onload_callbacks) === \"undefined\" || force !== \"\") {\n",
       "      window._bokeh_onload_callbacks = [];\n",
       "      window._bokeh_is_loading = undefined;\n",
       "    }\n",
       "  \n",
       "  \n",
       "    \n",
       "    if (typeof (window._bokeh_timeout) === \"undefined\" || force !== \"\") {\n",
       "      window._bokeh_timeout = Date.now() + 0;\n",
       "      window._bokeh_failed_load = false;\n",
       "    }\n",
       "  \n",
       "    var NB_LOAD_WARNING = {'data': {'text/html':\n",
       "       \"<div style='background-color: #fdd'>\\n\"+\n",
       "       \"<p>\\n\"+\n",
       "       \"BokehJS does not appear to have successfully loaded. If loading BokehJS from CDN, this \\n\"+\n",
       "       \"may be due to a slow or bad network connection. Possible fixes:\\n\"+\n",
       "       \"</p>\\n\"+\n",
       "       \"<ul>\\n\"+\n",
       "       \"<li>re-rerun `output_notebook()` to attempt to load from CDN again, or</li>\\n\"+\n",
       "       \"<li>use INLINE resources instead, as so:</li>\\n\"+\n",
       "       \"</ul>\\n\"+\n",
       "       \"<code>\\n\"+\n",
       "       \"from bokeh.resources import INLINE\\n\"+\n",
       "       \"output_notebook(resources=INLINE)\\n\"+\n",
       "       \"</code>\\n\"+\n",
       "       \"</div>\"}};\n",
       "  \n",
       "    function display_loaded() {\n",
       "      if (window.Bokeh !== undefined) {\n",
       "        Bokeh.$(\"#54f18c15-af9a-4cb9-8bd3-ec25e3c75c85\").text(\"BokehJS successfully loaded.\");\n",
       "      } else if (Date.now() < window._bokeh_timeout) {\n",
       "        setTimeout(display_loaded, 100)\n",
       "      }\n",
       "    }\n",
       "  \n",
       "    function run_callbacks() {\n",
       "      window._bokeh_onload_callbacks.forEach(function(callback) { callback() });\n",
       "      delete window._bokeh_onload_callbacks\n",
       "      console.info(\"Bokeh: all callbacks have finished\");\n",
       "    }\n",
       "  \n",
       "    function load_libs(js_urls, callback) {\n",
       "      window._bokeh_onload_callbacks.push(callback);\n",
       "      if (window._bokeh_is_loading > 0) {\n",
       "        console.log(\"Bokeh: BokehJS is being loaded, scheduling callback at\", now());\n",
       "        return null;\n",
       "      }\n",
       "      if (js_urls == null || js_urls.length === 0) {\n",
       "        run_callbacks();\n",
       "        return null;\n",
       "      }\n",
       "      console.log(\"Bokeh: BokehJS not loaded, scheduling load and callback at\", now());\n",
       "      window._bokeh_is_loading = js_urls.length;\n",
       "      for (var i = 0; i < js_urls.length; i++) {\n",
       "        var url = js_urls[i];\n",
       "        var s = document.createElement('script');\n",
       "        s.src = url;\n",
       "        s.async = false;\n",
       "        s.onreadystatechange = s.onload = function() {\n",
       "          window._bokeh_is_loading--;\n",
       "          if (window._bokeh_is_loading === 0) {\n",
       "            console.log(\"Bokeh: all BokehJS libraries loaded\");\n",
       "            run_callbacks()\n",
       "          }\n",
       "        };\n",
       "        s.onerror = function() {\n",
       "          console.warn(\"failed to load library \" + url);\n",
       "        };\n",
       "        console.log(\"Bokeh: injecting script tag for BokehJS library: \", url);\n",
       "        document.getElementsByTagName(\"head\")[0].appendChild(s);\n",
       "      }\n",
       "    };var element = document.getElementById(\"54f18c15-af9a-4cb9-8bd3-ec25e3c75c85\");\n",
       "    if (element == null) {\n",
       "      console.log(\"Bokeh: ERROR: autoload.js configured with elementid '54f18c15-af9a-4cb9-8bd3-ec25e3c75c85' but no matching script tag was found. \")\n",
       "      return false;\n",
       "    }\n",
       "  \n",
       "    var js_urls = [];\n",
       "  \n",
       "    var inline_js = [\n",
       "      function(Bokeh) {\n",
       "        Bokeh.$(function() {\n",
       "            var docs_json = {\"b1cb9485-65a2-4ed6-99f8-8c149802b6d7\":{\"roots\":{\"references\":[{\"attributes\":{\"active_drag\":\"auto\",\"active_scroll\":\"auto\",\"active_tap\":\"auto\",\"tools\":[{\"id\":\"6130c594-98dc-4b77-9e4e-453065b5ab34\",\"type\":\"PanTool\"},{\"id\":\"351a5cbb-b86e-4c72-a3e9-9148ea0a6305\",\"type\":\"WheelZoomTool\"},{\"id\":\"c848a66b-f6e7-4940-84e0-f2f2a2ca4a65\",\"type\":\"ResetTool\"},{\"id\":\"4e89b312-151c-4849-b216-abd236acdf1b\",\"type\":\"SaveTool\"}]},\"id\":\"69439eb2-559e-443e-bbfb-fab75632f5b1\",\"type\":\"Toolbar\"},{\"attributes\":{\"plot\":{\"id\":\"394fa3f7-08e1-4718-85fd-f5d6ca3123b0\",\"subtype\":\"Figure\",\"type\":\"Plot\"}},\"id\":\"351a5cbb-b86e-4c72-a3e9-9148ea0a6305\",\"type\":\"WheelZoomTool\"},{\"attributes\":{\"plot\":{\"id\":\"394fa3f7-08e1-4718-85fd-f5d6ca3123b0\",\"subtype\":\"Figure\",\"type\":\"Plot\"}},\"id\":\"6130c594-98dc-4b77-9e4e-453065b5ab34\",\"type\":\"PanTool\"},{\"attributes\":{\"dimension\":1,\"plot\":{\"id\":\"394fa3f7-08e1-4718-85fd-f5d6ca3123b0\",\"subtype\":\"Figure\",\"type\":\"Plot\"},\"ticker\":{\"id\":\"6ec8738c-cc52-4f71-a3a3-5db2ced6fd86\",\"type\":\"BasicTicker\"}},\"id\":\"3f5524a3-28ac-4549-b0fa-133b14df4305\",\"type\":\"Grid\"},{\"attributes\":{},\"id\":\"168014d2-9e50-47e7-ace4-2e681ff782fa\",\"type\":\"BasicTicker\"},{\"attributes\":{\"below\":[{\"id\":\"4514c345-0a33-416b-9070-25ac2c8d40b8\",\"type\":\"LinearAxis\"}],\"left\":[{\"id\":\"e9e6752d-3a4f-485b-be95-b2dc4c0f4a18\",\"type\":\"LinearAxis\"}],\"renderers\":[{\"id\":\"4514c345-0a33-416b-9070-25ac2c8d40b8\",\"type\":\"LinearAxis\"},{\"id\":\"cddea8f1-4694-4142-a57b-69f7c5bd7a4f\",\"type\":\"Grid\"},{\"id\":\"e9e6752d-3a4f-485b-be95-b2dc4c0f4a18\",\"type\":\"LinearAxis\"},{\"id\":\"3f5524a3-28ac-4549-b0fa-133b14df4305\",\"type\":\"Grid\"},{\"id\":\"0b8a0c6c-c48c-4df8-81f3-bc2a3e1fa693\",\"type\":\"GlyphRenderer\"},{\"id\":\"4ccefeff-d4d3-4edb-82b9-4a9aa0a271e9\",\"type\":\"LabelSet\"}],\"title\":{\"id\":\"ac0ffdc4-a673-407e-a7c1-99ec7520bb41\",\"type\":\"Title\"},\"tool_events\":{\"id\":\"cc72f40f-662f-412e-8042-f14e20a496fa\",\"type\":\"ToolEvents\"},\"toolbar\":{\"id\":\"69439eb2-559e-443e-bbfb-fab75632f5b1\",\"type\":\"Toolbar\"},\"toolbar_location\":\"above\",\"x_range\":{\"id\":\"d7dd4922-d8ff-46b8-ab3e-8f7907c3d586\",\"type\":\"DataRange1d\"},\"y_range\":{\"id\":\"5c4d3fc7-1ed9-4663-b9a0-74e242465d95\",\"type\":\"DataRange1d\"}},\"id\":\"394fa3f7-08e1-4718-85fd-f5d6ca3123b0\",\"subtype\":\"Figure\",\"type\":\"Plot\"},{\"attributes\":{\"callback\":null,\"column_names\":[\"names\",\"x1\",\"x2\"],\"data\":{\"names\":[\"the\",\"and\",\"to\",\"of\",\"a\",\"that\",\"i\",\"in\",\"it\",\"you\",\"we\",\"is\",\"s\",\"this\",\"so\",\"they\",\"was\",\"for\",\"are\",\"have\",\"but\",\"what\",\"on\",\"with\",\"can\",\"t\",\"about\",\"there\",\"be\",\"as\",\"at\",\"all\",\"not\",\"do\",\"my\",\"one\",\"re\",\"people\",\"like\",\"if\",\"from\",\"now\",\"our\",\"he\",\"an\",\"just\",\"these\",\"or\",\"when\",\"because\",\"very\",\"me\",\"out\",\"by\",\"them\",\"how\",\"know\",\"up\",\"going\",\"had\",\"more\",\"think\",\"who\",\"were\",\"see\",\"your\",\"their\",\"which\",\"would\",\"here\",\"really\",\"get\",\"ve\",\"then\",\"m\",\"world\",\"us\",\"time\",\"some\",\"has\",\"don\",\"actually\",\"into\",\"way\",\"where\",\"will\",\"years\",\"things\",\"other\",\"no\",\"could\",\"go\",\"well\",\"want\",\"been\",\"make\",\"right\",\"she\",\"said\",\"something\",\"those\",\"first\",\"two\",\"than\",\"much\",\"also\",\"look\",\"new\",\"thing\",\"little\",\"got\",\"back\",\"over\",\"most\",\"say\",\"even\",\"his\",\"life\",\"only\",\"work\",\"many\",\"take\",\"need\",\"did\",\"lot\",\"kind\",\"why\",\"good\",\"around\",\"every\",\"different\",\"down\",\"ll\",\"let\",\"her\",\"through\",\"same\",\"being\",\"come\",\"d\",\"day\",\"year\",\"three\",\"use\",\"doing\",\"put\",\"called\",\"any\",\"today\",\"percent\",\"made\",\"after\",\"thank\",\"tell\",\"great\",\"human\",\"find\",\"didn\",\"fact\",\"talk\",\"change\",\"started\",\"another\",\"idea\",\"big\",\"last\",\"own\",\"before\",\"its\",\"never\",\"should\",\"better\",\"give\",\"thought\",\"went\",\"might\",\"important\",\"000\",\"again\",\"together\",\"able\",\"still\",\"problem\",\"off\",\"next\",\"part\",\"course\",\"system\",\"him\",\"does\",\"each\",\"start\",\"show\",\"long\",\"ago\",\"story\",\"came\",\"brain\",\"few\",\"bit\",\"between\",\"used\",\"place\",\"technology\",\"women\",\"too\",\"old\",\"mean\",\"data\",\"water\",\"looking\",\"question\",\"maybe\",\"found\",\"love\",\"doesn\",\"end\",\"example\",\"10\",\"done\",\"point\",\"four\",\"real\",\"wanted\",\"ever\",\"school\",\"understand\",\"sort\",\"live\",\"call\",\"whole\",\"always\",\"children\",\"trying\",\"may\",\"person\",\"away\",\"feel\",\"believe\",\"try\",\"million\",\"working\",\"help\",\"everything\",\"five\",\"country\",\"thinking\",\"second\",\"using\",\"information\",\"money\",\"means\",\"power\",\"took\",\"times\",\"high\",\"space\",\"number\",\"kids\",\"home\",\"become\",\"create\",\"small\",\"design\",\"making\",\"best\",\"left\",\"getting\",\"future\",\"enough\",\"man\",\"quite\",\"city\",\"without\",\"sense\",\"happened\",\"comes\",\"social\",\"probably\",\"less\",\"light\",\"talking\",\"energy\",\"am\",\"building\",\"science\",\"food\",\"body\",\"told\",\"interesting\",\"ask\",\"half\",\"pretty\",\"hard\",\"play\",\"anything\",\"lives\",\"countries\",\"coming\",\"such\",\"family\",\"stuff\",\"dollars\",\"earth\",\"moment\",\"20\",\"imagine\",\"across\",\"side\",\"saw\",\"while\",\"happen\",\"once\",\"okay\",\"build\",\"having\",\"men\",\"later\",\"experience\",\"makes\",\"asked\",\"living\",\"seen\",\"says\",\"room\",\"hand\",\"simple\",\"health\",\"ways\",\"else\",\"case\",\"almost\",\"yet\",\"young\",\"days\",\"nothing\",\"bad\",\"care\",\"happens\",\"goes\",\"move\",\"states\",\"reason\",\"computer\",\"open\",\"africa\",\"learn\",\"process\",\"inside\",\"someone\",\"six\",\"far\",\"project\",\"mind\",\"remember\",\"single\",\"picture\",\"both\",\"whether\",\"problems\",\"community\",\"basically\",\"saying\",\"already\",\"within\",\"looked\",\"myself\",\"billion\",\"possible\",\"often\",\"business\",\"planet\",\"global\",\"top\",\"everybody\",\"public\",\"sure\",\"set\",\"wrong\",\"car\",\"book\",\"keep\",\"answer\",\"yes\",\"oh\",\"sometimes\",\"hope\",\"history\",\"true\",\"war\",\"guy\",\"child\",\"instead\",\"months\",\"ideas\",\"looks\",\"matter\",\"government\",\"amazing\",\"united\",\"since\",\"bring\",\"age\",\"cells\",\"job\",\"heard\",\"until\",\"face\",\"wasn\",\"100\",\"read\",\"control\",\"isn\",\"research\",\"30\",\"words\",\"u\",\"group\",\"under\",\"self\",\"somebody\",\"built\",\"state\",\"woman\",\"turn\",\"beautiful\",\"friends\",\"line\",\"knew\",\"couple\",\"order\",\"form\",\"yeah\",\"internet\",\"middle\",\"music\",\"piece\",\"nature\",\"head\",\"though\",\"stop\",\"everyone\",\"50\",\"places\",\"video\",\"language\",\"learned\",\"run\",\"night\",\"decided\",\"word\",\"study\",\"cancer\",\"works\",\"taking\",\"became\",\"exactly\",\"species\",\"society\",\"completely\",\"education\",\"against\",\"stories\",\"large\",\"share\",\"level\",\"heart\",\"america\",\"model\",\"questions\",\"gets\",\"mother\",\"god\",\"company\",\"turns\",\"ourselves\",\"happening\",\"art\",\"hear\",\"themselves\",\"must\",\"itself\",\"kinds\",\"rather\",\"students\",\"name\",\"hours\",\"disease\",\"front\",\"house\",\"couldn\",\"huge\",\"created\",\"universe\",\"ok\",\"animals\",\"american\",\"environment\",\"worked\",\"minutes\",\"ones\",\"black\",\"perhaps\",\"1\",\"past\",\"third\",\"along\",\"finally\",\"others\",\"sound\",\"early\",\"game\",\"thousands\",\"century\",\"least\",\"based\",\"per\",\"ted\",\"lots\",\"figure\",\"free\",\"particular\",\"guys\",\"happy\",\"news\",\"learning\",\"entire\",\"won\",\"gave\",\"machine\",\"india\",\"during\",\"systems\",\"air\",\"difference\",\"outside\",\"taken\",\"natural\",\"seven\",\"changed\",\"given\",\"leave\",\"cell\",\"15\",\"close\",\"cities\",\"behind\",\"full\",\"scale\",\"china\",\"difficult\",\"takes\",\"companies\",\"yourself\",\"area\",\"reality\",\"seeing\",\"easy\",\"turned\",\"cost\",\"eyes\",\"team\",\"moving\",\"population\",\"culture\",\"york\",\"hands\",\"whatever\",\"began\",\"needs\",\"terms\",\"image\",\"simply\",\"needed\",\"beginning\",\"father\",\"local\",\"realized\",\"media\",\"death\",\"parents\",\"view\",\"walk\",\"white\",\"market\",\"parts\",\"ocean\",\"eight\",\"economic\",\"powerful\",\"week\",\"known\",\"size\",\"felt\",\"humans\",\"certain\",\"spend\",\"longer\",\"phone\",\"wonderful\",\"cannot\",\"grow\",\"common\",\"tried\",\"center\",\"fish\",\"land\",\"oil\",\"interested\",\"deal\",\"political\",\"red\",\"gone\",\"amount\",\"weeks\",\"opportunity\",\"spent\",\"lost\",\"paper\",\"quickly\",\"national\",\"blue\",\"step\",\"poor\",\"green\",\"buy\",\"growth\",\"wouldn\",\"either\",\"patients\",\"sitting\",\"ability\",\"changes\",\"write\",\"challenge\",\"south\",\"low\",\"friend\",\"growing\",\"field\",\"shows\",\"2\",\"rest\",\"born\",\"climate\",\"40\",\"test\",\"street\",\"incredible\",\"surface\",\"average\",\"pay\",\"morning\",\"scientists\",\"program\",\"physical\",\"value\",\"girl\",\"behavior\",\"hundreds\",\"feeling\",\"met\",\"economy\",\"dna\",\"complex\",\"access\",\"risk\",\"animal\",\"structure\",\"feet\",\"attention\",\"areas\",\"anyone\",\"deep\",\"watch\",\"short\",\"absolutely\",\"speak\",\"brought\",\"bottom\",\"die\",\"numbers\",\"audience\",\"stage\",\"realize\",\"law\",\"images\",\"wrote\",\"understanding\",\"knowledge\",\"books\",\"literally\",\"movement\",\"giving\",\"ground\",\"eat\",\"force\",\"alone\",\"seems\",\"telling\",\"starting\",\"hold\",\"nice\",\"forward\",\"sea\",\"developed\",\"individual\",\"kid\",\"millions\",\"support\",\"tools\",\"miles\",\"running\",\"online\",\"result\",\"act\",\"medical\",\"technologies\",\"north\",\"lab\",\"development\",\"blood\",\"fear\",\"map\",\"nobody\",\"personal\",\"voice\",\"issue\",\"key\",\"material\",\"12\",\"recently\",\"theory\",\"cut\",\"cars\",\"sun\",\"fast\",\"changing\",\"clear\",\"playing\",\"especially\",\"patient\",\"soon\",\"girls\",\"choice\",\"fly\",\"creating\",\"relationship\",\"talked\",\"normal\",\"europe\",\"discovered\",\"gives\",\"generation\",\"dark\",\"type\",\"showed\",\"asking\",\"chance\",\"industry\",\"seem\",\"rate\",\"designed\",\"fun\",\"hour\",\"color\",\"issues\",\"several\",\"computers\",\"class\",\"university\",\"innovation\",\"english\",\"tiny\",\"focus\",\"allow\",\"save\",\"digital\",\"solve\",\"developing\",\"film\",\"network\",\"special\",\"wall\",\"situation\",\"baby\",\"solution\",\"reasons\",\"box\",\"knows\",\"dead\",\"meet\",\"stand\",\"anybody\",\"begin\",\"impact\",\"haven\",\"term\",\"pictures\",\"beyond\",\"please\",\"ice\",\"produce\",\"shape\",\"non\",\"resources\",\"cool\",\"robot\",\"likely\",\"groups\",\"stay\",\"rights\",\"truth\",\"major\",\"available\",\"writing\",\"obviously\",\"cause\",\"evidence\",\"experiment\",\"modern\",\"drug\",\"incredibly\",\"becomes\",\"aren\",\"guess\",\"bigger\",\"drugs\",\"nine\",\"product\",\"lived\",\"involved\",\"perfect\",\"google\",\"month\",\"similar\",\"putting\",\"effect\",\"eye\",\"pick\",\"message\",\"quality\",\"violence\",\"web\",\"evolution\",\"security\",\"office\",\"indeed\",\"solar\",\"basic\",\"general\",\"towards\",\"present\",\"drive\",\"worth\",\"send\",\"listen\",\"revolution\",\"explain\",\"hundred\",\"died\",\"certainly\",\"ready\",\"teach\",\"25\",\"journey\",\"hit\",\"walking\",\"led\",\"international\",\"approach\",\"200\",\"scientific\",\"games\",\"chinese\",\"communities\",\"potential\",\"60\",\"crazy\",\"device\",\"camera\",\"source\",\"sex\",\"rules\",\"carbon\",\"sounds\",\"boy\",\"reach\",\"starts\",\"examples\",\"west\",\"3\",\"software\",\"particularly\",\"measure\",\"success\",\"totally\",\"suddenly\",\"action\",\"college\",\"higher\",\"code\",\"eventually\",\"democracy\",\"minute\",\"among\",\"sit\",\"largest\",\"hospital\",\"showing\",\"notice\",\"period\",\"develop\",\"mass\",\"onto\",\"dream\",\"memory\",\"break\",\"add\",\"plants\",\"11\",\"favorite\",\"zero\",\"everywhere\",\"schools\",\"speed\",\"response\",\"moved\",\"wants\",\"wait\",\"movie\",\"table\",\"extremely\",\"individuals\",\"trust\",\"anyway\",\"follow\",\"medicine\",\"biggest\",\"plant\",\"organization\",\"watching\",\"road\",\"creative\",\"worse\",\"choose\",\"500\",\"results\",\"lead\",\"exciting\",\"materials\",\"grew\",\"jobs\",\"positive\",\"plan\",\"poverty\",\"east\",\"fall\",\"safe\",\"strong\",\"essentially\",\"object\",\"door\",\"happiness\",\"continue\",\"further\",\"son\",\"vision\",\"doctor\",\"student\",\"including\",\"role\",\"named\",\"objects\",\"extraordinary\",\"standing\",\"skin\",\"projects\",\"leaders\",\"usually\",\"african\",\"conversation\",\"allowed\",\"models\",\"supposed\",\"interest\",\"faster\",\"families\",\"police\",\"fight\",\"tree\",\"connected\",\"cases\",\"5\",\"screen\",\"goal\",\"somewhere\",\"shown\",\"finding\",\"buildings\"],\"x1\":[1.7253627209018423,-5.7002935647018065,1.925263846079093,0.6652268607894984,3.3547810945505088,-4.982134020981678,1.8430521349442848,5.816510823413697,-5.299807300518143,-14.415397990818143,-14.334406994168718,1.983889525810702,2.117224192439592,-4.478108189650931,16.47217210331795,-14.306776724162802,-9.925927939678083,-6.86386821492825,18.57530094102911,-2.7927106850621772,17.254854296884613,15.985806639987645,6.511359572010464,3.8121610109535893,-18.90011696057069,-11.233142527056305,-14.202618688682158,-14.345487935267764,3.0950100094896102,-14.147801671863082,1.7356619287557586,-13.308572940827917,-10.006019617793712,0.9982579937848168,11.184614275582092,2.255565776318677,18.561136938412833,-4.0362693381027634,-11.240552444284212,-10.545268784065053,2.5747346879154653,11.403223496694547,-5.854660745120741,12.320655165488132,3.165445686196588,-8.204954773794126,-7.042209905366242,-8.693369975278214,-4.2560925952110535,17.17382473460191,-3.6275930973474764,13.363246148085217,4.948303195953299,-2.0944906523943576,-6.701344975246125,16.048396356267183,2.5102551647913667,5.350979178933573,-3.706929357722944,-4.692776508316213,-0.15530267785210783,1.4716852682708081,-2.2871137236917454,18.57709835437653,3.6984812931422475,2.464144144399404,-5.962172011331236,-4.758352114341863,-18.138999608747703,11.543399003425623,-4.454303524384761,7.330598217556616,-2.988688728880997,-4.056445750830121,-0.051432386809712655,-10.487609858525271,-7.018048224440324,-16.233043486223004,14.147112519023068,-4.554186892707385,12.132290436406027,-7.946605073735775,4.599097472646316,-11.635090700080504,-6.44246150882608,-19.616009809895953,-22.29234105690303,-11.954527647042498,-14.536003927341556,17.262995652679425,-18.430077882934302,8.539298058526537,14.93833584573208,8.235454903950044,-11.202992766743773,2.680114791243375,14.400841213008434,11.755692297105538,10.51696811865881,16.837888244879526,-7.035568792311665,2.1619193913552714,11.76667466511993,-10.11671395335501,-7.989440665522948,-8.004542614135149,-6.011757558668898,-8.639897236399491,-15.486426313569883,9.186155362748405,-9.098459620291676,3.8654970021876065,-6.615271682050266,1.053121755993921,0.6410471808419411,-9.824609373607531,11.333896632558004,-12.96634073083988,-10.056608498842303,-2.9465736799160864,14.8523322398205,7.065429101697728,8.26802638276874,6.301951541254461,14.696918295062574,4.521504877799086,17.36303389062609,-21.14939557345672,-6.56293585316979,-15.568159954512387,-17.107559382746242,4.095579249117912,-19.643078419316527,15.282795487313683,11.25278922135371,4.457370119124569,-7.966170332617276,-10.851935978959062,8.923833935061948,-17.746901386848062,9.28001989427609,-21.64544170181027,11.882008985934553,1.5583161858719745,-8.101729831196705,7.718161499581208,-14.691607413372362,16.927492014171577,11.331521049596535,17.17243221083697,-11.640197066410636,-2.0684729081401585,14.884583033398437,2.2768816048663427,-18.245493552374963,-13.773095925798398,4.583376411537628,11.991286191150616,-12.760075652712024,1.586990975767962,-0.6611751666028973,5.31005064066378,2.9829319554221922,-7.943182214709408,-17.398747501891492,-1.3623005204486887,-15.433864864947706,-3.1354053260968486,-4.308475667162237,-17.82019527371285,-19.159943399650043,-0.02438798995731073,7.441009775970795,-11.662583099440358,-7.711451828466923,-19.490869006922495,-19.175078474127734,16.654730222088606,-4.179282288810043,5.5370261346145035,-3.567740715754052,-9.07995521982574,-6.822342159090853,4.185533448426358,-1.2691579015241399,-8.21559643323987,-10.823492477492357,-10.79528514594145,13.249074211079034,8.641858110141685,-15.494653230135143,6.576082112426126,3.0194018053086427,-18.0775313968595,12.998245274306939,0.48263563961431943,-7.671924260265513,3.2561294549605715,11.350473015105035,0.5124236304874668,2.9710905171304107,-3.1462997484608137,-6.942981512757619,-8.087292902656419,-3.6630916113746146,-2.720964002784731,12.797527413793862,0.9021738160867817,-13.446364649506878,11.050942599743877,-6.019483846390869,-18.645174141362165,-9.435798645068058,-11.424274746051243,-10.133708683196021,12.120556334679417,10.702167842349507,-1.258886005226472,13.450355327988406,-12.91799774113414,-15.957888544878845,12.156713129439062,-15.578396113065317,7.272705768660654,-17.81745768217636,6.6977168589291045,1.5415882912949503,4.52277889541011,7.7393924344156995,-1.638186189954383,-3.609843538427077,-10.843059727679735,-3.2330283509213853,-3.7636763655153023,-19.6216224326696,4.058110306816576,4.1602642346791825,-1.09664955102798,1.711090992350849,6.370204713272123,16.583207447499962,-9.024181976504584,2.0455333854514133,17.29141813607713,12.71940836022545,8.088033755749104,-1.937327903772086,1.8042137503827322,-13.907326681494478,-13.427969797552212,-7.436835046067162,-9.312138449673972,-8.049075163292583,-8.199469890882272,-20.833583092129157,15.620270842411838,-14.494011726527843,14.129728860374948,-3.1393874750845048,6.83506805503714,3.149346448401522,2.472420224173342,-20.931745686581593,-4.496652010093143,-11.35938270063703,-0.5568007879983268,7.294841993941038,-5.446460633666223,-9.606673935994138,-2.266424658440015,5.083763340722147,-4.031759369687467,8.06324767501725,-4.950966644844119,-10.545119911692003,-9.9100869548124,3.150673685379255,-6.76624215386662,-9.843943374032634,-0.14613476178502904,11.374970241745912,-2.0608123806865226,3.556468094024993,-0.06528095585676882,-15.15322649857485,-4.288331536586225,-7.153213931003059,3.7876240219580777,-3.776853959314952,-19.241706839717914,-0.09535597217061696,13.837724425986023,-3.3653722749880086,4.979127103049875,5.226139015327777,17.160402848050353,-12.651208204883735,-7.5601646649095215,-4.553813926722381,-14.343219451530777,4.470870737691873,-3.190533259309011,-3.0146923928659044,12.886156113408163,-16.031405960186902,13.890430095599045,4.021854566747965,-6.560574069288068,7.294420109077393,-9.455992839559883,-6.042498196955571,3.069080207458959,-4.717980802317193,16.25837881607604,2.503357100078701,-6.806239673597222,-3.6314709599621366,12.95707220986596,-9.793593561077426,0.8475885321815311,-3.675874928382875,-14.115752218749565,-13.061140554966402,10.373788974965176,7.054466036586671,7.0871423268276,-18.295735595141803,-3.242107156056713,-10.823981485340244,18.98084008337956,-12.714911689958198,-7.158677151515873,-9.612817971324203,-2.6184012010988953,-22.69930257332377,17.23309132182848,-21.144093421096045,-16.557227160746393,-9.357460611992998,3.044863439339545,7.822137194087337,8.975891280132977,-19.337894991515867,-0.9003326947362008,-6.195995035515958,8.961101434508645,1.1421740671035066,-4.865012995964868,7.117306531473369,19.734976153588857,12.76150650183273,-8.014980763121898,-1.5092301692221115,3.879203951884569,3.220990099611902,-15.948985100359073,-0.6708007416062681,-13.147666374743489,-17.297713981519465,-10.951321530581833,-1.6131074978917066,-7.473384345697688,-2.7115846347316985,-8.846061600753513,0.07723714645989053,-6.373106532509845,1.8484136765491603,16.551001154223677,-12.826922122790501,-9.368792624641909,-2.8895320190524525,12.940625271949466,-5.666170962356351,10.435614130721527,18.89503689763286,-2.9690375950907946,-10.154748306087537,-1.1862957934549474,-12.030872371481657,6.258075269184097,1.210250438152384,6.903305521831063,-18.545301673577836,16.360914865432743,16.42566234434915,-9.318459314567871,-7.959053642197875,-11.485142797152658,-12.661673375753056,7.151213948392957,4.369557066969118,4.242930829921566,-5.55187281900948,-22.664453707474408,-10.938992456598017,-7.454525331159518,-11.617044317671711,-1.694072090600423,-18.8793116156905,9.788099155446135,-2.52210795272965,6.750759855433351,12.27250588204454,2.106188559333349,-6.418510170090594,-12.937625073453605,-3.1763323618879378,4.920862154510608,10.911455829097449,14.597062751615614,0.5492185187622903,0.25870429692813407,10.92211895575276,-1.5691465784672491,13.848356148801114,-11.99085248338576,8.720854792572235,-0.8084490828857767,7.271294031279974,-13.124822790870349,19.680603435858554,-12.828889082800849,-0.6333255013014913,3.7730282100322703,7.761787677647504,-18.697685509375265,-1.861497821438803,8.878268551943261,-11.53449628091575,11.356970854184857,-9.441916097132077,-3.7493095916971377,16.334937225613285,-3.5854980562540235,10.054273566729258,0.35387196921312913,-0.10662424019260547,-12.457826093382334,6.643654650558718,-10.170112827622608,6.8426999737757095,18.9290541645769,14.194948429105363,-8.573961579369183,0.21084600027355213,-12.359136381473913,-12.411355702009628,7.332981968734779,9.015213384784788,6.74881571088944,1.5157012173346918,-1.8468510245292395,7.142568496211505,-7.506165781965232,-5.590613637132025,-9.7269318303213,-6.757678899460061,-8.42517015480096,-6.813736516114805,-11.889280280321533,-2.850756820114361,2.327626190713694,-11.993188226902404,-20.92686409152588,4.265487997429688,12.375122189856715,3.995961373178727,8.880451788340528,-5.968629070761342,-11.716128275377045,2.7085963615665936,4.747326288130518,16.08189175947596,-1.4695986147414342,-3.903853486988158,-7.148063799168353,-9.373519546666895,-4.129984016974897,2.2732216725930465,-6.894748829403369,-19.149599909261067,-4.446919236520419,-10.045044953933672,0.1750938692142913,-2.6739807567501157,2.9483451230558266,-22.673734845972188,7.141046445797263,6.70609286319434,6.962166428529864,11.714665879852209,-17.000965128213135,-12.780309570769537,-12.712723220632133,16.10535732202778,-8.653603186931221,-0.0012232658408066754,-10.96316571712628,-10.011054513094773,-22.61345893121519,-9.992035561125247,9.903486322858306,-9.455706344019404,15.388046123986008,-1.6179535923702173,2.031842636324342,5.784681639014478,-3.978633965734648,-6.386671034488267,-12.471612754794052,-1.7214717092850602,-0.24824540567891257,15.07675832680051,-4.910713574010647,13.382456778643334,-14.560055415999537,15.210616201106943,9.436091246093415,14.559126884643451,4.697898817940275,-6.659025337387864,-16.08130991746944,-11.574510814370102,-9.816217398061394,-11.662619899499086,-14.581905117360455,-3.441034717029073,11.595457583273458,-8.326877396644063,-1.7539716844336153,8.76502494352802,-2.121992990855361,-9.076492294078632,10.797855327954736,-10.049211945375525,7.1766697089341065,-10.64323444648368,-16.807646567910663,13.293755618077705,-11.833460513477885,-11.494313790437749,5.2929660580644535,2.168557799196538,13.544012925753169,-8.869734025350985,-7.987899030219781,6.265838741395858,-5.601592787172665,-13.695529737676958,8.786924034460467,4.9664189837171095,1.878461724914106,-6.588853376266219,1.3710525611801683,0.8600790988824113,-11.75911105296748,-7.707617358326139,4.969674360580356,-4.000803978052385,12.389338966014607,5.739423899531976,-0.9878738810411889,-4.614037153933871,-4.636960110788993,-11.182664178073907,7.984570474672161,5.849430801256594,-17.252549923922906,5.487083057585016,8.527294743504878,-9.982933798675711,-0.9100373498701557,-8.908401661919392,7.294440566159689,-3.683595188602195,3.3277246138540715,-2.0486771391163368,-11.523198072568775,-3.892965384234938,-11.421387526236437,-2.010123700192366,-10.76477492764312,7.555298261563663,9.589642018469362,-3.7673197354373893,-8.968598390742878,10.11287639585443,13.265044342093722,-5.6847910917052635,-17.759946709809483,-21.892394376975336,-14.378664532907411,1.7666353451882952,-11.43216653181268,-8.284841413915457,-16.34181387339664,3.8099146706193645,0.26261674449123057,5.539869118111767,-18.48272772263889,-19.093281038448982,3.842288178252355,-17.072643226622304,6.7671240159591255,8.074512448095076,8.904065909251894,9.55429988768522,9.364833728195215,-15.620393574009851,-7.309915024731518,-6.094376529148269,9.559457178041237,-10.576587263840718,2.1835642987660533,-22.69815171072628,-6.967350918939736,-10.562681586322286,-11.014528227414957,6.126993292698095,-8.05187147213762,-1.2717600871617398,11.299642908547183,0.6508165590285409,-2.3788936102930265,9.998099331393133,5.398112637573653,-5.0002523452081515,11.636076498122348,-17.233293065051402,-4.98764858615704,-4.973598715846922,-9.21870396820799,-16.56826741850345,0.5410303064526514,-6.918524124895269,9.975682036938231,15.602661282880366,4.556163502182999,-6.207345961563097,-3.2112675492987424,-7.412286904387113,15.233057870878515,-12.902223064321761,-6.326701722265999,-5.844874532152298,14.26318038988737,-2.050877050258225,8.44008192817818,-18.775012553560554,10.505168337693961,15.510593197654247,5.056482939651842,8.968218069268945,-5.877847422866914,-1.8289769700757352,-16.532062144879138,-8.659461460150002,5.643184132064442,-10.93692644674551,15.059197213170231,-10.366137487802149,-10.149479078363097,-4.896036650242262,-2.4294507936741816,-17.70706761215976,1.1916420060635133,13.016172576708328,-0.1812819599335527,-2.9879627616623474,6.308304141694331,-8.647937151925696,-8.671885835872855,19.259434492507935,-6.100522241863713,5.442811327420259,-18.027647191802508,-11.506043436717759,3.8344424603272813,-9.747375285758078,10.506135225273844,6.119682727293324,-10.276638595850867,1.6465107704372088,9.146838944878292,2.6790242507327586,-0.31964375926261146,-11.179437608215716,-9.422801894324648,-13.813585610293895,-8.32805898983478,-11.850139903105063,-6.365159870165607,-6.153453632831529,-5.723416457838787,9.131858350066551,5.260637156307524,-5.544503139651847,-7.5856486122779065,-12.63815402221217,-3.754791699787779,-4.09006726820835,5.65388955570122,-11.66657645340006,2.362406380475206,12.598583668679595,-12.848665722043885,-0.3101958780882367,3.196664016628694,15.072790109298325,1.7710573609771145,-9.281089095673988,6.315024082076766,-4.275675872197883,-2.8377466000366605,-13.38123140578363,-8.895642712646795,-2.050543732362358,-9.41390628733313,10.022306483636507,-0.9427660584532731,-5.3669202528992015,4.340082537213721,-10.117165665080298,-3.1936061661073243,18.768225468702937,-16.083030312980807,2.904160420137827,-6.76957700927768,-17.089988332252755,-3.392873683848983,13.608758709188661,-2.0682677156780374,-11.725981071803718,6.530656864283001,-7.0633313166686165,10.721946154554313,-8.1862151272385,-14.227362158140673,-10.78130223712439,-6.238631987456844,-14.141159264947957,3.3076150612487516,-7.9580401109320915,-3.279603430744725,-9.03890392794848,6.735989371613545,-14.200001925637856,-9.773822545243355,-12.6073211675193,-8.60298961258489,8.934736979980933,-11.609423411151596,0.8975052540189787,-5.80920962948708,10.643071648212244,-2.754891388792437,-9.139736505314504,-3.642131793662193,-7.32044933106302,-1.8613162111172463,-13.081858175973908,12.47623240506906,-13.143723296928817,-10.915120287519978,-22.59404066157872,5.246610882734854,-10.84600204342701,12.94096494759839,-8.851675697938825,6.8277105402962714,7.270244871505516,-5.971500526552001,0.6176575651913643,9.780929576940558,-14.382501210547382,2.3884385255360026,4.004263812457116,-4.156943307445722,0.6475742510071022,-1.2970877624729347,0.9131148381935827,-3.792636729189926,-16.928931364324907,8.073510243253372,-8.789299872165621,3.915545587590949,-6.423759299270907,-19.38233395080481,6.936409759997158,9.419107490617131,-6.124590501608482,5.187773436294856,6.311742605192768,19.17003313514303,6.162445790898059,-12.713512359007298,10.897227947831556,-7.3169804703292876,-11.430290213043358,2.2796653796249586,15.390320890663858,9.542363569201772,1.918061328452254,-3.8733476116617767,-2.725817648354371,-7.551550965831567,-11.59224832049023,-1.3489263898743422,-10.043151225194123,-5.867994844651057,6.089152360940383,-3.529258356630433,-10.163838416280223,-0.1441486523280361,-6.718869436497382,-7.319793637657748,-10.507526116961493,-9.557748537284143,-11.722099075856189,-1.4025573928287351,-4.016252767177334,-3.047240763283553,-1.9684575539800764,2.052126457488163,10.873499266487029,-2.0823794885671716,0.9474628406893468,-7.269054737996004,13.423331045542994,-5.306502933833704,-10.580886481613609,-15.595917377336784,-8.872697430941104,-3.1332670333796555,-21.9893278001712,-17.060288075546662,-5.557973333123277,-12.475539919710096,4.972627863445529,5.623661926431809,2.6116744923831803,-8.723943166698048,-2.5545359812565565,-1.9726377537276223,-12.379067346372123,-2.436349817006846,6.9800318376153205,-8.46683227616253,2.933695580062606,-16.914424816956608,-5.474481774900323,2.2434676144267796,-13.245798801844344,5.8555946423904395,-7.34958759440599,6.516539588131196,4.6141779294120795,-4.869259701080325,1.9655810545621155,13.815675685865072,-10.571966997902818,-10.107494187194115,-4.845274007774662,1.792089940102229,14.339248561816191,-7.482961667457018,5.868441905246965,-5.981234196110215,-11.96751330759796,-2.1582624831374244,-4.091235913531108,14.514817994506274,-4.707516003224474,-2.117515842713984,0.056503714092422275,-5.335137092397159,-8.766608284443484,14.407460933216756,-11.59854902609439,-0.7487766815008632,6.249319152988234,-5.593651730715512,-8.899290159634642,-9.989682861437695,3.2333570310040574,-12.478322150029472,10.067769183536482,6.210887109200253,2.2955378948726293,-10.843285134200585,9.274012532194256,15.237955131400485,-2.375192207580416,-13.963943699037511,1.0846102715583048,-9.699812592685626,-12.163375441813844,-5.441534637122484,-5.47745184787116,6.768697545736161,0.9183344298903584,-2.4371533778230465,-4.79162868803067,-6.218137849608306,-22.152280989284414,2.7431351989938166,6.814186449975745,0.5790361486260358,7.027233894724228,-7.36064096585336,3.552736754878558,-0.3163368986948515,1.9692609328391704,2.1317473686543713,6.303588381285002,-8.122430201754693,-9.164318040601884,7.0418683011235945,5.159708113119638,-8.042207790881859,14.019908148943898,2.4545453725836976,2.443702417678949,-7.112378185785977,-5.253387309575611,11.963360029594613,-9.750012092729264,-9.927310291322076,8.774631121301502,8.281857135423794,0.47744833797288244,8.39830080786651,-6.929591346730365,-6.206257603848485,-9.261283126335808,-7.8580441645182795,5.114838134793522,-3.308652005497432,0.45492828308534833,1.6634872781646355,-2.053111184725302,-6.137701344782781,9.671573828689095,-16.261109703499482,-0.4154334852874447,4.660622656447396,15.061516916540237,-10.303678195034145,3.873165256835681,-19.055295194654214,-8.997464594235492,-6.382034653956723,-6.86023086227707,-16.446490737346892,-6.353182547417088,-3.5313711433856922,9.955349034981944,6.961221016286781,-8.842652043897427,-16.96053924717336,-6.869655249968642,-1.4780523941330534,7.668251681231895,-10.669742163874778,4.262586753066271,1.7978068409095345,5.698827348516575,-8.929556024602245,3.9263306558267455,6.435619145620812,1.286225893046685,-8.458350136008383,5.881273610656091,-8.587642715997623,-18.720933731419965,-5.583485020411817,4.6170070380566415,-9.825487033798735,-5.586963394645952,-9.062237245056863,3.5922142975596487,-8.730818001928624,-4.8615940087412355,-9.229793383453371,-4.632080517175326,-8.867751721673745,0.25756655857656696,-5.067463546404544,0.8609508355254304,4.478055368904843,7.577510304051182,-12.680165401628583,-10.033036548619632,14.989836881138734,6.846688664480724,-7.376123759145519,7.685078511065301,-12.497330621931189,-13.785522916313594,-9.532965887886053],\"x2\":[14.144540216959067,1.9630218918079592,11.591063016247118,20.73350305480536,16.662247482704494,5.674270193190035,10.311206094613734,1.088972702954757,5.694593417111379,22.028623819066716,22.008375945136375,-5.075075671185803,-4.970562081529699,6.648817370755851,-1.9927650642488548,22.007125572443318,-12.073025229505573,5.443253447182621,4.122873564947071,-13.349475681931523,-2.1578066485054213,12.518493918671917,-0.9455354636427444,-0.8999509704584175,-9.463644566243522,-0.6752005810644399,4.343951741691844,0.4179565842048841,-14.280388736713364,8.581605381925446,-2.78623733446199,3.6300042758728006,3.320764594532874,-13.746243760262955,9.95306771351257,18.903168192176064,4.035509571522364,21.494071167011004,1.000362761682506,5.9136109636827445,0.6335183773275104,-3.057990854118906,22.61473749561294,11.086041491911807,17.442627423660085,2.1684453957487797,24.99319151736247,6.31238193671196,1.177860831869239,-2.0292487652563227,26.553723963674717,11.613003163783251,-2.5081977759252734,4.086129386692285,21.448244889878335,-2.535610566731809,-9.500909144097363,-1.2373610937653399,-1.8664517139353876,-12.752590064422758,-0.13957305957404326,-9.22385349752495,19.165536653528317,4.148702134694423,-10.804092147906887,9.223189085088892,21.610410583322505,5.7098973743294925,-10.024134335607108,-2.9095922138263495,25.77663745022874,-16.052284008373736,-13.355404080560392,2.5483820942127937,-4.323205327798413,15.737149611849333,21.677404949426208,1.3217779110529149,-7.597977866259471,-12.819454180307698,17.828712895490536,4.86540623971048,0.3963249510582597,14.859242570234318,1.9818907217126345,-9.87853305846781,12.17787056846455,19.231323045464507,5.365619452593355,1.7063832675013673,-9.968714163060806,-15.04162976926564,-0.5129606879870596,-8.705124740153977,-6.523581534271258,-18.486466304689735,2.440491158134324,10.914275058527393,-6.214190836110256,12.854962179347487,24.99179354606885,18.273314046333795,-20.657999369691883,-0.4600749883629338,-0.4217788048762317,5.24168129573232,-10.043281043888424,15.861467073067024,16.204615885036958,-1.0445903621651138,-7.421055564704399,-2.15956707928834,-15.056595982947886,17.23175289298844,-9.512718245532557,6.094621089632647,9.978910685681106,15.214476331844825,4.424870261284921,11.958671968791949,-10.148408780752634,-17.62215721380232,-8.690902659209735,-6.60590686429911,-7.598658789032088,22.249102425444693,-1.3833903609375986,1.2021395429995667,-14.941649488215042,19.06690064302379,7.546446328123363,-2.3726965749420708,-9.754255084915236,2.502510884594912,10.165728998763447,0.08700861507382789,6.5130392193519855,8.40820715154028,-14.73106712282019,-9.975158529494024,8.61238612789716,10.545182234660633,-20.636467478292804,-17.457495054757462,-4.1604845575898155,-17.088676666270054,-5.890490673362828,10.954029910883248,-3.09223552688912,-18.513693903112873,-4.535224329180786,1.2868578722678943,0.9357318623144075,-11.328125810917468,4.830636411910272,12.030270714830834,-18.41106237899359,17.908431951462475,7.287019556338335,-11.108030390965729,-16.41003756151474,-7.353498552543081,17.269505403078867,11.032865418611543,4.280951141403525,-1.9967147904803737,10.289816488115697,1.4842171212005915,7.634462039149662,15.575854052526322,-10.731023686967177,0.5061750458738042,-17.094459676359048,-10.96138476949695,-8.57644529461242,-10.50209692076107,7.932245621255513,-19.2568615291606,2.695527835440381,-0.33275574614849357,-2.100753982294299,4.54571386769479,11.939453228510825,-2.480528034146739,-2.184850251875641,11.804137124837023,7.174111681332936,14.504707027615975,11.559867268100524,-5.721410002957013,19.14184718760212,-11.044993368453639,-11.544769604087298,2.6647493117627032,-16.933285605492973,12.420767236928283,-8.551751912970115,3.4720785673655596,-18.91321536300356,7.300333170731421,1.7153713448538577,-3.411103845371664,8.620974061711534,14.887034180886733,20.229072080971243,26.026891746735068,-16.548751781150752,-8.548389762949382,17.397370232357694,3.0498999702271803,-9.90882184616617,0.6230664020220134,6.012863230816021,-9.334214462391873,7.912510036418444,17.858676105875237,5.846654027848552,7.065042482262738,-21.20424494468345,-6.697251413058873,1.490837729866054,-20.595663611537056,11.436075732453661,-7.673336953586139,15.580116785468578,9.953720213048985,-13.164932721717738,22.248548795937058,-13.198224144114759,-5.403411107243387,4.596541115662103,4.8432827012515105,21.1581490771865,-1.791585589162138,-10.501653277191645,10.76571398594148,-2.6846216118865454,-9.829958529427682,-9.044919258552818,-9.861762743015152,-19.279124283814966,-5.016252582064844,-15.671110571146244,12.965908918309301,-20.64072245263694,13.801206858205857,-7.823606509606597,18.51777805155553,-3.5258198215089473,17.376966331583308,17.052458660968604,-2.2990390041381277,14.04352064280411,-10.322425432971889,12.989671254700722,6.451487410682553,14.978243972032294,-14.666425397004971,21.244681755380864,8.711041134329001,-15.276954371319677,-17.891264076951618,4.271805091328812,11.796119609998401,-4.227394413376565,18.21878637689458,4.519068040119948,-5.284089821212181,13.58091954857788,25.748175056510448,10.545258215156364,26.19226892172545,12.425592426446828,4.357772453289721,9.96167086091902,-4.097815626530106,-6.621248548829319,15.550960111828157,5.3048684387771186,-0.23641683637987618,2.0230375337534747,-7.778322014725776,6.598947787243918,-4.327053585429074,-2.3663130508691403,12.64086463062528,17.565347073569328,3.3818557400485645,-7.842199667106927,7.155359919647442,-11.025814156178873,-18.866367718526995,26.314634478666857,18.717703945145423,-11.834049379818822,12.826112114540335,15.610246504601019,23.003672191363563,-4.815275166459883,8.635844280695904,13.702547725627129,7.266973674414751,-19.29998489303895,3.741370744125197,1.4471987163148043,-21.12298519455485,-10.562921396407782,-14.957092985392642,5.5257213739245,-9.859216099994367,1.1269764955766368,-13.746965437540103,2.1217778460792114,2.9235937777072607,-17.833951812977986,-2.921734066032219,20.217936351775357,-16.993043619257907,10.890607560943604,-6.416398899408954,-8.050627979511146,-0.6778994283016725,-8.275815242506043,-6.256242367982978,7.869489338096543,5.610346105791313,9.244461502228805,16.13341495347848,18.814741576952475,11.369577919619223,7.468257364825762,3.7735432318276434,4.858280870829433,19.35150404960909,11.531789392608365,12.92482405870347,1.200124780776461,-0.5352976210837185,-2.982447843176879,-6.58286464926457,-15.818942680766948,14.215852037844575,-0.6916897012590835,9.272236216204957,6.993106100977691,13.279999745829516,-13.372086635874876,9.530435448525026,0.8774007916596577,12.862103562003039,-20.258020025680114,-0.17361379477893799,11.78302892123004,8.26980528503364,-9.98998042130583,6.080698745984675,7.774950764377588,3.4734904930359276,-3.104667365492395,17.50862002429033,14.066858291161026,4.2780522037832025,-6.261406865349685,4.709456631408876,2.9841055353330166,-9.95734019837261,9.83977792527013,-19.275189657203,5.622985987469565,1.8544893561021247,14.920971256776072,3.7816448208700906,15.48101553259626,4.898260326018218,13.142485268972791,15.698140038426892,1.0588482246475575,-13.511432193101411,3.524256721299313,7.294199480322767,10.595427236777233,-12.391800619535562,0.6188827273002837,3.280702290268862,3.207019772771935,1.8800140889238917,8.439612892579538,12.187545856951704,5.68242277322863,14.78355792877168,10.286958844257915,11.515397900939307,4.4394186453303375,11.59588159356522,19.504078305103057,-6.462620021216899,8.053236526874814,15.017718474445612,6.349580466795406,13.880012802254656,1.5166339177250703,-16.691544883781184,7.645056820001094,3.937828736107736,9.597662346455865,-8.820073535049596,1.557922048227162,5.236678341434326,18.828084017230427,-21.161214797574683,-12.186204089447301,-17.828697810875898,18.812186478584444,11.887218843491636,-21.110201795332,22.33985873152172,12.44868689412601,13.163379922843927,-1.3676934803586622,11.298487552980834,12.881433934207545,-5.079484980928599,15.682933672400173,10.835960719584637,-15.889062112742801,5.246324267776886,21.178225540736936,4.1936272069370535,-10.795653709448866,-18.907746081109295,14.625456547746907,8.579447264926316,3.056376187305633,10.6005338106542,12.06602026526723,10.218912178773751,8.05576230051638,12.54812038441604,6.244044847564617,2.8984320850595733,-12.355984723302928,13.143292304575008,-21.20663634944305,22.743923685750765,8.487870637158203,13.772960262075484,-9.278369250555144,-14.857327571410057,8.134636249694214,-7.603024250495668,12.43957418344339,11.333776713834077,18.980539288635978,-5.770527920157036,-5.204115323873273,-11.920210218958344,4.44366046997231,21.150179503963045,14.477482808384021,4.824050004488708,15.519032774732876,20.40734473803641,21.227259414600045,4.296671134016662,-12.45010667147346,6.303868503862227,4.666990512048218,13.190277465163398,10.527916426396384,20.261789230755483,-6.3722997257326375,13.182667189793305,4.169575816342338,12.28969527216484,-10.28613176071575,20.970515729626296,-3.3628296568156295,12.794780680508383,-10.999132752331562,20.991653781302524,-10.926866348384527,8.183447647336797,19.335287180326613,-0.40196761819393445,21.025549662825515,12.31109862596048,11.287144865617062,18.98412471113243,2.7023628426106536,8.041618741674501,18.07225320034424,4.584795569898437,-5.142560678069058,12.709858043893057,2.8730408308362017,20.420319204279988,16.544895973953295,13.938879286147753,-8.010379001087301,11.492983032775252,21.15146364794096,-3.3689604310311827,6.064260468091676,-20.539689190771234,-1.6319366096060728,18.612450488884065,-0.9736255567192496,3.456539144376338,20.5967803459376,1.1266262140445722,2.558673841192273,8.581804669799027,-9.148007194019065,13.678098680807553,6.865175000878469,7.073774592884202,-18.441645052948637,6.831231999603788,-7.8471051761519774,-18.47113202511637,6.477439920367074,6.483153500680269,22.94929958723964,1.015061401702015,6.7455264847345475,13.276649042406744,4.319424034991712,18.153478239516414,-10.275726228850004,9.3876201669674,13.182053664848192,1.488800572701342,18.07677656407464,2.885796899759973,11.847525769253105,1.0170767011469466,-5.940919942531696,11.487108020076024,-20.06883846491024,-7.672306561700687,-2.9207265121196153,-13.031989473156068,4.114680559908257,-20.709063945452765,0.3944969022398483,22.323351527547533,-0.5691152615418499,3.7386822319777973,10.249543566148766,13.179881089109765,18.70951605210399,-6.499147239530267,19.167275400971004,9.798074400183326,5.595477441916507,12.917035860184509,-4.314671597050041,18.707700706298223,-10.223338884124967,6.779986177062705,5.927027533204357,12.943394699252265,-4.997818971977646,16.43453526919373,13.02141249942091,11.414714451144093,5.975715476059785,-3.085824083321141,-7.372437176344895,-6.835148029657322,12.887073531419656,7.808132250916466,2.572328409464736,-7.277311358047651,-0.4158331999018842,13.22338239762905,15.56680741164572,-10.430690158863198,13.541168000848115,9.203357514372199,21.13694447715273,11.128914246774276,-14.356074971326361,-1.1554439056093204,14.806117539486408,22.19415026704716,2.4456615651027236,-20.184142416782265,15.440808787828848,8.743239232864646,10.198449168440042,-4.80354564341277,5.512316357169842,-10.958594688347457,20.425207860675997,7.360675229937949,-15.988960461296427,1.3566199711915468,6.907787730416685,5.359012950650363,-11.078093507151547,-17.05709396199916,8.559019812655349,-7.557504807298974,10.065978004800064,2.3031104333253087,3.030260375236668,3.120769269964612,3.9290745108424026,11.656242525941291,15.141652382712612,-0.14988056961450602,-6.00807985516904,7.12138025437429,11.506477876210651,10.284643921185971,-8.075864098820016,-7.889147420169564,3.8821777979529593,0.7346468717780548,15.725887617439394,0.7203174005886843,11.419249886808275,17.94638002150365,0.2181718873261428,-16.51798999071833,15.897313617215604,18.13557808109368,-3.0727479376427866,20.388739794095514,-3.954215517089803,14.32363699943284,12.620706545239209,-12.230544458967689,10.862895090264317,12.699104324345704,6.44834154192089,12.654624897511546,-7.415746190059716,9.784250754392755,-5.293350238932419,-20.571485856126273,-1.3202551969697989,-1.2406121128721619,16.272089245506383,-20.93204436171227,9.903445734821235,4.926438276431836,6.319513069770113,2.3674908698420363,-16.645002009810977,-16.752200215306157,8.090028807750619,18.68891993516786,11.17049817222242,11.12928994821365,13.292117355151602,11.18826467572154,13.322900817198382,-9.123987635128465,8.754264666557347,-9.088540215195037,15.91030712642404,8.745533671835409,9.23111359453619,-15.996442460728177,6.786232751602137,5.877281548702596,8.574223565038947,16.17440283259794,8.708772922361113,22.52380836200675,12.984427807163287,2.8980335998903626,-12.478846228363476,2.7593859289057745,4.342403333474928,-13.101394344520555,-6.6781329044149516,4.895418086271341,-13.533194957249613,20.957719242820072,8.068690263993327,6.489070354553441,-9.470980984145209,14.933787865426853,21.149184307664733,-10.272520288906124,13.035797147043699,13.847406187434236,22.05478203683755,2.691395711052706,12.958450553782212,-5.614929244086877,4.300030459335201,-15.776721654186108,8.548472015176076,2.4170985588172695,0.6457517528416398,-7.275310233377616,-0.6298158290868506,-14.782672219876556,2.2477015845560646,-1.5708929639587805,2.583014637429775,-5.273283280903851,5.7169607219576655,11.214909348739052,-9.072461123164873,-15.745742662831487,18.282661920562223,16.17334139911842,-5.115901640308984,5.9807233352490226,8.627004861403812,9.29598262816989,15.506248470697326,18.213307790360947,12.648585086739317,11.761396819203263,14.897919238832078,3.227127377865332,9.109290219820707,9.337205610890447,13.144886369504125,9.99904624472467,11.76388632012301,12.091552237687342,10.269614151900472,8.986495240493909,-20.134669004079893,3.0040350369200453,11.178399499745302,-14.363417471424693,19.37591083476995,2.0159032754436708,0.7058003852935228,-2.0344600730421543,2.115704076462316,-3.2470243001541537,2.601151668624686,11.712602805326151,0.7491413879624462,20.423775635057773,9.984947133100176,-14.776064701014207,-2.251873655287192,11.763102889864935,-9.287080845068896,3.49107009743049,13.003913054070027,-9.13407479579252,-6.4535756665485655,11.742364552527489,0.9786231614700076,8.40999085091397,-9.772674857409081,-7.269774898300828,9.935693389952545,12.839190750319203,1.2198533535696887,6.700101894191712,-4.300856583531874,3.2159538748280854,10.141378683766124,2.8537379664439113,17.649295354254892,-19.36069575660797,18.853378965378827,11.0362500134516,10.227445415756668,14.22264174622708,14.3466477689927,-0.665304689807579,7.038714788046656,-16.181514585600734,-15.267446393430195,11.291348789302916,-15.35829359481767,17.10288800641472,9.265396351618865,10.000598820434766,8.174374191152474,4.5643833386018535,10.442963796973977,11.553478459728353,10.962106799229396,-0.7480864369267048,3.838006235946994,-6.603991037612498,-0.21498307483653348,-13.636200277802377,-14.24280250429253,12.995076875214545,-10.732043104530494,9.812271754770565,18.553592177831913,13.104398560908107,22.436088155718018,-2.9705089834241925,2.7708243546571234,2.5600641762329186,-17.08644704765918,7.9377193085689415,13.113849165796935,18.000567472424393,2.266431024963422,8.806199425772625,0.13772580015000357,18.836083797043738,-14.006391614980899,17.637052022468435,9.412228060070627,17.460395123279707,6.499901004879537,-2.007151785476235,3.617546971363621,8.564084963433702,10.387975938883754,10.281626941355118,14.16255241261344,13.590503115432822,26.40043397142165,-6.117060304151941,18.747466396427694,-5.128571373731645,0.0013833166251354945,19.111602372856368,-19.86231906231269,10.377695398683455,-8.037529803486034,3.958338859404151,3.592026855276802,5.977255945369749,10.26101558628549,8.155210875149557,-6.75435928654737,9.91417874164108,5.086223419995604,-14.940558996241144,11.706158508131193,12.858786528810512,16.785705619633948,10.207217944041728,12.395429414291508,15.888093546531385,8.953189249639927,4.6135243622027415,6.086979602658768,10.116405214843878,14.084634373235822,0.47118460226594383,-1.8128612050499264,-17.28224944907667,4.432397333369094,-16.618390563613346,-14.763294528280408,14.31564879851049,-13.392085624944912,-19.365406257265327,-8.177440201187958,4.446053768609455,-0.7404398359483755,-13.155762932366246,-20.707874961532266,9.430547134332148,-12.225979681664564,-3.1082668914317653,-3.2140546797571536,15.452082869411322,10.783696297179132,-20.483958875614015,13.596346795478208,6.0440300901762205,15.028642403128694,19.987167735988805,13.487016141240487,-20.656446889487473,2.4816023581260174,8.890841320746246,4.841154204479166,8.20886815066601,7.333307743877854,19.660482078628167,6.306144425988826,1.155075910991515,10.876118051189028,-15.232164254890847,-6.224919541433233,21.433671093815025,12.653908557904463,-20.472610028634566,10.312709011489977,2.714879485873043,-17.41228958731424,11.316040186857744,4.566220899511086,2.4092128692565167,10.817325337085611,10.224718478430857,0.23672075209545904,9.034522860715708,1.986985207582213,14.451293692172051,10.055559427085877,20.427799928582136,-14.148729228529023,18.314682385390746,9.349668723779134,-4.880217199123691,-10.239157433749202,4.092174719206609,-16.773230425840914,6.291627059970699,-0.6636126385445267,9.984804054803977,11.253992948349518,-13.280170523992535,-15.39595637176792,19.54665639258725,-19.658708485841714,12.86224988634706,6.208495310905816,2.459126188636607,19.355439213514057,6.026419364757533,10.857468373273521,-6.8616994188315354,-6.796424962884838,-11.94683141653739,7.756313942924132,5.828091501525007,26.645658506259252,20.882554804042528,8.814014633140912,2.250970354722029,-14.754236862848739,13.54954770768147,18.24990128620041,6.243749179033154,14.307498714814882,-3.645555501208486,2.281196460666634,9.321617033299951,0.08739960005847536,-14.58926625599954,-20.324343567955435,20.822201585215,-14.985574185667542,7.089291634981022,18.68749774264268,-7.682650586639755,19.084211467232752,8.864525387616025,10.148878719552773,18.380154132654155,12.627355587376652,-13.870406536961132,3.2187591272029596,8.527064782548328,3.2864221491483283,7.8978423555946575,6.6826188264673245,10.270242896728439,-14.410427318389528,1.0118062364796105,12.785032967951818,12.224817217075454,12.278583273270694,10.781802073604311,20.40302753672873,11.905569666641032,12.174472869960674,19.8873321537953,6.430585859230163,-2.3563276346644866,4.474402579240033,20.56543598773262,19.28000526139276,3.7186176658395076,15.47444721616651,10.08732427730003,-1.3149492943428578,18.50886381225134,-1.164878287975739,11.608031839962072,0.25748531037956535,19.96081973635375,15.094601156347368,-14.092154673038111,3.6597089126951774,-2.6121518135164,21.833125482442696,-20.502175645515898,4.611239885038743,10.903036458254574,2.8349105821486766,-5.975658717350417,-2.0076560418143674,19.419018670662002]}},\"id\":\"d825377b-865b-4c94-aadf-d3b4aa761706\",\"type\":\"ColumnDataSource\"},{\"attributes\":{},\"id\":\"6ec8738c-cc52-4f71-a3a3-5db2ced6fd86\",\"type\":\"BasicTicker\"},{\"attributes\":{\"plot\":null,\"text\":\"word2vec T-SNE for most common words\"},\"id\":\"ac0ffdc4-a673-407e-a7c1-99ec7520bb41\",\"type\":\"Title\"},{\"attributes\":{\"plot\":{\"id\":\"394fa3f7-08e1-4718-85fd-f5d6ca3123b0\",\"subtype\":\"Figure\",\"type\":\"Plot\"},\"source\":{\"id\":\"d825377b-865b-4c94-aadf-d3b4aa761706\",\"type\":\"ColumnDataSource\"},\"text\":{\"field\":\"names\"},\"text_align\":\"center\",\"text_color\":{\"value\":\"#555555\"},\"text_font_size\":{\"value\":\"8pt\"},\"x\":{\"field\":\"x1\"},\"y\":{\"field\":\"x2\"},\"y_offset\":{\"value\":6}},\"id\":\"4ccefeff-d4d3-4edb-82b9-4a9aa0a271e9\",\"type\":\"LabelSet\"},{\"attributes\":{\"plot\":{\"id\":\"394fa3f7-08e1-4718-85fd-f5d6ca3123b0\",\"subtype\":\"Figure\",\"type\":\"Plot\"}},\"id\":\"4e89b312-151c-4849-b216-abd236acdf1b\",\"type\":\"SaveTool\"},{\"attributes\":{\"plot\":{\"id\":\"394fa3f7-08e1-4718-85fd-f5d6ca3123b0\",\"subtype\":\"Figure\",\"type\":\"Plot\"},\"ticker\":{\"id\":\"168014d2-9e50-47e7-ace4-2e681ff782fa\",\"type\":\"BasicTicker\"}},\"id\":\"cddea8f1-4694-4142-a57b-69f7c5bd7a4f\",\"type\":\"Grid\"},{\"attributes\":{\"fill_alpha\":{\"value\":0.1},\"fill_color\":{\"value\":\"#1f77b4\"},\"line_alpha\":{\"value\":0.1},\"line_color\":{\"value\":\"#1f77b4\"},\"size\":{\"units\":\"screen\",\"value\":8},\"x\":{\"field\":\"x1\"},\"y\":{\"field\":\"x2\"}},\"id\":\"0ecfd313-dffe-4945-8880-3fa0e59ba05b\",\"type\":\"Circle\"},{\"attributes\":{\"formatter\":{\"id\":\"627b32ad-758f-479c-aaee-cee2d16e4fdf\",\"type\":\"BasicTickFormatter\"},\"plot\":{\"id\":\"394fa3f7-08e1-4718-85fd-f5d6ca3123b0\",\"subtype\":\"Figure\",\"type\":\"Plot\"},\"ticker\":{\"id\":\"168014d2-9e50-47e7-ace4-2e681ff782fa\",\"type\":\"BasicTicker\"}},\"id\":\"4514c345-0a33-416b-9070-25ac2c8d40b8\",\"type\":\"LinearAxis\"},{\"attributes\":{\"formatter\":{\"id\":\"6d112889-86d4-495c-bf43-68dd070ad3ce\",\"type\":\"BasicTickFormatter\"},\"plot\":{\"id\":\"394fa3f7-08e1-4718-85fd-f5d6ca3123b0\",\"subtype\":\"Figure\",\"type\":\"Plot\"},\"ticker\":{\"id\":\"6ec8738c-cc52-4f71-a3a3-5db2ced6fd86\",\"type\":\"BasicTicker\"}},\"id\":\"e9e6752d-3a4f-485b-be95-b2dc4c0f4a18\",\"type\":\"LinearAxis\"},{\"attributes\":{\"fill_color\":{\"value\":\"#1f77b4\"},\"line_color\":{\"value\":\"#1f77b4\"},\"size\":{\"units\":\"screen\",\"value\":8},\"x\":{\"field\":\"x1\"},\"y\":{\"field\":\"x2\"}},\"id\":\"c922137f-a631-4d9f-9034-3ee9cb8aa0c8\",\"type\":\"Circle\"},{\"attributes\":{\"data_source\":{\"id\":\"d825377b-865b-4c94-aadf-d3b4aa761706\",\"type\":\"ColumnDataSource\"},\"glyph\":{\"id\":\"c922137f-a631-4d9f-9034-3ee9cb8aa0c8\",\"type\":\"Circle\"},\"hover_glyph\":null,\"nonselection_glyph\":{\"id\":\"0ecfd313-dffe-4945-8880-3fa0e59ba05b\",\"type\":\"Circle\"},\"selection_glyph\":null},\"id\":\"0b8a0c6c-c48c-4df8-81f3-bc2a3e1fa693\",\"type\":\"GlyphRenderer\"},{\"attributes\":{},\"id\":\"cc72f40f-662f-412e-8042-f14e20a496fa\",\"type\":\"ToolEvents\"},{\"attributes\":{\"plot\":{\"id\":\"394fa3f7-08e1-4718-85fd-f5d6ca3123b0\",\"subtype\":\"Figure\",\"type\":\"Plot\"}},\"id\":\"c848a66b-f6e7-4940-84e0-f2f2a2ca4a65\",\"type\":\"ResetTool\"},{\"attributes\":{},\"id\":\"627b32ad-758f-479c-aaee-cee2d16e4fdf\",\"type\":\"BasicTickFormatter\"},{\"attributes\":{\"callback\":null},\"id\":\"d7dd4922-d8ff-46b8-ab3e-8f7907c3d586\",\"type\":\"DataRange1d\"},{\"attributes\":{\"callback\":null},\"id\":\"5c4d3fc7-1ed9-4663-b9a0-74e242465d95\",\"type\":\"DataRange1d\"},{\"attributes\":{},\"id\":\"6d112889-86d4-495c-bf43-68dd070ad3ce\",\"type\":\"BasicTickFormatter\"}],\"root_ids\":[\"394fa3f7-08e1-4718-85fd-f5d6ca3123b0\"]},\"title\":\"Bokeh Application\",\"version\":\"0.12.2\"}};\n",
       "            var render_items = [{\"docid\":\"b1cb9485-65a2-4ed6-99f8-8c149802b6d7\",\"elementid\":\"54f18c15-af9a-4cb9-8bd3-ec25e3c75c85\",\"modelid\":\"394fa3f7-08e1-4718-85fd-f5d6ca3123b0\"}];\n",
       "            \n",
       "            Bokeh.embed.embed_items(docs_json, render_items);\n",
       "        });\n",
       "      },\n",
       "      function(Bokeh) {\n",
       "      }\n",
       "    ];\n",
       "  \n",
       "    function run_inline_js() {\n",
       "      \n",
       "      if ((window.Bokeh !== undefined) || (force === \"1\")) {\n",
       "        for (var i = 0; i < inline_js.length; i++) {\n",
       "          inline_js[i](window.Bokeh);\n",
       "        }if (force === \"1\") {\n",
       "          display_loaded();\n",
       "        }} else if (Date.now() < window._bokeh_timeout) {\n",
       "        setTimeout(run_inline_js, 100);\n",
       "      } else if (!window._bokeh_failed_load) {\n",
       "        console.log(\"Bokeh: BokehJS failed to load within specified timeout.\");\n",
       "        window._bokeh_failed_load = true;\n",
       "      } else if (!force) {\n",
       "        var cell = $(\"#54f18c15-af9a-4cb9-8bd3-ec25e3c75c85\").parents('.cell').data().cell;\n",
       "        cell.output_area.append_execute_result(NB_LOAD_WARNING)\n",
       "      }\n",
       "  \n",
       "    }\n",
       "  \n",
       "    if (window._bokeh_is_loading === 0) {\n",
       "      console.log(\"Bokeh: BokehJS loaded, going straight to plotting\");\n",
       "      run_inline_js();\n",
       "    } else {\n",
       "      load_libs(js_urls, function() {\n",
       "        console.log(\"Bokeh: BokehJS plotting callback run at\", now());\n",
       "        run_inline_js();\n",
       "      });\n",
       "    }\n",
       "  }(this));\n",
       "</script>"
      ]
     },
     "metadata": {},
     "output_type": "display_data"
    }
   ],
   "source": [
    "p = figure(tools=\"pan,wheel_zoom,reset,save\",\n",
    "           toolbar_location=\"above\",\n",
    "           title=\"word2vec T-SNE for most common words\")\n",
    "\n",
    "source = ColumnDataSource(data=dict(x1=words_top_ted_tsne[:,0],\n",
    "                                    x2=words_top_ted_tsne[:,1],\n",
    "                                    names=words_top_ted))\n",
    "\n",
    "p.scatter(x=\"x1\", y=\"x2\", size=8, source=source)\n",
    "\n",
    "labels = LabelSet(x=\"x1\", y=\"x2\", text=\"names\", y_offset=6,\n",
    "                  text_font_size=\"8pt\", text_color=\"#555555\",\n",
    "                  source=source, text_align='center')\n",
    "p.add_layout(labels)\n",
    "\n",
    "show(p)"
   ]
  },
  {
   "cell_type": "markdown",
   "metadata": {},
   "source": [
    "### Part 5: Wiki Learnt Representations"
   ]
  },
  {
   "cell_type": "markdown",
   "metadata": {},
   "source": [
    "Download dataset"
   ]
  },
  {
   "cell_type": "code",
   "execution_count": 48,
   "metadata": {
    "collapsed": true
   },
   "outputs": [],
   "source": [
    "if not os.path.isfile('wikitext-103-raw-v1.zip'):\n",
    "    urllib.request.urlretrieve(\"https://s3.amazonaws.com/research.metamind.io/wikitext/wikitext-103-raw-v1.zip\", filename=\"wikitext-103-raw-v1.zip\")"
   ]
  },
  {
   "cell_type": "code",
   "execution_count": 49,
   "metadata": {
    "collapsed": false
   },
   "outputs": [],
   "source": [
    "with zipfile.ZipFile('wikitext-103-raw-v1.zip', 'r') as z:\n",
    "    input_text = str(z.open('wikitext-103-raw/wiki.train.raw', 'r').read(), encoding='utf-8') # Thanks Robert Bastian"
   ]
  },
  {
   "cell_type": "markdown",
   "metadata": {},
   "source": [
    "Preprocess sentences (note that it's important to remove small sentences for performance)"
   ]
  },
  {
   "cell_type": "code",
   "execution_count": 50,
   "metadata": {
    "collapsed": false
   },
   "outputs": [],
   "source": [
    "sentences_wiki = []\n",
    "for line in input_text.split('\\n'):\n",
    "    s = [x for x in line.split('.') if x and len(x.split()) >= 5]\n",
    "    sentences_wiki.extend(s)\n",
    "    \n",
    "for s_i in range(len(sentences_wiki)):\n",
    "    sentences_wiki[s_i] = re.sub(\"[^a-z]\", \" \", sentences_wiki[s_i].lower())\n",
    "    sentences_wiki[s_i] = re.sub(r'\\([^)]*\\)', '', sentences_wiki[s_i])\n",
    "del input_text"
   ]
  },
  {
   "cell_type": "code",
   "execution_count": 51,
   "metadata": {
    "collapsed": false
   },
   "outputs": [
    {
     "name": "stdout",
     "output_type": "stream",
     "text": [
      "4267112\n",
      "853422\n"
     ]
    }
   ],
   "source": [
    "# sample 1/5 of the data\n",
    "shuffle(sentences_wiki)\n",
    "print(len(sentences_wiki))\n",
    "sentences_wiki = sentences_wiki[:int(len(sentences_wiki)/5)]\n",
    "print(len(sentences_wiki))"
   ]
  },
  {
   "cell_type": "code",
   "execution_count": 76,
   "metadata": {
    "collapsed": false
   },
   "outputs": [
    {
     "name": "stdout",
     "output_type": "stream",
     "text": [
      "[' first mlb pitcher in a world series to pitch a shutout with no walks and at least eight strikeouts   game   in      ', ' later that year   the band performed it at the girls aloud party tv special held by itv    and at the v festival ', ' references to horned rabbits may originate in sightings of rabbits affected by the shope papilloma virus   named for richard e', ' the      cleveland browns season was the team  s third in the all     america football conference   aafc   ', ' he suffered mild inflammation in his right shoulder in the arizona fall league after the conclusion of the      regular season ', ' precipitation has generally increased over land north of      n from      to        but declined over the tropics since the     s ', ' in addition   bonnie began to slowly move more to the northeast on september    as steering currents slowly developed ', ' the mysore lancers had twenty     three men killed in action   one man died as a result of his wounds   another two were reported missing believed killed   three wounded men were taken prisoner and released at the end of the war   and forty     nine men were wounded ', ' the following day   they beat israel         and on   april   beat south korea       ', ' in particular   the successive governors of acre entrusted him with protecting the galilee  s trade routes and maintaining general security in the area   which he did successfully ']\n"
     ]
    }
   ],
   "source": [
    "print (sentences_wiki[:10])"
   ]
  },
  {
   "cell_type": "code",
   "execution_count": 77,
   "metadata": {
    "collapsed": true
   },
   "outputs": [],
   "source": [
    "sentences_strings_wiki = sentences_wiki\n",
    "sentences_wiki = []\n",
    "for sent_str in sentences_strings_wiki:\n",
    "    tokens = re.sub(r\"[^a-z0-9]+\", \" \", sent_str.lower()).split()\n",
    "    sentences_wiki.append(tokens)"
   ]
  },
  {
   "cell_type": "code",
   "execution_count": 78,
   "metadata": {
    "collapsed": false
   },
   "outputs": [
    {
     "name": "stdout",
     "output_type": "stream",
     "text": [
      "[['first', 'mlb', 'pitcher', 'in', 'a', 'world', 'series', 'to', 'pitch', 'a', 'shutout', 'with', 'no', 'walks', 'and', 'at', 'least', 'eight', 'strikeouts', 'game', 'in'], ['later', 'that', 'year', 'the', 'band', 'performed', 'it', 'at', 'the', 'girls', 'aloud', 'party', 'tv', 'special', 'held', 'by', 'itv', 'and', 'at', 'the', 'v', 'festival'], ['references', 'to', 'horned', 'rabbits', 'may', 'originate', 'in', 'sightings', 'of', 'rabbits', 'affected', 'by', 'the', 'shope', 'papilloma', 'virus', 'named', 'for', 'richard', 'e'], ['the', 'cleveland', 'browns', 'season', 'was', 'the', 'team', 's', 'third', 'in', 'the', 'all', 'america', 'football', 'conference', 'aafc'], ['he', 'suffered', 'mild', 'inflammation', 'in', 'his', 'right', 'shoulder', 'in', 'the', 'arizona', 'fall', 'league', 'after', 'the', 'conclusion', 'of', 'the', 'regular', 'season'], ['precipitation', 'has', 'generally', 'increased', 'over', 'land', 'north', 'of', 'n', 'from', 'to', 'but', 'declined', 'over', 'the', 'tropics', 'since', 'the', 's'], ['in', 'addition', 'bonnie', 'began', 'to', 'slowly', 'move', 'more', 'to', 'the', 'northeast', 'on', 'september', 'as', 'steering', 'currents', 'slowly', 'developed'], ['the', 'mysore', 'lancers', 'had', 'twenty', 'three', 'men', 'killed', 'in', 'action', 'one', 'man', 'died', 'as', 'a', 'result', 'of', 'his', 'wounds', 'another', 'two', 'were', 'reported', 'missing', 'believed', 'killed', 'three', 'wounded', 'men', 'were', 'taken', 'prisoner', 'and', 'released', 'at', 'the', 'end', 'of', 'the', 'war', 'and', 'forty', 'nine', 'men', 'were', 'wounded'], ['the', 'following', 'day', 'they', 'beat', 'israel', 'and', 'on', 'april', 'beat', 'south', 'korea'], ['in', 'particular', 'the', 'successive', 'governors', 'of', 'acre', 'entrusted', 'him', 'with', 'protecting', 'the', 'galilee', 's', 'trade', 'routes', 'and', 'maintaining', 'general', 'security', 'in', 'the', 'area', 'which', 'he', 'did', 'successfully']]\n"
     ]
    }
   ],
   "source": [
    "print (sentences_wiki[:10])"
   ]
  },
  {
   "cell_type": "markdown",
   "metadata": {},
   "source": [
    "Now, repeat all the same steps that you performed above. You should be able to reuse essentially all the code."
   ]
  },
  {
   "cell_type": "code",
   "execution_count": 87,
   "metadata": {
    "collapsed": true
   },
   "outputs": [],
   "source": [
    "# my code edit\n",
    "# copied from My Edit 1, finding the top 1000 occuring words\n",
    "counts_wiki_top1000 = []\n",
    "from collections import Counter\n",
    "c_wiki = Counter()\n",
    "for sentence in sentences_wiki:\n",
    "    c_wiki += Counter(sentence)\n",
    "top1000WordCounts_wiki = c_wiki.most_common(1000) # this is a list of tuples: [(word, count),...]\n",
    "counts_wiki_top1000 = [x[1] for x in top1000WordCounts_wiki]\n",
    "words_top_wiki = [x[0] for x in top1000WordCounts_wiki]"
   ]
  },
  {
   "cell_type": "code",
   "execution_count": 94,
   "metadata": {
    "collapsed": true
   },
   "outputs": [],
   "source": [
    "#save the words to file\n",
    "allwords_wiki = []\n",
    "# lay the counter into a plain list, then sort by their count value\n",
    "for k in c_wiki.keys():\n",
    "    allwords_wiki.append((k, c_wiki[k])) #allwords stores the tuples (word, count)\n",
    "allwords_wiki.sort(key = lambda x: (-x[1], x[0]))\n",
    "with open ('allwords_wiki', 'w') as outfile_wiki:\n",
    "    for tup in allwords_wiki:\n",
    "        outfile_wiki.write(tup[0] + ' ' + str(tup[1]) + '\\n')\n",
    "        outfile_wiki.flush()"
   ]
  },
  {
   "cell_type": "code",
   "execution_count": 88,
   "metadata": {
    "collapsed": false
   },
   "outputs": [
    {
     "data": {
      "text/html": [
       "\n",
       "\n",
       "    <div class=\"bk-root\">\n",
       "        <div class=\"plotdiv\" id=\"3f7cc4ff-29b1-4fcd-bb14-9d4ffab6ffe2\"></div>\n",
       "    </div>\n",
       "<script type=\"text/javascript\">\n",
       "  \n",
       "  (function(global) {\n",
       "    function now() {\n",
       "      return new Date();\n",
       "    }\n",
       "  \n",
       "    var force = \"\";\n",
       "  \n",
       "    if (typeof (window._bokeh_onload_callbacks) === \"undefined\" || force !== \"\") {\n",
       "      window._bokeh_onload_callbacks = [];\n",
       "      window._bokeh_is_loading = undefined;\n",
       "    }\n",
       "  \n",
       "  \n",
       "    \n",
       "    if (typeof (window._bokeh_timeout) === \"undefined\" || force !== \"\") {\n",
       "      window._bokeh_timeout = Date.now() + 0;\n",
       "      window._bokeh_failed_load = false;\n",
       "    }\n",
       "  \n",
       "    var NB_LOAD_WARNING = {'data': {'text/html':\n",
       "       \"<div style='background-color: #fdd'>\\n\"+\n",
       "       \"<p>\\n\"+\n",
       "       \"BokehJS does not appear to have successfully loaded. If loading BokehJS from CDN, this \\n\"+\n",
       "       \"may be due to a slow or bad network connection. Possible fixes:\\n\"+\n",
       "       \"</p>\\n\"+\n",
       "       \"<ul>\\n\"+\n",
       "       \"<li>re-rerun `output_notebook()` to attempt to load from CDN again, or</li>\\n\"+\n",
       "       \"<li>use INLINE resources instead, as so:</li>\\n\"+\n",
       "       \"</ul>\\n\"+\n",
       "       \"<code>\\n\"+\n",
       "       \"from bokeh.resources import INLINE\\n\"+\n",
       "       \"output_notebook(resources=INLINE)\\n\"+\n",
       "       \"</code>\\n\"+\n",
       "       \"</div>\"}};\n",
       "  \n",
       "    function display_loaded() {\n",
       "      if (window.Bokeh !== undefined) {\n",
       "        Bokeh.$(\"#3f7cc4ff-29b1-4fcd-bb14-9d4ffab6ffe2\").text(\"BokehJS successfully loaded.\");\n",
       "      } else if (Date.now() < window._bokeh_timeout) {\n",
       "        setTimeout(display_loaded, 100)\n",
       "      }\n",
       "    }\n",
       "  \n",
       "    function run_callbacks() {\n",
       "      window._bokeh_onload_callbacks.forEach(function(callback) { callback() });\n",
       "      delete window._bokeh_onload_callbacks\n",
       "      console.info(\"Bokeh: all callbacks have finished\");\n",
       "    }\n",
       "  \n",
       "    function load_libs(js_urls, callback) {\n",
       "      window._bokeh_onload_callbacks.push(callback);\n",
       "      if (window._bokeh_is_loading > 0) {\n",
       "        console.log(\"Bokeh: BokehJS is being loaded, scheduling callback at\", now());\n",
       "        return null;\n",
       "      }\n",
       "      if (js_urls == null || js_urls.length === 0) {\n",
       "        run_callbacks();\n",
       "        return null;\n",
       "      }\n",
       "      console.log(\"Bokeh: BokehJS not loaded, scheduling load and callback at\", now());\n",
       "      window._bokeh_is_loading = js_urls.length;\n",
       "      for (var i = 0; i < js_urls.length; i++) {\n",
       "        var url = js_urls[i];\n",
       "        var s = document.createElement('script');\n",
       "        s.src = url;\n",
       "        s.async = false;\n",
       "        s.onreadystatechange = s.onload = function() {\n",
       "          window._bokeh_is_loading--;\n",
       "          if (window._bokeh_is_loading === 0) {\n",
       "            console.log(\"Bokeh: all BokehJS libraries loaded\");\n",
       "            run_callbacks()\n",
       "          }\n",
       "        };\n",
       "        s.onerror = function() {\n",
       "          console.warn(\"failed to load library \" + url);\n",
       "        };\n",
       "        console.log(\"Bokeh: injecting script tag for BokehJS library: \", url);\n",
       "        document.getElementsByTagName(\"head\")[0].appendChild(s);\n",
       "      }\n",
       "    };var element = document.getElementById(\"3f7cc4ff-29b1-4fcd-bb14-9d4ffab6ffe2\");\n",
       "    if (element == null) {\n",
       "      console.log(\"Bokeh: ERROR: autoload.js configured with elementid '3f7cc4ff-29b1-4fcd-bb14-9d4ffab6ffe2' but no matching script tag was found. \")\n",
       "      return false;\n",
       "    }\n",
       "  \n",
       "    var js_urls = [];\n",
       "  \n",
       "    var inline_js = [\n",
       "      function(Bokeh) {\n",
       "        Bokeh.$(function() {\n",
       "            var docs_json = {\"92645952-0f5a-433d-9f0c-1258a686020d\":{\"roots\":{\"references\":[{\"attributes\":{},\"id\":\"365a4dea-e59a-4dff-8e9a-b45efb459630\",\"type\":\"BasicTickFormatter\"},{\"attributes\":{},\"id\":\"afe73708-beca-4b94-8e77-cd389d61201a\",\"type\":\"ToolEvents\"},{\"attributes\":{\"formatter\":{\"id\":\"365a4dea-e59a-4dff-8e9a-b45efb459630\",\"type\":\"BasicTickFormatter\"},\"plot\":{\"id\":\"929e077a-5b4a-42cf-863b-9c44f5c453f0\",\"subtype\":\"Figure\",\"type\":\"Plot\"},\"ticker\":{\"id\":\"0b84850a-6b6d-46a2-b54e-59787314c9e2\",\"type\":\"BasicTicker\"}},\"id\":\"d9dd5697-735b-460a-94cd-de5414666cd5\",\"type\":\"LinearAxis\"},{\"attributes\":{},\"id\":\"0b84850a-6b6d-46a2-b54e-59787314c9e2\",\"type\":\"BasicTicker\"},{\"attributes\":{\"bottom\":{\"value\":0},\"fill_alpha\":{\"value\":0.1},\"fill_color\":{\"value\":\"#1f77b4\"},\"left\":{\"field\":\"left\"},\"line_alpha\":{\"value\":0.1},\"line_color\":{\"value\":\"#1f77b4\"},\"right\":{\"field\":\"right\"},\"top\":{\"field\":\"top\"}},\"id\":\"9ee8b2c6-ed81-4dc6-8277-8a5f5db4e163\",\"type\":\"Quad\"},{\"attributes\":{},\"id\":\"a9996fb6-bcd4-4047-a265-b7afdc254fe4\",\"type\":\"BasicTickFormatter\"},{\"attributes\":{\"callback\":null,\"column_names\":[\"top\",\"right\",\"left\"],\"data\":{\"left\":[1886.0,14726.21,27566.42,40406.63,53246.84,66087.04999999999,78927.26,91767.47,104607.68,117447.88999999998,130288.09999999999,143128.31,155968.52,168808.72999999998,181648.94,194489.15,207329.36,220169.56999999998,233009.77999999997,245849.99,258690.19999999998,271530.41,284370.62,297210.82999999996,310051.04,322891.25,335731.45999999996,348571.67,361411.88,374252.08999999997,387092.3,399932.50999999995,412772.72,425612.93,438453.13999999996,451293.35,464133.55999999994,476973.76999999996,489813.98,502654.18999999994,515494.39999999997,528334.61,541174.82,554015.0299999999,566855.24,579695.45,592535.6599999999,605375.87,618216.08,631056.2899999999,643896.5,656736.71,669576.9199999999,682417.13,695257.34,708097.5499999999,720937.76,733777.97,746618.1799999999,759458.3899999999,772298.6,785138.8099999999,797979.0199999999,810819.23,823659.44,836499.6499999999,849339.86,862180.07,875020.2799999999,887860.49,900700.7,913540.9099999999,926381.1199999999,939221.33,952061.5399999999,964901.7499999999,977741.96,990582.1699999999,1003422.3799999999,1016262.59,1029102.7999999999,1041943.0099999999,1054783.22,1067623.43,1080463.64,1093303.8499999999,1106144.0599999998,1118984.27,1131824.48,1144664.69,1157504.9,1170345.1099999999,1183185.3199999998,1196025.53,1208865.74,1221705.95,1234546.16,1247386.3699999999,1260226.5799999998,1273066.7899999998],\"right\":[14726.21,27566.42,40406.63,53246.84,66087.04999999999,78927.26,91767.47,104607.68,117447.88999999998,130288.09999999999,143128.31,155968.52,168808.72999999998,181648.94,194489.15,207329.36,220169.56999999998,233009.77999999997,245849.99,258690.19999999998,271530.41,284370.62,297210.82999999996,310051.04,322891.25,335731.45999999996,348571.67,361411.88,374252.08999999997,387092.3,399932.50999999995,412772.72,425612.93,438453.13999999996,451293.35,464133.55999999994,476973.76999999996,489813.98,502654.18999999994,515494.39999999997,528334.61,541174.82,554015.0299999999,566855.24,579695.45,592535.6599999999,605375.87,618216.08,631056.2899999999,643896.5,656736.71,669576.9199999999,682417.13,695257.34,708097.5499999999,720937.76,733777.97,746618.1799999999,759458.3899999999,772298.6,785138.8099999999,797979.0199999999,810819.23,823659.44,836499.6499999999,849339.86,862180.07,875020.2799999999,887860.49,900700.7,913540.9099999999,926381.1199999999,939221.33,952061.5399999999,964901.7499999999,977741.96,990582.1699999999,1003422.3799999999,1016262.59,1029102.7999999999,1041943.0099999999,1054783.22,1067623.43,1080463.64,1093303.8499999999,1106144.0599999998,1118984.27,1131824.48,1144664.69,1157504.9,1170345.1099999999,1183185.3199999998,1196025.53,1208865.74,1221705.95,1234546.16,1247386.3699999999,1260226.5799999998,1273066.7899999998,1285907.0],\"top\":[7.149415780583028e-05,2.8815728091674517e-06,1.2460855390994385e-06,3.894017309685745e-07,2.3364103858114486e-07,7.788034619371485e-08,2.336410385811446e-07,2.3364103858114486e-07,0.0,1.557606923874297e-07,1.557606923874297e-07,1.5576069238742991e-07,7.788034619371496e-08,0.0,0.0,0.0,7.788034619371496e-08,0.0,0.0,0.0,0.0,0.0,0.0,0.0,0.0,0.0,0.0,7.788034619371477e-08,0.0,0.0,7.788034619371513e-08,0.0,0.0,7.788034619371513e-08,0.0,0.0,0.0,0.0,7.788034619371513e-08,0.0,0.0,0.0,7.788034619371513e-08,0.0,0.0,0.0,0.0,0.0,0.0,0.0,0.0,0.0,0.0,0.0,0.0,0.0,0.0,0.0,0.0,0.0,0.0,0.0,0.0,0.0,0.0,0.0,0.0,0.0,0.0,0.0,0.0,0.0,0.0,0.0,0.0,0.0,0.0,0.0,0.0,0.0,0.0,0.0,0.0,0.0,0.0,0.0,0.0,0.0,0.0,0.0,0.0,0.0,0.0,0.0,0.0,0.0,0.0,0.0,0.0,7.788034619371371e-08]}},\"id\":\"e98ed0f1-0041-4121-975b-9dca8f5598ef\",\"type\":\"ColumnDataSource\"},{\"attributes\":{\"dimension\":1,\"plot\":{\"id\":\"929e077a-5b4a-42cf-863b-9c44f5c453f0\",\"subtype\":\"Figure\",\"type\":\"Plot\"},\"ticker\":{\"id\":\"1e09e716-3188-4897-97c9-b7dc48d00b1c\",\"type\":\"BasicTicker\"}},\"id\":\"c5fd283b-019e-4e0c-b9d7-300a195e98c1\",\"type\":\"Grid\"},{\"attributes\":{\"plot\":{\"id\":\"929e077a-5b4a-42cf-863b-9c44f5c453f0\",\"subtype\":\"Figure\",\"type\":\"Plot\"}},\"id\":\"1aae2c5a-e46d-4ffe-ab94-2b3b958f28ea\",\"type\":\"SaveTool\"},{\"attributes\":{\"plot\":{\"id\":\"929e077a-5b4a-42cf-863b-9c44f5c453f0\",\"subtype\":\"Figure\",\"type\":\"Plot\"}},\"id\":\"10313436-ef18-4a01-b970-c5ac3a11118e\",\"type\":\"ResetTool\"},{\"attributes\":{\"plot\":{\"id\":\"929e077a-5b4a-42cf-863b-9c44f5c453f0\",\"subtype\":\"Figure\",\"type\":\"Plot\"}},\"id\":\"a8b50dba-ea51-46aa-b546-79b664ad61a4\",\"type\":\"WheelZoomTool\"},{\"attributes\":{},\"id\":\"1e09e716-3188-4897-97c9-b7dc48d00b1c\",\"type\":\"BasicTicker\"},{\"attributes\":{\"data_source\":{\"id\":\"e98ed0f1-0041-4121-975b-9dca8f5598ef\",\"type\":\"ColumnDataSource\"},\"glyph\":{\"id\":\"e09d1125-6664-430b-8355-6c56e2525311\",\"type\":\"Quad\"},\"hover_glyph\":null,\"nonselection_glyph\":{\"id\":\"9ee8b2c6-ed81-4dc6-8277-8a5f5db4e163\",\"type\":\"Quad\"},\"selection_glyph\":null},\"id\":\"592cb94b-03de-41b4-b8dc-d4d26949ec92\",\"type\":\"GlyphRenderer\"},{\"attributes\":{\"callback\":null},\"id\":\"e3789799-095c-40f1-b607-dd7ced147877\",\"type\":\"DataRange1d\"},{\"attributes\":{\"formatter\":{\"id\":\"a9996fb6-bcd4-4047-a265-b7afdc254fe4\",\"type\":\"BasicTickFormatter\"},\"plot\":{\"id\":\"929e077a-5b4a-42cf-863b-9c44f5c453f0\",\"subtype\":\"Figure\",\"type\":\"Plot\"},\"ticker\":{\"id\":\"1e09e716-3188-4897-97c9-b7dc48d00b1c\",\"type\":\"BasicTicker\"}},\"id\":\"ec7bd2cf-cd26-4bbe-85e4-1fb2fee74903\",\"type\":\"LinearAxis\"},{\"attributes\":{\"active_drag\":\"auto\",\"active_scroll\":\"auto\",\"active_tap\":\"auto\",\"tools\":[{\"id\":\"6cd53e92-9332-4039-b30c-a81d95547d65\",\"type\":\"PanTool\"},{\"id\":\"a8b50dba-ea51-46aa-b546-79b664ad61a4\",\"type\":\"WheelZoomTool\"},{\"id\":\"10313436-ef18-4a01-b970-c5ac3a11118e\",\"type\":\"ResetTool\"},{\"id\":\"1aae2c5a-e46d-4ffe-ab94-2b3b958f28ea\",\"type\":\"SaveTool\"}]},\"id\":\"0f088b3d-be08-427b-ba8d-fc428370235d\",\"type\":\"Toolbar\"},{\"attributes\":{\"plot\":{\"id\":\"929e077a-5b4a-42cf-863b-9c44f5c453f0\",\"subtype\":\"Figure\",\"type\":\"Plot\"},\"ticker\":{\"id\":\"0b84850a-6b6d-46a2-b54e-59787314c9e2\",\"type\":\"BasicTicker\"}},\"id\":\"fb5a5861-e516-41a8-a8f8-db5ecca8063f\",\"type\":\"Grid\"},{\"attributes\":{\"bottom\":{\"value\":0},\"fill_color\":{\"value\":\"#1f77b4\"},\"left\":{\"field\":\"left\"},\"line_color\":{\"value\":\"#555555\"},\"right\":{\"field\":\"right\"},\"top\":{\"field\":\"top\"}},\"id\":\"e09d1125-6664-430b-8355-6c56e2525311\",\"type\":\"Quad\"},{\"attributes\":{\"callback\":null},\"id\":\"9172f8f0-2025-4569-a578-7310a9a0a544\",\"type\":\"DataRange1d\"},{\"attributes\":{\"plot\":{\"id\":\"929e077a-5b4a-42cf-863b-9c44f5c453f0\",\"subtype\":\"Figure\",\"type\":\"Plot\"}},\"id\":\"6cd53e92-9332-4039-b30c-a81d95547d65\",\"type\":\"PanTool\"},{\"attributes\":{\"plot\":null,\"text\":\"Top-1000 words distribution Wiki\"},\"id\":\"06383ae9-00fe-4ad3-b95d-bbe122b8dd63\",\"type\":\"Title\"},{\"attributes\":{\"below\":[{\"id\":\"d9dd5697-735b-460a-94cd-de5414666cd5\",\"type\":\"LinearAxis\"}],\"left\":[{\"id\":\"ec7bd2cf-cd26-4bbe-85e4-1fb2fee74903\",\"type\":\"LinearAxis\"}],\"renderers\":[{\"id\":\"d9dd5697-735b-460a-94cd-de5414666cd5\",\"type\":\"LinearAxis\"},{\"id\":\"fb5a5861-e516-41a8-a8f8-db5ecca8063f\",\"type\":\"Grid\"},{\"id\":\"ec7bd2cf-cd26-4bbe-85e4-1fb2fee74903\",\"type\":\"LinearAxis\"},{\"id\":\"c5fd283b-019e-4e0c-b9d7-300a195e98c1\",\"type\":\"Grid\"},{\"id\":\"592cb94b-03de-41b4-b8dc-d4d26949ec92\",\"type\":\"GlyphRenderer\"}],\"title\":{\"id\":\"06383ae9-00fe-4ad3-b95d-bbe122b8dd63\",\"type\":\"Title\"},\"tool_events\":{\"id\":\"afe73708-beca-4b94-8e77-cd389d61201a\",\"type\":\"ToolEvents\"},\"toolbar\":{\"id\":\"0f088b3d-be08-427b-ba8d-fc428370235d\",\"type\":\"Toolbar\"},\"toolbar_location\":\"above\",\"x_range\":{\"id\":\"9172f8f0-2025-4569-a578-7310a9a0a544\",\"type\":\"DataRange1d\"},\"y_range\":{\"id\":\"e3789799-095c-40f1-b607-dd7ced147877\",\"type\":\"DataRange1d\"}},\"id\":\"929e077a-5b4a-42cf-863b-9c44f5c453f0\",\"subtype\":\"Figure\",\"type\":\"Plot\"}],\"root_ids\":[\"929e077a-5b4a-42cf-863b-9c44f5c453f0\"]},\"title\":\"Bokeh Application\",\"version\":\"0.12.2\"}};\n",
       "            var render_items = [{\"docid\":\"92645952-0f5a-433d-9f0c-1258a686020d\",\"elementid\":\"3f7cc4ff-29b1-4fcd-bb14-9d4ffab6ffe2\",\"modelid\":\"929e077a-5b4a-42cf-863b-9c44f5c453f0\"}];\n",
       "            \n",
       "            Bokeh.embed.embed_items(docs_json, render_items);\n",
       "        });\n",
       "      },\n",
       "      function(Bokeh) {\n",
       "      }\n",
       "    ];\n",
       "  \n",
       "    function run_inline_js() {\n",
       "      \n",
       "      if ((window.Bokeh !== undefined) || (force === \"1\")) {\n",
       "        for (var i = 0; i < inline_js.length; i++) {\n",
       "          inline_js[i](window.Bokeh);\n",
       "        }if (force === \"1\") {\n",
       "          display_loaded();\n",
       "        }} else if (Date.now() < window._bokeh_timeout) {\n",
       "        setTimeout(run_inline_js, 100);\n",
       "      } else if (!window._bokeh_failed_load) {\n",
       "        console.log(\"Bokeh: BokehJS failed to load within specified timeout.\");\n",
       "        window._bokeh_failed_load = true;\n",
       "      } else if (!force) {\n",
       "        var cell = $(\"#3f7cc4ff-29b1-4fcd-bb14-9d4ffab6ffe2\").parents('.cell').data().cell;\n",
       "        cell.output_area.append_execute_result(NB_LOAD_WARNING)\n",
       "      }\n",
       "  \n",
       "    }\n",
       "  \n",
       "    if (window._bokeh_is_loading === 0) {\n",
       "      console.log(\"Bokeh: BokehJS loaded, going straight to plotting\");\n",
       "      run_inline_js();\n",
       "    } else {\n",
       "      load_libs(js_urls, function() {\n",
       "        console.log(\"Bokeh: BokehJS plotting callback run at\", now());\n",
       "        run_inline_js();\n",
       "      });\n",
       "    }\n",
       "  }(this));\n",
       "</script>"
      ]
     },
     "metadata": {},
     "output_type": "display_data"
    }
   ],
   "source": [
    "hist, edges = np.histogram(counts_wiki_top1000, density=True, bins=100, normed=True)\n",
    "\n",
    "p_wiki = figure(tools=\"pan,wheel_zoom,reset,save\",\n",
    "           toolbar_location=\"above\",\n",
    "           title=\"Top-1000 words distribution Wiki\")\n",
    "p_wiki.quad(top=hist, bottom=0, left=edges[:-1], right=edges[1:], line_color=\"#555555\")\n",
    "show(p_wiki)"
   ]
  },
  {
   "cell_type": "code",
   "execution_count": 79,
   "metadata": {
    "collapsed": false
   },
   "outputs": [
    {
     "name": "stderr",
     "output_type": "stream",
     "text": [
      "/home/scratch/donhan/anaconda3/lib/python3.5/site-packages/gensim/models/word2vec.py:761: UserWarning: C extension not loaded for Word2Vec, training will be slow. Install a C compiler and reinstall gensim for fast training.\n",
      "  warnings.warn(\"C extension not loaded for Word2Vec, training will be slow. \"\n"
     ]
    }
   ],
   "source": [
    "# model the wiki data\n",
    "# copied from my code edit 2\n",
    "\n",
    "# initialize a model with min_count = 10\n",
    "model_wiki = Word2Vec(sentences_wiki,min_count = 10)\n",
    "model_wiki.save('wiki_model')"
   ]
  },
  {
   "cell_type": "code",
   "execution_count": 84,
   "metadata": {
    "collapsed": false
   },
   "outputs": [
    {
     "name": "stdout",
     "output_type": "stream",
     "text": [
      "[('software', 0.7993074059486389), ('computers', 0.789939284324646), ('simulation', 0.7373844385147095), ('hardware', 0.7305177450180054), ('interface', 0.727923572063446), ('technology', 0.7196988463401794), ('user', 0.7079048156738281), ('analog', 0.7042402029037476), ('computing', 0.6918647289276123), ('virtual', 0.6771758794784546)]\n",
      "[('woman', 0.671110987663269), ('boy', 0.6100094318389893), ('dog', 0.5843208432197571), ('girl', 0.5826656818389893), ('person', 0.5783488154411316), ('mask', 0.5756555795669556), ('soldier', 0.5672560930252075), ('creature', 0.5654325485229492), ('warrior', 0.547448992729187), ('thief', 0.545087456703186)]\n"
     ]
    }
   ],
   "source": [
    "print (model_wiki.most_similar('computer'))\n",
    "print (model_wiki.most_similar('man'))"
   ]
  },
  {
   "cell_type": "markdown",
   "metadata": {},
   "source": [
    "#### t-SNE visualization"
   ]
  },
  {
   "cell_type": "code",
   "execution_count": 92,
   "metadata": {
    "collapsed": false
   },
   "outputs": [
    {
     "data": {
      "text/plain": [
       "['the', 'of', 'and', 'in', 'to', 'a', 'was', 's', 'on', 'as']"
      ]
     },
     "execution_count": 92,
     "metadata": {},
     "output_type": "execute_result"
    }
   ],
   "source": [
    "# debugging: words_top_wiki\n",
    "words_top_wiki[:10]"
   ]
  },
  {
   "cell_type": "code",
   "execution_count": 91,
   "metadata": {
    "collapsed": false
   },
   "outputs": [],
   "source": [
    "# This assumes words_top_wiki is a list of strings, the top 1000 words\n",
    "words_top_vec_wiki = model_wiki[words_top_wiki]\n",
    "\n",
    "tsne = TSNE(n_components=2, random_state=0)\n",
    "words_top_wiki_tsne = tsne.fit_transform(words_top_vec_wiki)"
   ]
  },
  {
   "cell_type": "code",
   "execution_count": 93,
   "metadata": {
    "collapsed": false
   },
   "outputs": [
    {
     "data": {
      "text/html": [
       "\n",
       "\n",
       "    <div class=\"bk-root\">\n",
       "        <div class=\"plotdiv\" id=\"2c1b0563-2824-498b-8e56-b8352b8a8d85\"></div>\n",
       "    </div>\n",
       "<script type=\"text/javascript\">\n",
       "  \n",
       "  (function(global) {\n",
       "    function now() {\n",
       "      return new Date();\n",
       "    }\n",
       "  \n",
       "    var force = \"\";\n",
       "  \n",
       "    if (typeof (window._bokeh_onload_callbacks) === \"undefined\" || force !== \"\") {\n",
       "      window._bokeh_onload_callbacks = [];\n",
       "      window._bokeh_is_loading = undefined;\n",
       "    }\n",
       "  \n",
       "  \n",
       "    \n",
       "    if (typeof (window._bokeh_timeout) === \"undefined\" || force !== \"\") {\n",
       "      window._bokeh_timeout = Date.now() + 0;\n",
       "      window._bokeh_failed_load = false;\n",
       "    }\n",
       "  \n",
       "    var NB_LOAD_WARNING = {'data': {'text/html':\n",
       "       \"<div style='background-color: #fdd'>\\n\"+\n",
       "       \"<p>\\n\"+\n",
       "       \"BokehJS does not appear to have successfully loaded. If loading BokehJS from CDN, this \\n\"+\n",
       "       \"may be due to a slow or bad network connection. Possible fixes:\\n\"+\n",
       "       \"</p>\\n\"+\n",
       "       \"<ul>\\n\"+\n",
       "       \"<li>re-rerun `output_notebook()` to attempt to load from CDN again, or</li>\\n\"+\n",
       "       \"<li>use INLINE resources instead, as so:</li>\\n\"+\n",
       "       \"</ul>\\n\"+\n",
       "       \"<code>\\n\"+\n",
       "       \"from bokeh.resources import INLINE\\n\"+\n",
       "       \"output_notebook(resources=INLINE)\\n\"+\n",
       "       \"</code>\\n\"+\n",
       "       \"</div>\"}};\n",
       "  \n",
       "    function display_loaded() {\n",
       "      if (window.Bokeh !== undefined) {\n",
       "        Bokeh.$(\"#2c1b0563-2824-498b-8e56-b8352b8a8d85\").text(\"BokehJS successfully loaded.\");\n",
       "      } else if (Date.now() < window._bokeh_timeout) {\n",
       "        setTimeout(display_loaded, 100)\n",
       "      }\n",
       "    }\n",
       "  \n",
       "    function run_callbacks() {\n",
       "      window._bokeh_onload_callbacks.forEach(function(callback) { callback() });\n",
       "      delete window._bokeh_onload_callbacks\n",
       "      console.info(\"Bokeh: all callbacks have finished\");\n",
       "    }\n",
       "  \n",
       "    function load_libs(js_urls, callback) {\n",
       "      window._bokeh_onload_callbacks.push(callback);\n",
       "      if (window._bokeh_is_loading > 0) {\n",
       "        console.log(\"Bokeh: BokehJS is being loaded, scheduling callback at\", now());\n",
       "        return null;\n",
       "      }\n",
       "      if (js_urls == null || js_urls.length === 0) {\n",
       "        run_callbacks();\n",
       "        return null;\n",
       "      }\n",
       "      console.log(\"Bokeh: BokehJS not loaded, scheduling load and callback at\", now());\n",
       "      window._bokeh_is_loading = js_urls.length;\n",
       "      for (var i = 0; i < js_urls.length; i++) {\n",
       "        var url = js_urls[i];\n",
       "        var s = document.createElement('script');\n",
       "        s.src = url;\n",
       "        s.async = false;\n",
       "        s.onreadystatechange = s.onload = function() {\n",
       "          window._bokeh_is_loading--;\n",
       "          if (window._bokeh_is_loading === 0) {\n",
       "            console.log(\"Bokeh: all BokehJS libraries loaded\");\n",
       "            run_callbacks()\n",
       "          }\n",
       "        };\n",
       "        s.onerror = function() {\n",
       "          console.warn(\"failed to load library \" + url);\n",
       "        };\n",
       "        console.log(\"Bokeh: injecting script tag for BokehJS library: \", url);\n",
       "        document.getElementsByTagName(\"head\")[0].appendChild(s);\n",
       "      }\n",
       "    };var element = document.getElementById(\"2c1b0563-2824-498b-8e56-b8352b8a8d85\");\n",
       "    if (element == null) {\n",
       "      console.log(\"Bokeh: ERROR: autoload.js configured with elementid '2c1b0563-2824-498b-8e56-b8352b8a8d85' but no matching script tag was found. \")\n",
       "      return false;\n",
       "    }\n",
       "  \n",
       "    var js_urls = [];\n",
       "  \n",
       "    var inline_js = [\n",
       "      function(Bokeh) {\n",
       "        Bokeh.$(function() {\n",
       "            var docs_json = {\"7a9a88e9-7347-456e-af40-12eccb262143\":{\"roots\":{\"references\":[{\"attributes\":{\"active_drag\":\"auto\",\"active_scroll\":\"auto\",\"active_tap\":\"auto\",\"tools\":[{\"id\":\"215c4067-7363-4357-9b7b-76b9a360f385\",\"type\":\"PanTool\"},{\"id\":\"2534cd16-e2c8-4abb-a5a8-672f1c63a3cd\",\"type\":\"WheelZoomTool\"},{\"id\":\"702798e4-1d0f-4a22-bf8c-3abb3f6c80dd\",\"type\":\"ResetTool\"},{\"id\":\"198f99fa-02bc-4447-97d0-1c4f07199e5f\",\"type\":\"SaveTool\"}]},\"id\":\"73840bd8-3471-419e-845c-875e518fa196\",\"type\":\"Toolbar\"},{\"attributes\":{\"callback\":null},\"id\":\"fe29e017-5c93-4208-ad97-7f2c213c31b3\",\"type\":\"DataRange1d\"},{\"attributes\":{},\"id\":\"8fb8a92f-e550-4535-aa03-424da53153a6\",\"type\":\"BasicTicker\"},{\"attributes\":{\"callback\":null,\"column_names\":[\"names\",\"x1\",\"x2\"],\"data\":{\"names\":[\"the\",\"of\",\"and\",\"in\",\"to\",\"a\",\"was\",\"s\",\"on\",\"as\",\"for\",\"that\",\"with\",\"by\",\"is\",\"his\",\"at\",\"he\",\"from\",\"it\",\"were\",\"an\",\"had\",\"which\",\"be\",\"this\",\"but\",\"are\",\"first\",\"not\",\"their\",\"after\",\"one\",\"her\",\"also\",\"its\",\"they\",\"two\",\"or\",\"have\",\"who\",\"been\",\"new\",\"has\",\"she\",\"when\",\"time\",\"during\",\"other\",\"would\",\"into\",\"all\",\"i\",\"more\",\"while\",\"over\",\"him\",\"game\",\"only\",\"later\",\"up\",\"most\",\"three\",\"about\",\"out\",\"th\",\"between\",\"than\",\"there\",\"some\",\"film\",\"may\",\"before\",\"year\",\"no\",\"made\",\"such\",\"season\",\"second\",\"where\",\"war\",\"years\",\"world\",\"both\",\"used\",\"however\",\"then\",\"series\",\"these\",\"through\",\"them\",\"being\",\"song\",\"against\",\"m\",\"album\",\"many\",\"team\",\"part\",\"city\",\"well\",\"number\",\"including\",\"north\",\"united\",\"several\",\"can\",\"four\",\"became\",\"early\",\"under\",\"state\",\"music\",\"south\",\"day\",\"so\",\"episode\",\"following\",\"states\",\"said\",\"american\",\"did\",\"although\",\"known\",\"could\",\"work\",\"began\",\"because\",\"until\",\"released\",\"like\",\"called\",\"t\",\"high\",\"end\",\"people\",\"british\",\"since\",\"each\",\"around\",\"long\",\"found\",\"national\",\"if\",\"life\",\"september\",\"us\",\"million\",\"best\",\"same\",\"west\",\"along\",\"show\",\"another\",\"use\",\"back\",\"five\",\"took\",\"area\",\"you\",\"august\",\"final\",\"off\",\"group\",\"km\",\"any\",\"received\",\"century\",\"october\",\"will\",\"school\",\"john\",\"line\",\"what\",\"due\",\"east\",\"home\",\"government\",\"june\",\"july\",\"single\",\"march\",\"system\",\"third\",\"games\",\"november\",\"large\",\"april\",\"much\",\"down\",\"general\",\"set\",\"left\",\"major\",\"based\",\"york\",\"family\",\"just\",\"house\",\"company\",\"army\",\"december\",\"road\",\"place\",\"we\",\"band\",\"history\",\"six\",\"included\",\"played\",\"january\",\"character\",\"king\",\"name\",\"wrote\",\"main\",\"won\",\"now\",\"within\",\"men\",\"led\",\"own\",\"according\",\"times\",\"named\",\"those\",\"described\",\"air\",\"near\",\"river\",\"d\",\"next\",\"st\",\"record\",\"de\",\"late\",\"make\",\"death\",\"last\",\"league\",\"ship\",\"still\",\"video\",\"battle\",\"way\",\"species\",\"release\",\"original\",\"top\",\"man\",\"force\",\"storm\",\"very\",\"club\",\"great\",\"production\",\"february\",\"old\",\"even\",\"public\",\"small\",\"again\",\"days\",\"route\",\"though\",\"u\",\"held\",\"built\",\"division\",\"do\",\"play\",\"further\",\"story\",\"service\",\"book\",\"role\",\"french\",\"university\",\"b\",\"white\",\"water\",\"match\",\"among\",\"having\",\"side\",\"power\",\"members\",\"german\",\"player\",\"career\",\"often\",\"local\",\"park\",\"order\",\"point\",\"continued\",\"black\",\"h\",\"town\",\"half\",\"came\",\"party\",\"former\",\"england\",\"considered\",\"without\",\"take\",\"form\",\"despite\",\"songs\",\"support\",\"island\",\"version\",\"county\",\"different\",\"development\",\"period\",\"moved\",\"few\",\"military\",\"written\",\"english\",\"forces\",\"given\",\"country\",\"c\",\"building\",\"little\",\"tropical\",\"become\",\"my\",\"ii\",\"lost\",\"president\",\"attack\",\"court\",\"international\",\"church\",\"london\",\"re\",\"lead\",\"returned\",\"produced\",\"tour\",\"published\",\"using\",\"never\",\"similar\",\"n\",\"track\",\"performance\",\"gave\",\"went\",\"street\",\"short\",\"total\",\"royal\",\"class\",\"recorded\",\"western\",\"position\",\"television\",\"live\",\"upon\",\"throughout\",\"highway\",\"making\",\"control\",\"right\",\"run\",\"star\",\"how\",\"land\",\"include\",\"father\",\"stated\",\"per\",\"good\",\"aircraft\",\"women\",\"children\",\"characters\",\"ships\",\"once\",\"week\",\"fire\",\"love\",\"design\",\"himself\",\"central\",\"me\",\"less\",\"political\",\"australia\",\"head\",\"away\",\"light\",\"age\",\"writing\",\"players\",\"law\",\"seven\",\"previous\",\"red\",\"ft\",\"across\",\"sea\",\"r\",\"months\",\"ten\",\"instead\",\"return\",\"developed\",\"rock\",\"e\",\"remained\",\"station\",\"eight\",\"died\",\"title\",\"eventually\",\"various\",\"night\",\"reported\",\"low\",\"felt\",\"young\",\"hurricane\",\"office\",\"southern\",\"james\",\"style\",\"sent\",\"result\",\"areas\",\"created\",\"race\",\"reached\",\"son\",\"center\",\"field\",\"too\",\"noted\",\"win\",\"construction\",\"level\",\"served\",\"seen\",\"william\",\"college\",\"together\",\"member\",\"followed\",\"act\",\"announced\",\"award\",\"should\",\"america\",\"japanese\",\"performed\",\"miles\",\"northern\",\"killed\",\"points\",\"action\",\"able\",\"range\",\"full\",\"works\",\"body\",\"originally\",\"mm\",\"george\",\"common\",\"campaign\",\"chart\",\"success\",\"born\",\"front\",\"established\",\"thought\",\"post\",\"taken\",\"located\",\"started\",\"features\",\"bridge\",\"caused\",\"special\",\"others\",\"feet\",\"addition\",\"appeared\",\"get\",\"football\",\"project\",\"modern\",\"decided\",\"fourth\",\"australian\",\"formed\",\"go\",\"present\",\"site\",\"critics\",\"every\",\"f\",\"o\",\"playing\",\"heavy\",\"popular\",\"soon\",\"rather\",\"sold\",\"behind\",\"completed\",\"damage\",\"non\",\"opened\",\"championship\",\"david\",\"saw\",\"added\",\"director\",\"fleet\",\"stage\",\"population\",\"initially\",\"strong\",\"command\",\"almost\",\"close\",\"see\",\"eastern\",\"awards\",\"guns\",\"case\",\"important\",\"scene\",\"ground\",\"kingdom\",\"weeks\",\"free\",\"towards\",\"mi\",\"mother\",\"france\",\"worked\",\"leading\",\"open\",\"coast\",\"recording\",\"region\",\"event\",\"working\",\"art\",\"training\",\"union\",\"wanted\",\"help\",\"scored\",\"l\",\"brought\",\"henry\",\"average\",\"michael\",\"navy\",\"sound\",\"featured\",\"does\",\"ever\",\"studio\",\"victory\",\"records\",\"wife\",\"hall\",\"put\",\"least\",\"provided\",\"generally\",\"placed\",\"nine\",\"joined\",\"allowed\",\"magazine\",\"runs\",\"cup\",\"either\",\"council\",\"mid\",\"troops\",\"designed\",\"events\",\"washington\",\"hit\",\"example\",\"rest\",\"start\",\"co\",\"official\",\"believed\",\"human\",\"far\",\"list\",\"opening\",\"europe\",\"media\",\"european\",\"robert\",\"crew\",\"hours\",\"summer\",\"replaced\",\"radio\",\"police\",\"finished\",\"earlier\",\"japan\",\"possible\",\"operation\",\"involved\",\"squadron\",\"brown\",\"successful\",\"shot\",\"highest\",\"minutes\",\"review\",\"saying\",\"beginning\",\"society\",\"must\",\"films\",\"al\",\"met\",\"association\",\"x\",\"month\",\"base\",\"significant\",\"research\",\"outside\",\"taking\",\"turned\",\"forced\",\"largest\",\"test\",\"particularly\",\"middle\",\"reviews\",\"available\",\"process\",\"praised\",\"ended\",\"units\",\"goal\",\"cast\",\"change\",\"come\",\"captain\",\"better\",\"social\",\"real\",\"mph\",\"big\",\"passed\",\"business\",\"stone\",\"board\",\"future\",\"space\",\"hill\",\"lower\",\"chief\",\"program\",\"charles\",\"additional\",\"appearance\",\"move\",\"section\",\"thus\",\"increased\",\"above\",\"canada\",\"gold\",\"infantry\",\"community\",\"rights\",\"signed\",\"going\",\"ordered\",\"winds\",\"san\",\"relationship\",\"elements\",\"enough\",\"previously\",\"staff\",\"give\",\"cross\",\"attempt\",\"plan\",\"positive\",\"money\",\"grand\",\"round\",\"paul\",\"entire\",\"don\",\"germany\",\"g\",\"spent\",\"female\",\"brother\",\"told\",\"lines\",\"musical\",\"failed\",\"castle\",\"thomas\",\"india\",\"parts\",\"overall\",\"interest\",\"directed\",\"asked\",\"critical\",\"itself\",\"groups\",\"committee\",\"introduced\",\"lake\",\"gun\",\"v\",\"reception\",\"term\",\"prior\",\"find\",\"california\",\"whose\",\"background\",\"evidence\",\"type\",\"battalion\",\"news\",\"idea\",\"score\",\"uk\",\"cover\",\"district\",\"required\",\"usually\",\"personal\",\"sometimes\",\"hand\",\"green\",\"issue\",\"complete\",\"indian\",\"room\",\"study\",\"turn\",\"person\",\"port\",\"students\",\"plot\",\"p\",\"effects\",\"pressure\",\"ny\",\"election\",\"our\",\"governor\",\"novel\",\"already\",\"press\",\"response\",\"debut\",\"speed\",\"bill\",\"stars\",\"movement\",\"whom\",\"loss\",\"limited\",\"k\",\"blue\",\"woman\",\"education\",\"structure\",\"anti\",\"smith\",\"square\",\"food\",\"industry\",\"claimed\",\"shows\",\"especially\",\"decision\",\"village\",\"commander\",\"arrived\",\"surface\",\"minister\",\"quickly\",\"science\",\"god\",\"britain\",\"operations\",\"mark\",\"appointed\",\"estimated\",\"peter\",\"queen\",\"centre\",\"civil\",\"episodes\",\"leaving\",\"entered\",\"services\",\"nearly\",\"might\",\"past\",\"department\",\"fifth\",\"writer\",\"flight\",\"teams\",\"bay\",\"winning\",\"length\",\"voice\",\"becoming\",\"material\",\"commercial\",\"cut\",\"scenes\",\"larger\",\"report\",\"view\",\"date\",\"network\",\"virginia\",\"latter\",\"dark\",\"influence\",\"supported\",\"la\",\"depression\",\"islands\",\"suggested\",\"defeated\",\"experience\",\"carried\",\"finally\",\"brigade\",\"changes\",\"daughter\",\"subsequently\",\"language\",\"leader\",\"regular\",\"destroyed\",\"pop\",\"percent\",\"shortly\",\"remaining\",\"richard\",\"self\",\"earth\",\"spanish\",\"compared\",\"proposed\",\"today\",\"hot\",\"soviet\",\"provide\",\"intended\",\"railway\",\"immediately\",\"los\",\"face\",\"naval\",\"cost\",\"empire\",\"married\",\"living\",\"size\",\"tracks\",\"related\",\"running\",\"child\",\"approximately\",\"higher\",\"car\",\"current\",\"lack\",\"wide\",\"plans\",\"fact\",\"nd\",\"awarded\",\"chicago\",\"fort\",\"nature\",\"federal\",\"manager\",\"helped\",\"contract\",\"whether\",\"natural\",\"your\",\"minor\",\"professional\",\"agreed\",\"chinese\",\"feature\",\"planned\",\"initial\",\"fans\",\"longer\",\"done\",\"guitar\",\"upper\",\"health\",\"changed\",\"create\",\"probably\",\"course\",\"corps\",\"billboard\",\"buildings\",\"forward\",\"christian\",\"really\",\"museum\",\"officer\",\"associated\",\"officers\",\"information\",\"captured\",\"albums\",\"producer\",\"trade\",\"cm\",\"remains\",\"themselves\",\"lyrics\",\"soldiers\",\"countries\",\"singles\",\"jackson\",\"regiment\",\"edward\",\"lord\",\"friends\",\"appear\",\"primary\",\"extended\",\"moving\",\"j\",\"numerous\",\"something\",\"yet\",\"singer\",\"johnson\",\"mostly\",\"pacific\",\"conference\",\"ball\",\"key\",\"increase\",\"removed\",\"private\",\"problems\",\"leave\",\"atlantic\",\"unit\",\"movie\",\"issued\",\"texas\",\"pre\",\"offered\",\"takes\",\"books\",\"effect\",\"got\",\"roman\",\"mixed\",\"status\",\"attacks\",\"difficult\",\"florida\",\"know\",\"location\",\"energy\",\"impact\",\"meeting\",\"pass\",\"dance\"],\"x1\":[-0.15786168370578108,0.5563862070928073,0.5159477217830699,3.2567919489590436,-0.21564947058515105,-0.47917983618909277,-4.888422563020357,-12.403432308624994,3.218059658663358,-1.2014662581799134,0.8876497992579122,-2.094956377159205,1.2919013971825293,0.9187895116037632,-4.8980696936156365,-13.43839068886805,-19.655119525926246,-12.561859116902156,2.4311997233099634,-5.83294107718035,-3.6177959091503644,-0.7580830097506386,6.276346242168317,-1.1180785242389444,9.976034917178616,-5.829483676018797,-0.35868046183819724,-3.6327076334972315,10.023620271477048,-2.560663977266795,-14.000000741502594,4.809837957787342,0.5941949381540503,-13.516410635700336,-2.2469955157507453,-0.6154936120100236,-14.15819015933821,0.6440402047624204,-5.214618379429456,6.338529422894681,-14.054568064640435,21.777157152660127,-2.0177330935096274,6.281846483163143,-12.553340718501019,-0.4153477062504052,4.765826318832373,4.735509181209958,-3.9807629282904977,22.43429099371728,5.433481778908576,-1.8598567691799837,-15.129358999286483,3.229695313179562,0.4772506123666336,4.479289106611711,-12.336149445031909,3.695267049287487,-2.9859543465419844,5.619350578005468,6.562202558639829,-6.8491486562912804,0.8809006146486236,4.663137342607213,6.039774665704132,13.345556025994059,5.267417435365045,-5.410409961866886,-3.713252394290316,-2.1372861470655917,-7.448695106401825,21.87754614494054,7.675256643188018,14.094243129490485,-7.510326157244958,16.6724700406061,-15.90697886875446,12.084669542738444,10.872990877825853,-0.5588471403516155,-14.71197042976259,16.12688784290366,-22.61071502300853,-1.8220488717662322,19.356337786544305,-1.591972370702636,0.9048445490086454,-8.00356250768849,-2.8879840810316697,5.381524233228659,-12.582429406435057,-3.3731731300024737,-3.1851538939791255,13.522818553164056,-17.4316867253448,-3.0310169430159593,-1.8599987450205353,2.9730247711969766,-3.1186846663629835,-18.94440784826595,-15.84236882503056,2.897618398868857,9.353848212431684,-24.35385471372962,-20.054206398081142,-1.0676948224281166,22.945238051226667,1.0005724247392365,17.428480045441713,6.419262015698419,2.3173136465330426,-16.361677810207397,-4.4788455977962975,-24.28184104055753,13.475662190466114,-5.5290576285112785,-8.216492087923829,6.750077974112224,-3.759992462054388,13.887396310928999,-21.451911016781075,22.638992014664105,-4.852100908453496,14.508547008830904,22.542040592893454,-10.750771069230595,23.517017314386464,-1.191385726523176,-2.2524541897466257,11.844751162907494,2.8389245556781315,15.172988875724357,-17.190389533653565,-6.36534357867021,9.264031877317949,-3.5438977813961423,-19.880498987216622,-3.2441553272718395,-1.0582298877601763,4.005884217179261,-4.9345040649539005,15.427036901164039,-19.40032619464336,-2.7717523201648318,-7.781621540618272,-22.648507866881562,-18.133832898445835,5.071626063627597,9.967702127465701,-1.7270203513281224,-24.059103198763154,5.754879928520791,-6.907597771590599,-0.4635766081911737,3.243857895361407,5.293189126054713,1.2795921608589211,16.981906073197987,-19.802505600207727,-15.071857720435945,-22.7155187092572,9.351351201877655,5.966465695749132,-13.490559776007249,-13.702348271167601,-4.632860536628417,18.630722941308978,-16.032635993456555,-22.509013140538755,22.600649142457335,-13.228665994747125,-11.335378357719435,-13.403253363003458,-4.27081578166847,6.467999091472417,-24.04414260481986,4.544812754235931,-14.854162397975072,-22.630332808220363,-22.402190134845778,-0.5573320608591,-22.09883857307762,-8.85374737786345,10.808044216948408,3.6936507769416744,-22.120904822222606,-7.062938098804744,-22.031061831021905,-14.065691820284131,5.714741195361833,-5.7361094257974266,17.23900555400068,13.077025356393195,-4.653496673525377,8.443101138271762,-20.45160064805839,-8.76147916281951,-3.5827487972481356,-15.566473693817683,-16.136703606453615,8.119025901182575,-22.236903104170715,-16.39689240743379,2.281753756489415,-14.832298496785192,-4.002447469650888,-9.760913105866905,1.2253558316501054,11.146052652228663,9.30260187696582,-22.439084393271745,-9.45853414991661,-12.550140636072795,0.5564984427627763,13.354147155143668,-3.6535692346425077,11.967759936177238,-5.070225650082367,4.119412311128301,-3.697056754854666,18.890057703847727,-12.401460865411313,10.38828115973384,1.1675899719561667,15.408569013569581,-3.307017180798361,13.359509483817801,6.506051088312674,-19.63769448415391,-20.56111358088489,-18.892092621701174,8.565929051497271,13.410654287546606,-3.064741640153404,-18.882716094322994,7.960232882063678,14.757859647402963,-10.059695765742728,9.291718826379558,3.6707181701392337,5.301659580420367,-3.528652438204628,-6.452243669783327,9.398117228455227,-6.6259444259977425,-19.30087042608261,-2.3008545636905158,1.5501872758880908,10.402099525582909,-6.227391504919613,7.998840508543808,-25.436760905711687,-5.8860567984581555,2.869322122346299,-8.884589818650333,-10.887647188660319,-22.12884023271061,4.133254368445347,-4.214089715052563,-14.872006564644751,-6.796713862390499,0.8035166128414226,16.115689186715688,-16.33347063988308,-0.08047377730726946,-18.45552776393848,17.461533273428156,18.193591771954715,8.987197912838855,12.147127965934166,9.845268909757882,0.781280657213494,-9.597813856214369,5.760151894199608,-10.234850804285424,-9.7118961218084,-19.470740545273458,-13.4109965976143,-18.203110271447137,1.026457370707318,-10.533936915500044,3.193530552388209,-8.074120043938162,6.269462041807517,4.336633916715682,-4.641129652990492,-4.958036007951371,-19.40182480898113,2.2698513902311923,-0.07610277525551669,-6.118577702794974,-14.969541357820459,-18.416570428844196,0.8201735032854655,4.646804072480274,23.331032108237114,0.4202819055836663,-16.51552867253143,-18.859239530525667,3.4125720327699387,22.744436972112318,-12.841032911303117,-9.579783526780291,-23.008725197020443,14.799348528413404,-0.8686334626285344,15.814737003236681,-7.693303387019905,0.1163512170268161,-2.1184213834444803,-0.9913289397122341,-21.670956437921124,-2.60400368775029,-18.284421541474096,-4.690496095338392,-10.66133125624528,8.32270747609965,20.62411985374483,-0.2803303736465803,4.155989887763381,12.946789804042165,-19.004467012929943,7.637385245509586,18.01997266771587,-22.15279216649901,-17.84371609423124,-13.631980489671411,-8.1112933257616,-25.51546991589576,20.30102787137691,-15.640530061978378,-15.698584141983085,12.934736493229455,-7.042642962146278,8.858865257399257,-13.457860597719392,-19.75169827412587,-15.145333090445728,-17.121458745050703,1.1489212446763506,6.458609091715469,21.115918576757995,13.652186204803705,-0.6076387131348494,12.186117902669206,3.2306356178475713,-2.2044034289540453,-8.70895398920165,-18.28191184436828,-2.0501425401053117,-1.9273398910933912,17.78944407639061,23.158531241713717,-17.18075348597224,-4.924297606862384,3.4810213910663195,-16.805994322287326,2.0845464776049183,12.887491804576781,-22.9338945167569,2.88676276435249,-7.60804841738199,-3.552923365457591,3.1111542670738435,4.637246463233817,-16.318907296153114,16.590305639002136,-4.591177078353468,4.001064276364535,9.596467064973249,-0.5233412383599838,-4.204535928103871,-20.591823774917167,9.42572956520884,-9.2329185853375,14.568907206674153,4.708854180932853,-8.605830615197744,6.104796932784013,-4.236886509324488,-4.875565328294544,-9.351362389228449,5.471653436887825,-0.5780599561637043,13.878348442039565,8.13378265011771,-15.46324710068719,-9.557037234299566,-12.217689925311335,-22.69937936896839,-15.340303910929274,1.0977931227294184,-12.828675254777737,-20.722312653906187,3.4569038055717556,5.996959485179064,-1.355902409983385,8.64384708013278,-8.74032835377933,2.3961949545718735,-13.411344755500362,1.408184416399451,3.2269465861346047,0.3860208853503697,-10.587042247251444,4.418842578610351,-25.89515528699099,-18.141248145526035,16.124589927438226,1.3795950580979994,-0.7157842105695569,11.146986649858759,16.991878553445396,-4.26064268071885,-17.659694535299312,14.170942714642944,-14.920356867281994,1.4549259830958785,17.932255655625365,0.6117818246490402,0.6834653204758137,-1.6739403132737665,13.063142732838822,15.16043327669201,-7.434045839436859,13.000656220287022,-7.281860714955895,-25.44530176624971,-15.863663530621702,-22.9049977194289,-10.928826455945142,-4.548918889283559,20.165789958993116,-2.706539381884356,-19.743573722004015,15.024942058062978,2.092946207613684,21.42379319961888,-9.383474222870012,-17.526192170349542,5.635517534707957,-5.517695001137251,13.410371475822455,11.38743611863226,-12.145322323868186,-2.7839646335475075,19.52449517400076,13.835494540954114,-11.533885275904328,-13.328876556713132,2.82567818688309,-5.305695289651433,18.23940028863376,-12.821987462908757,15.211915543536898,-0.7315206295794753,22.4335341463981,-21.960763216161983,-19.501134923999928,12.66481809093138,-13.670745113122308,-22.8962730311035,15.432076219941454,8.543297569376643,-9.306285484017359,21.939728480861536,-10.05835761286537,-4.047636024822805,-10.77435062280156,2.6662416893204264,-1.3467447414708649,-9.407454826665523,-10.965026147549311,-8.400157768905824,-11.076475221979525,-0.8818025410474555,-4.404479849625489,18.23032838125196,4.0153967982926115,15.721476976537174,14.552748399533973,3.355319831439125,17.685009915785198,17.981196391395386,23.259633391877966,10.762995507281438,-15.527196122968945,18.993862974494945,-3.43777642641883,-3.9152589998774854,-10.598026963270536,-1.5787095531945485,12.490455309145803,9.510053811693467,2.8029532569462514,-10.469261477336234,-2.504862510351376,21.77492939189754,10.885433794413064,-20.837813699026505,16.89799904103916,17.896438317144597,-2.2600071841968488,-14.233300311874174,-5.550548329186415,-1.1574529246336593,-17.834519962113124,-16.07081680663293,6.863753292647397,-7.541493827487559,-8.738027074395225,0.8263879806796273,2.6172321001411776,14.197977683337825,4.043568276032453,16.731939569615005,-7.6198212335751085,-6.1631868909008025,16.88985907541791,2.093452633319843,-10.679731461195228,22.646199039111004,16.647219179515613,-8.369463650910685,6.274172821626126,-0.08606641072638524,-20.260040608858798,-1.1892879097336813,-6.636741893536,-3.800936542431633,3.628879388344878,-6.371969559679039,12.845967729018874,-22.961880123564217,-0.7276622589278615,3.980554408740581,-8.702585389316377,-7.7329660162197325,-7.172197008856129,5.058192418503299,-3.760657471749708,16.10296282431963,-4.98502367449384,4.75051841633379,-13.672063511584179,-8.884676370232981,-22.309192478599766,19.58402957700104,7.337461140354318,2.3064412959552167,-24.87556675584644,-4.729935629003198,-20.44117525231565,1.7144540363167176,7.986598779705853,-5.061795961166253,5.900371575491429,-18.25484819278185,21.852103236370176,-0.5147179809361233,10.595876549134811,-17.61808157430498,18.942701294123324,-12.402804767916852,5.376002704874194,-10.827944547052676,4.282286585543672,-3.379851853055599,11.992104649381705,22.63759550043719,-4.132345967197289,-4.858234456352954,11.286018483892521,-3.0776513841932136,-8.968769428940119,-16.951259706042602,18.56770054684437,2.7366955502212678,18.15543278076886,-4.397101190352153,16.884045136673087,1.454664800854485,20.60850459397454,21.4487100070472,-8.236252009764739,8.298855613352744,2.124399827095246,-5.247069802136448,-14.707751261732524,6.981940080955756,7.359522990723223,19.3186938342599,1.6116747294928833,-20.921865250514855,9.861677363256378,-7.029259693331037,0.7206934553245898,10.013407486211436,-9.507739420323691,-18.753856184500542,14.619780172979842,-10.581887135750266,-14.125585653864286,1.2510975337575458,9.364149682219102,-21.932760330770055,-8.453089160738815,-20.3270402707104,-11.217552153633273,-0.3821775088475046,16.198727403190773,8.696404850725246,17.678223916422134,-9.285966548531254,-1.7813585866629422,10.894128351786783,4.777191057332412,-21.67289933694629,-6.630230103559341,7.93436376453224,7.58432825039444,6.873275623893706,0.6033632846769666,-8.902428598938561,9.539163478119637,9.7451281073606,16.2889262918813,-7.082605294554024,12.310420790771797,7.629814184086393,-15.041064760339394,22.60000797153415,-7.206200166668946,-16.19521017638116,20.297249412905227,-15.725332145159088,-16.822591899481086,14.041832867087574,4.5939584950761745,-6.420249098123743,-11.44778649089657,4.4896837097825735,16.679463687367516,20.018496617369824,21.89805888955588,9.673520709520082,3.952384534744859,-7.453492125710712,6.813892192181833,-5.541619772436378,16.80082107128588,-8.904523124042798,12.615311123204037,23.516638757793658,7.1824142213691955,7.1570285550825945,-8.399527122477084,-7.727002951925298,12.961340371176595,-4.405122691644472,2.928605950281228,-16.56725285751191,-11.535963863620982,-13.72050487575283,2.398829240213607,19.837242964610112,-15.7078229467458,-10.833549282227134,-15.097405988529207,-2.1829242959386037,-4.8809677041908115,-18.900687875934533,4.431353473872164,-5.176215764666648,-10.111794395176352,-11.882416116989019,1.830572110443386,-1.7218122420767181,8.78283762531253,-13.540071946970944,-1.1391970527429587,3.912581565983007,5.02714661279792,-19.86716238434379,1.0692370473609785,8.219901192656852,-15.180898016349161,-17.164502288946828,20.844473919245583,23.547770758926912,21.597293211145093,-13.749437687586308,-22.650176342204073,-7.175574409255283,-6.703971974075829,-5.2463012061596235,-2.4091080590876786,-0.9056270358636467,14.72223676657161,0.3508904777061851,0.8980762397065583,-10.232934722176937,-10.564606455415944,-10.959446288172597,-0.08849401429034504,5.82931293489372,-10.9735986605595,0.503381433325093,-12.2290271499702,-22.128323570976917,-17.440107171768407,21.075008698605423,-7.163030785677177,-9.606418567034945,13.983270161837666,-13.19673878292198,-4.409968420100757,22.818536536165468,-15.326608292564456,-11.305363500883782,-21.187664808080918,-6.473673868692675,9.595773035333982,-8.24666482521876,13.561093169898756,20.881795363754815,-10.462858253810854,-0.29792507795497436,-13.572502423741424,-14.81552125323977,16.43048841052886,-20.48796558053441,4.008657702795497,-16.76548527487712,-5.428988617657051,8.362193509491071,6.324617829693892,12.763008741621762,-21.931799190335866,-12.797149214087423,-3.9129854578106653,-7.364715076395512,-7.013125014418497,8.354181651474704,-8.381271674650915,-7.312170762999329,7.22800314553574,-19.294192092960945,-3.6429668585132386,-18.241111646608164,21.150798623452545,-10.174225264472751,-11.792101179364307,-3.644407784581381,3.9133421674890965,0.03925200075406236,-8.714129204041965,1.053070056980335,-20.76280599978899,-15.283260466194951,-11.41266985441176,8.590271606611822,-6.360142296841376,-21.799920435393453,-11.60621459978136,-9.837352222532552,-17.357944201996695,-8.993126558701867,-1.2150156470476192,-16.41773645255741,-11.707905367790959,-15.7865032571132,-7.089082128566067,-9.975801479964506,-1.934840025800976,-8.241861385327702,-1.8068389060335468,11.567950901288976,-2.8935726910251365,-10.659123839254953,-0.5251186502376276,-12.866703163727509,-14.05169851059993,12.249786879093186,-4.939918554226956,-17.472516898449193,0.5402968178108515,-6.502570442864149,-12.695266497270127,-7.9723747734088075,-16.879816155322807,-10.460737475787239,-18.84117154788045,-10.595773977422938,-17.048441516271904,14.758844054072854,-6.308877879843428,-7.41073333398648,-9.379143472189542,-19.029009472875973,-4.072614676783345,20.376531148442975,-2.352134299157229,-7.071692937978408,0.5319159913619066,-11.164534069313358,-16.763816863783404,-22.634308113673754,7.699298873374984,-10.28132198839608,19.569776509104262,6.648155844203816,-10.836066062959047,-12.459599980629212,-17.38916175372482,-15.79173110805566,-8.297921543486764,13.029783403191882,21.11789103779221,5.72510969990092,5.068040221288626,22.230310629768322,-2.1222737611400713,-15.739777611777066,10.932305675064438,-8.950485507022773,6.123321296982617,2.7975734819527633,-21.513913812394804,11.732017340180935,-9.558434172517655,-3.1277361158697277,17.30722953204899,-6.378181298329406,-16.98213843832097,9.071581986228331,-7.197356165681302,4.015227525797924,-7.758234118290527,-7.649441835549284,1.9920824196845548,-9.663062135155918,-21.757985319537074,0.09420052345376821,-0.3751673986071247,-9.003259388771557,17.7714701075316,-18.62760039937914,-25.459824991033614,-21.778991072771767,14.540116278156178,13.274811517598247,-7.989385535840721,18.54136646900108,2.548062097924954,8.430746519467535,-5.725150232797521,-9.067353675700744,-0.33178047265370636,-18.327964170887455,-5.595040525820416,-3.5657974150243446,15.353678408954012,-4.438421285645453,4.783513111510996,0.7676663861633417,1.7765929808333676,-11.163450842674711,-11.50956384368751,-2.4346259589455723,-19.334501474347434,10.760459733775606,17.019473423203404,-4.835594183463157,-0.8756352667753327,-18.992886352797186,14.10779316743241,20.626295997180854,-14.952351480812531,0.4694450836145592,-21.741043145800408,3.685211852879701,7.232193999049887,5.854989462818788,-17.226904111460946,18.179417563183357,7.83865819936028,-9.641693858509807,-3.0256339622270403,-9.328676572937896,7.521906653716706,-6.762106157183342,4.14723725653233,3.7762795183268096,6.412598113132459,-2.1791393582096945,-9.570935857608433,-6.270308205342987,-10.285944947775919,-6.8613928960761745,13.35868932571057,18.321996440322152,-21.03901314595969,-19.218921591426298,-9.811075021486111,-15.728078990219402,-8.51363202160157,22.777327139786205,8.730856666781936,-3.2967930830597987,-9.949686116517217,-15.666161265110283,-6.494530437692291,2.7004008339188155,21.561529569154914,-18.382295462678044,-3.4293191259662263,20.554030603585073,1.6693669541235472,-2.630525219020159,3.1511799038942137,13.929495140255943,-2.7679160088910923,5.3125542684358775,-12.504833352673176,16.053694629039885,14.121584107075623,-4.58590595754313,7.623162859091581,8.865403724884862,-1.038095540697831,-13.284714957366285,5.065187047013837,-17.560166713825193,-5.784910449478684,-16.9637212656428,-2.944788374913203,-9.56556894704955,-1.8582376456258494,-6.931690623063096,15.292864981824865,-2.092716984294332,-8.495392731199418,-17.10237708028301,-9.473900003984014,-5.3091242611006075,-12.731882916902952,-2.879670639023566,6.843083220133617,-21.23138211967898,-1.5399007816345496,-10.177638993081795,8.391631688061736,-10.704160986762734,-14.156795088041571,-8.178246231070824,-3.2755555171694595,-3.6729818481681655,16.418579064274812,8.899648339279112,-17.045287667122818,-1.4791257132001567,-4.8105759130555175,-4.200181797543255,-4.52383526729845,-10.54556903875641,-3.397275528322078,-25.667915504444764,-19.21288936919384,6.788460035436733,-6.073575221549339,3.9263526730018414,16.343613474522353,-14.983593617651614,-8.215936652844672,11.2235301087063,-24.930093315886968,6.372317343192266,-7.465617494791365,17.537947027012248,-21.719299492786845,3.093768543735039,18.382916305586402,16.812061820930836,-10.344755909408311,-8.98526918416984,22.765926462290196,-17.337762283873932,-10.489252291881266,-10.191424637742754,8.884642208249469,-6.755366580793102,-21.990017683680616,11.471854893068981,-14.001568491576952,-4.745022011632608,-7.821857793064431,-19.16772291380475,7.5736637288832975,-4.340502045351174],\"x2\":[16.065062028563535,15.017687099326922,8.327069164789151,13.316833677356536,14.02483892917655,18.024929084697202,4.940166441128878,-11.143670541896709,12.90398821192329,10.215088792791153,14.684303614568321,8.371209993908023,8.249983947312908,9.41739635470123,4.935779129169256,-8.681349263701193,-0.7345538995771723,-4.831236303151546,11.370325114757684,10.144135269030903,5.178760529186945,18.146226467573424,3.5889360913252384,8.454463484916197,1.996536608962722,10.247777120015328,6.929163473121355,5.174027894060506,16.908187845657594,11.021429990798664,-7.629464403324994,17.230045817149318,19.98369721403195,-8.665600737317085,12.800054942922596,15.930279351683435,-4.949482691276487,23.73576739627551,14.776482640289743,3.106407776172585,-11.775616828434433,-11.884766053963016,15.928481785581058,2.5548477004987604,-4.809389096514278,9.421189609974556,1.3637704602408578,13.908702627357755,23.41881592804178,-2.1019717170845444,10.069754423575146,21.661091836046285,-5.093127409318919,6.207900985097736,8.085193088482194,20.3738139624155,-7.556250954128745,-19.63373228286872,13.323363271188539,16.278946048099968,7.851689171186968,12.93745093662422,23.62594690619551,21.52158096037247,8.227215416633053,18.790580638717227,12.706146403864349,12.7797146513544,16.298034608146494,23.303118906749567,-4.783026652469108,-2.8917751831656116,17.27716198242472,-11.158794191143445,15.015023041528112,-0.2984684277695551,-20.40689042545576,-9.784823977817712,17.39362033223831,8.821526136187341,15.713559523689442,-11.3129353588561,12.747379736016939,21.952298927659022,12.259123209795668,7.001130459210328,10.924885872048502,-4.32749408724341,23.559090209507442,10.731665688227796,-6.988890071724175,9.660948195540389,-7.656901543900802,-5.196536955991376,-12.63573732675588,-8.60079024221483,23.463201621321474,-17.340057522464516,3.4538000243187037,4.848117586897256,-20.406494867033544,24.379073094561292,8.29586871906867,7.244203395990312,13.263356803715052,23.76617083405161,-3.001324500398047,23.53015055772459,-1.5191341514212904,14.498444139916169,8.799527533963808,7.255593282551684,-5.833387323775307,7.232360478733245,-11.266151752939313,7.646637503509608,-5.233491267613909,16.876414144388473,-22.9548105276762,4.7580409339390215,16.39939957872749,-0.5893219701507555,11.110831020458184,13.033546290600556,-2.2063644208633018,-2.957841615766889,6.893957614757031,6.838548528463603,9.920388072399778,11.02675571850224,1.5654067654623567,8.308084460887963,-5.543426560758049,23.291770003408644,14.075268982436071,-17.715813851012992,17.0120486563158,10.717981294557914,19.689805434037893,11.255975860153344,20.58458557716521,6.916508707527636,11.244279686968358,8.22251168989026,8.379734521857625,-6.567604024783861,13.538377165799503,24.32866319187883,19.806979797606974,19.187396806285868,7.1021137686679,11.239527569115367,-4.583281534381907,18.02552431584354,3.045817060194671,8.58181085883252,23.285918650464396,2.012531073678425,6.787551706146212,-5.270646643499222,-6.3876273071734175,16.555421218878582,8.37852723798996,8.63554274194643,21.57738040183484,15.441312265088238,8.105499600903402,17.133865898852097,-6.55327232510276,-2.4767584512900185,11.2976384590424,-13.950968730642199,-1.6760182263589973,6.9236121411919855,18.354757589860657,7.11359186901811,-5.205823946462621,7.145868136551855,-6.083922856884362,-6.590117126623741,-7.624463527539952,-6.051453995919053,0.9432549089874384,17.42884664412695,-19.615727599808963,-6.513529818470609,21.610993331475182,-6.378699855064711,-20.329327935585685,8.436661447221777,-12.57102833015797,4.531630478885243,-2.1092379625017954,18.971388898939747,5.9809490779297745,1.35416037863686,-19.636188290769667,12.000618312757359,2.0198529518788866,11.049243290413907,-15.205336144716622,-6.068269259211899,-1.822173099643298,-4.649680477263544,-5.08464794484378,-8.358998425753077,10.001593629956101,23.41680764814513,8.186708525859652,-6.311221151370208,-5.949642501989414,-7.2559369887052485,-16.532493813560077,-11.25785232579032,5.619272575853152,17.56674604592298,-5.288962841536246,12.842073714410763,11.94551480137116,-17.475195669183815,10.360520664551705,14.661905969572247,5.287130119382527,1.9233168283004853,8.613024659607087,22.840571295484178,7.774910842422119,-10.818142220607493,-0.5341054563934013,4.485258878329003,-15.103802881309392,16.672784553779476,18.820541935324346,-11.027639762809272,-13.26972767550501,15.985852155032118,0.5578469641284058,-19.31490048744517,16.5654306251196,-16.988933611122132,-13.68155625709239,12.774952968677875,-6.09132121423831,-10.88141987290616,4.928409635343013,8.539208381434861,-2.561159316704444,16.809591605410244,19.026698476115293,-17.900119661132276,-15.653780887934715,2.4720514959764976,8.326662536176297,-16.51748061481379,15.110215394521038,1.5433922008439913,-6.0744666971145005,16.593887235735238,12.324038204746897,12.592159487475593,21.513217507212207,11.236537821172496,-10.871387699303591,-1.3044732582611709,6.626797061959754,13.671096712324793,6.810315454060062,13.240315790640306,-14.001199459743452,2.053606265642409,-6.053994829171558,13.200273730748982,-6.118651009354049,-9.100988563433958,-3.9046906782181345,-7.7436471592558656,17.335770261112735,11.249241205213561,-15.410572878705327,-0.7847507377335841,7.474585090620875,-7.758583083394928,13.27115355768015,2.4588470793404484,-1.2359420458481343,2.7086574314136223,-15.299934815972868,16.96450954234257,-18.520169367781968,-4.346473254971814,14.908495878664041,12.217399027892522,2.570509073834387,3.6941605387797205,-4.126095483196408,7.756148430831998,-1.2102486729427664,-15.087944484422732,5.272319362796198,22.6466741741048,4.816956208235789,7.643571370210228,-13.895300936155605,14.549163699968886,7.453803178096645,14.244051508787035,1.4620518624360281,2.0836168528569,7.356544470184781,-7.996829504776732,3.424942557833748,6.278089665811141,-2.617954448514105,6.315041914685493,23.787052643556652,1.807809083871118,11.508031961083688,5.4269685539378045,24.202941235659523,-12.160243523111937,11.804619613085507,18.12654838147041,-15.572465965204604,7.696859449141725,12.77767329300155,-15.644145336016434,2.2691694144948573,14.917429017081036,2.417348796176323,-11.759369003054358,-7.403275450252411,-16.01418561459072,-3.7494300859075813,-13.766871123191653,-9.732408149354077,5.462402342669673,11.854905412554356,3.95665342187502,4.367968393006856,10.769343412371793,-0.22509065488437988,5.410414794465173,11.318617473600547,-6.001133136259093,11.928136131087802,3.185301510163865,11.279848330403574,18.5523503802443,-13.858055679709704,-7.576499341520523,-4.625774919056264,3.3397912486667263,4.560490169806909,-1.9082863434815949,20.544046235938033,23.90222035579838,4.9807158907093765,-15.102877781728493,10.445954776851018,8.715574880472769,-3.312165773617112,-3.565335782484996,-3.6527701313852075,12.77719100263757,13.558371545219519,-0.7770591069539681,-0.42996894869819924,2.89983848981619,-0.38291873610476984,-3.0571748497558255,-16.917009787880936,7.15701890593301,6.727044092466293,8.254436175182297,-18.868290493046068,6.692951152094004,22.805078266556748,14.969921575130847,-12.142642747160332,-17.85528903979482,-18.13826131828738,-7.07884539381851,-13.764006232666711,11.035380746143753,-11.063227198437382,-8.952890986319,-9.307540064911157,1.9444417730814574,-7.853242252062338,9.009172987838433,-6.1343374388371,5.673331127693025,12.660706981144653,15.433120580998983,-0.6137322680992696,8.503274171295036,-1.0023148682310836,14.067353238369021,-9.748517175771317,-18.324403598611866,5.802258883541131,23.217463104555218,17.016878248624266,-1.362136623946716,24.066606589131876,11.252503012681476,10.626394818673017,-14.83417120074097,-11.041650568815147,22.70287866846414,13.161901286128671,-0.36286197206286375,9.8738906406171,-6.367894245743038,-14.807185512542619,14.921879465274266,-0.8186430461771744,23.221117316947883,-4.96626512344273,-11.237935182088345,12.029041388725643,23.66694171053839,-11.321774117081308,5.977812517590049,23.18648651249657,5.188113591471525,-16.34533700271987,2.4705906597039853,1.4828915914337073,8.622442117499114,-13.983780422367698,-3.9040573811820485,7.389914967344678,3.5848795743345416,6.902821992812914,10.691848749282078,-7.033924232348744,3.8211925312882578,-18.208926540738098,2.308850735122872,-3.062115969810911,8.074257067722282,5.895773313767861,-6.412929569565142,1.2151203784642575,1.55459833902513,2.4984107767845685,9.101400896326092,-14.812271894673676,11.217936275617244,10.229523480721346,-14.953330614740409,10.725466680174769,6.08960148695008,4.829776612704868,-20.64581785365406,-2.4406734758596054,16.034109304813327,16.924725785018957,10.282323910040768,21.863053999772283,8.584001047637189,-4.426349704585386,-4.315243235016339,5.405374701756047,11.39617091903938,21.511269356893326,19.149111606577677,-3.3367222629084674,-1.6189816973233981,12.611700172673011,24.11198804074049,-14.468936519878442,17.67784317297019,4.85124894862627,-9.638195184051787,-0.2183039254512258,-5.925804013414471,-1.9118952952264734,10.004888842042387,6.8240956355909885,15.10953216557142,5.930671222098978,14.321518702926822,5.539844747580171,9.102274792897074,-0.4235659443184465,10.445991416690692,18.961614589771933,22.60830596145732,24.07211271816157,4.318624409817882,9.405984904185326,1.9102499201067487,-16.478436447394582,1.8337112857391078,16.91768999823584,9.48820910362945,17.496206908926286,16.24285022038093,10.009364811322577,-2.7193503768215055,17.128943222060443,3.4739401150070806,-1.4314671495022644,19.54665922963489,-15.817116093857878,-14.196758008497293,-6.874309143440547,19.897276814430295,17.173852936703742,12.22846107477311,5.6363663169208325,10.754050908283586,10.031480795388731,12.86786931422036,10.594874088979317,16.321540040856767,13.022842320908985,-12.006877273150042,-13.102184586344984,5.891392537361512,10.79410037508949,-11.446404233022328,-13.770820843313304,-6.024218895617383,7.979920463467561,12.672186206417638,19.955130803042334,-13.487593264661845,21.487722994669543,20.047839703719163,1.9508335010266045,8.547700674183528,-20.645358785393768,-10.192692759307365,4.972747515369385,17.522573199821256,-7.9093489481059605,-3.0524787489140035,-22.955412515180942,-10.972540507276088,16.758895151758267,10.51288182690363,21.803533020969713,-18.901802071717043,14.184189587353027,2.469805013025945,19.26985876438634,13.846537563446933,13.099016686278462,-8.49023580416311,7.253966349458432,-6.834792242478959,5.005528238407631,-3.926706720797856,-10.046731363900818,14.59970398871593,9.317145414644369,3.436556498703517,-4.6555604075490296,-14.236747587835643,5.305123190121405,-15.732340987964827,23.082546092395507,-12.624926746720172,-13.100004622256678,-5.878843392250633,9.477786988843366,-0.5921765651868598,10.712256639499676,-8.718652019529994,-6.548145938633039,-11.028227616476638,-18.34969942842478,2.2881064860780285,5.763916089398141,20.86589234631315,9.089715221313007,14.438387895116142,7.189643588246358,23.194030471750004,3.7858471116453214,11.272911123805292,-2.4395036645731785,-2.9602950190227157,-11.99859332682024,15.00553277772682,6.626540405959268,14.391624658656935,-15.487454787063154,12.302161370244358,-6.7555797105256525,2.4302548699456334,-1.8653011463649682,3.6134896350040617,17.47398864945425,13.564868617092083,-13.016276414489514,12.381819537656295,6.492865473577941,13.497910759665412,-20.341194979724015,21.459627692179613,15.674900774751446,13.620598024538626,-1.2488466621685061,14.862547865533406,-13.834898209893788,-13.788635284528212,-10.556435636454113,12.90123511582476,10.980620461489956,-1.0296795175033986,-14.579912249946686,-4.395589128213276,17.00322219688317,14.007516935962453,16.197103461410528,-11.153081266259584,19.631768330530026,-13.757057207144245,-2.0833048863499144,17.021003131445685,-1.7208141827819674,20.91225134371493,-10.303934273230798,-1.5504415321582552,4.142425977673854,13.937491803554474,9.652107955922693,-2.6665952739121077,-6.692448024880479,-12.978539201257753,3.928424085134072,9.652634259110997,-16.50366948383498,-11.144267737807404,-4.2198172661960145,18.658979538728808,9.529838227747009,11.276508243319041,1.8652255379439018,5.942049077400187,11.02545138343661,21.08792301744754,-7.759591409946802,12.560948044442007,13.711280572268528,-1.2179050252431667,16.51505311551981,2.700567295937652,6.473911454013619,6.446352160562434,-12.04053190567089,-4.246169215467489,-7.461418184710348,11.112477241686403,-0.897441426507493,-13.647073117897754,6.152140115369109,20.959218745713436,14.743385579166306,20.244345454808904,0.3773146031743122,5.801268411903252,11.507313277850042,-9.898303914111526,6.309457677088524,15.382654701423705,1.2242270512128686,2.9981510490008114,6.244868889632665,-13.207756662240064,0.8166156939088733,-14.614576990841211,18.42029403803463,-4.366690738999214,-0.1534304286098936,-0.6953230183653939,14.347082799787694,18.616630833605857,5.635888609166033,13.164133019386156,-0.7605625606035143,-14.150141630327175,9.735699761936814,9.470987967130856,7.6259228680816715,3.8789816459677113,10.570683630302911,20.02050816878148,1.4815205856131342,-19.96188627211855,1.6475578074398252,8.981897554810109,12.30262304082387,-13.86561781288435,0.793105593162655,0.3933341235553112,3.6109488419002562,3.2103696193426265,16.693779832857196,6.732804865026168,5.115244848597871,-6.442856020784583,-12.825280786230305,17.117431295416687,-12.59824805642864,14.084403377282829,-15.170087372128261,2.5053204992418463,-16.43599995839489,-18.166776404755012,4.942075450085343,-1.1671413990143484,-5.413576786517886,9.375206614613788,3.4572998092704363,-13.99280165094418,15.007288898645601,1.8978115904121777,-4.296427909366388,7.920008991171871,11.859813036530031,9.416402877736411,16.669397127368818,16.145721235522526,8.744840511635607,6.512128176445835,9.317220208543734,4.08065536337469,-10.156599324262618,-15.539249278301654,-0.7531816152683177,11.128963640156082,17.526989863665374,0.9476291866878233,1.4293653253018195,-10.933306632179503,-3.0715653045287468,6.046345081537318,3.3178985902638267,-14.018861079575762,-1.3802410018989917,5.02468652998107,-4.445221159877443,13.268947193517498,-3.283040055948755,6.37271630310498,11.558920730970042,14.97554124627437,14.29223085152202,14.09918789352633,-0.7096470220892038,-0.8832841460107588,4.9136814486262415,15.855506004622624,15.907684870519816,1.9453635712928465,9.499039080555642,-0.15349870368055943,-18.098415189762374,4.587469486418398,-0.7992854474898176,-6.371208997778043,-14.930861461191714,8.826788058253877,1.320625609680629,-0.18938587037079269,5.071481516348069,-7.55622183910987,-13.765438995765715,-4.581375420687477,12.47352725947869,-1.2383505955056517,3.72787115171362,16.53468576850901,2.1708431791858405,-11.145407666411325,-16.91347846750134,7.981982706560101,-11.807167747335532,-3.2957680056221927,18.87651685998283,-14.660934373200313,-1.996794121014538,-18.009257859594285,10.41775447170631,1.9497723833469167,18.617663940618343,-12.109216999615636,1.5415393189277138,7.4867705893653715,11.935146706998617,6.07024897183309,-3.6748861335987564,12.55637582975139,4.1924742803318304,3.983736668232589,-13.584509243037365,3.7349695265357377,0.4624911093169405,-13.709660868133055,12.341574483580056,10.335484758742371,-8.111714483143865,14.302151199408698,-11.285216884397101,-12.632265154432048,8.704442924495313,22.673834690280213,-12.642822014175296,-16.781935009961842,2.7896736794267403,14.477546370333553,-5.3509904552944345,-2.0340794081849687,5.227413230604744,-8.936762397153442,20.2123891194532,-2.464933378653648,15.25403075979994,6.348968957810441,17.498771060798486,-10.437302635184048,-10.97225133660455,-17.711008835746085,5.571108860808929,-5.534511343637466,22.12742912650236,-4.847911417393728,-1.4756282767687001,0.5478708364892106,12.524892518056054,-1.3403484949605353,-7.834280911373637,5.891832275631915,-0.8602299600029568,7.34310100114776,15.532349961331933,-0.1479128643521331,2.358164704663537,16.583907241292103,-0.6736195504372948,8.100518418018071,9.535577709137774,-13.553244542612946,2.439762914211084,6.432806940003678,6.10686076542338,-4.641136520312728,8.04933464974906,6.228152848453109,10.911095732087972,-14.059969645122408,10.842388199352808,-18.277207803088064,11.911411737273243,18.581584344497,-14.473260954642512,18.86184264838678,-4.386804909850331,-6.3192526597660175,23.909965918980316,12.405079357157893,19.668258661662502,-13.803159887622712,13.785301979548152,0.34626882859590735,17.506836605931674,6.226243363821029,9.345121085387804,13.21203990149702,-9.49609188564981,15.52353593188538,1.2570558056993018,11.13354972406235,-0.7630924529025855,12.224604401990579,0.8386429315718029,-2.277820879687442,-12.713796628184168,24.61002399909613,15.967584156583843,-5.793456899834422,4.9609226495731535,21.94863968438355,-7.068029364600103,18.955636736099052,-0.20463361118419576,-18.153167925301553,23.13505531649881,5.550884382234396,-2.1204747936489996,16.536481878613532,12.193897831150554,20.756575628679343,3.3144609747426204,6.5901814818780275,18.792048289614502,7.903979294441948,0.9590345665450999,3.8022763508823036,12.024676735598725,7.279917310879376,-12.483584753215036,9.176156268215202,3.183036820083036,7.68341794219563,13.332499659787157,-7.391102753400476,18.279583021261615,-16.281615551537115,9.355993079247703,17.233639706985098,-2.0848827736215316,11.05110244011681,16.85507849682417,-17.645429247883825,6.889213864717375,9.140076818464522,-6.160925793341122,4.988238506285969,10.431708243398147,11.868112117854041,1.1698633300212447,11.46223293416247,12.208373337083819,-14.457588481380617,-9.484116140824797,2.518709780083875,8.587562781113542,17.024106116998073,7.355418130322009,3.641332245843941,-14.058975200024038,19.054440029100395,-14.498823449436609,0.2281091012904664,-4.391429280869978,-8.662655673247185,-11.230381045685263,12.058069934014778,24.06479505988477,11.659703502903357,-6.801736235635544,-7.570142696052271,-15.487724219169522,12.849758698238775,-8.876676086050587,-11.794417717729708,-14.111563334555154,-14.899559912487415,-18.232752542111726,-19.519696275535278,-1.5879140982725124,17.491437813814684,12.260327960554868,0.10311216392666928,-14.626202766664706,23.638816445871484,8.04997656210731,11.27087929246713,-7.521655864486939,-11.839307259545198,14.07976545101151,10.90955281289908,-3.39369430748069,-3.2949215513499817,18.17748015844958,18.61371285142232,11.967935007342229,12.219039477312867,11.038735017720494,0.6090496830379234,10.169688687409153,-11.334811385999226,-6.436157417705637,8.606249963762142,4.360241154383679,15.375903026963737,8.18321205029423,1.9036263773133335,-3.572928318137194,8.507640806142657,4.83198951096257,16.674258130586914,16.77837692169028,11.396212057419222,-9.771630206618568,16.26719765145735,1.8527718848393064,1.9898189966833768,3.0150641288538447,2.093275027464984,9.04571320934351,-3.4217879095040855,-1.0661689961673255,-5.885763516795393]}},\"id\":\"2c78147f-144e-4c77-b241-ff96113245b1\",\"type\":\"ColumnDataSource\"},{\"attributes\":{\"plot\":{\"id\":\"2902cd40-5f26-4a35-b923-fecfe0b0e894\",\"subtype\":\"Figure\",\"type\":\"Plot\"},\"source\":{\"id\":\"2c78147f-144e-4c77-b241-ff96113245b1\",\"type\":\"ColumnDataSource\"},\"text\":{\"field\":\"names\"},\"text_align\":\"center\",\"text_color\":{\"value\":\"#555555\"},\"text_font_size\":{\"value\":\"8pt\"},\"x\":{\"field\":\"x1\"},\"y\":{\"field\":\"x2\"},\"y_offset\":{\"value\":6}},\"id\":\"d4881569-19d1-4b98-b939-4714c4e1e2a2\",\"type\":\"LabelSet\"},{\"attributes\":{},\"id\":\"15ae6e68-516a-412b-a085-af13d6026bdd\",\"type\":\"BasicTickFormatter\"},{\"attributes\":{\"plot\":{\"id\":\"2902cd40-5f26-4a35-b923-fecfe0b0e894\",\"subtype\":\"Figure\",\"type\":\"Plot\"},\"ticker\":{\"id\":\"0eaeba7b-9f67-48bc-8706-e6ce3998391c\",\"type\":\"BasicTicker\"}},\"id\":\"4d1b9867-bca7-4197-9934-07edb8c25ec6\",\"type\":\"Grid\"},{\"attributes\":{\"formatter\":{\"id\":\"15ae6e68-516a-412b-a085-af13d6026bdd\",\"type\":\"BasicTickFormatter\"},\"plot\":{\"id\":\"2902cd40-5f26-4a35-b923-fecfe0b0e894\",\"subtype\":\"Figure\",\"type\":\"Plot\"},\"ticker\":{\"id\":\"0eaeba7b-9f67-48bc-8706-e6ce3998391c\",\"type\":\"BasicTicker\"}},\"id\":\"9f4295b5-2606-4034-b9c2-c8ecaaa77dce\",\"type\":\"LinearAxis\"},{\"attributes\":{\"callback\":null},\"id\":\"8fddfbff-c952-4538-b785-ee00665f8648\",\"type\":\"DataRange1d\"},{\"attributes\":{\"formatter\":{\"id\":\"45db325b-15c9-462f-96c6-90e96b6d1e38\",\"type\":\"BasicTickFormatter\"},\"plot\":{\"id\":\"2902cd40-5f26-4a35-b923-fecfe0b0e894\",\"subtype\":\"Figure\",\"type\":\"Plot\"},\"ticker\":{\"id\":\"8fb8a92f-e550-4535-aa03-424da53153a6\",\"type\":\"BasicTicker\"}},\"id\":\"1718904a-2798-42b8-ba54-0d9171893c02\",\"type\":\"LinearAxis\"},{\"attributes\":{\"plot\":null,\"text\":\"word2vec T-SNE for most common words\"},\"id\":\"ed566a46-7177-4b6c-8641-dae1900601b0\",\"type\":\"Title\"},{\"attributes\":{\"plot\":{\"id\":\"2902cd40-5f26-4a35-b923-fecfe0b0e894\",\"subtype\":\"Figure\",\"type\":\"Plot\"}},\"id\":\"215c4067-7363-4357-9b7b-76b9a360f385\",\"type\":\"PanTool\"},{\"attributes\":{},\"id\":\"45db325b-15c9-462f-96c6-90e96b6d1e38\",\"type\":\"BasicTickFormatter\"},{\"attributes\":{\"dimension\":1,\"plot\":{\"id\":\"2902cd40-5f26-4a35-b923-fecfe0b0e894\",\"subtype\":\"Figure\",\"type\":\"Plot\"},\"ticker\":{\"id\":\"8fb8a92f-e550-4535-aa03-424da53153a6\",\"type\":\"BasicTicker\"}},\"id\":\"440fb789-804b-4a43-8f89-7e73921a45b7\",\"type\":\"Grid\"},{\"attributes\":{\"plot\":{\"id\":\"2902cd40-5f26-4a35-b923-fecfe0b0e894\",\"subtype\":\"Figure\",\"type\":\"Plot\"}},\"id\":\"2534cd16-e2c8-4abb-a5a8-672f1c63a3cd\",\"type\":\"WheelZoomTool\"},{\"attributes\":{},\"id\":\"0eaeba7b-9f67-48bc-8706-e6ce3998391c\",\"type\":\"BasicTicker\"},{\"attributes\":{\"below\":[{\"id\":\"9f4295b5-2606-4034-b9c2-c8ecaaa77dce\",\"type\":\"LinearAxis\"}],\"left\":[{\"id\":\"1718904a-2798-42b8-ba54-0d9171893c02\",\"type\":\"LinearAxis\"}],\"renderers\":[{\"id\":\"9f4295b5-2606-4034-b9c2-c8ecaaa77dce\",\"type\":\"LinearAxis\"},{\"id\":\"4d1b9867-bca7-4197-9934-07edb8c25ec6\",\"type\":\"Grid\"},{\"id\":\"1718904a-2798-42b8-ba54-0d9171893c02\",\"type\":\"LinearAxis\"},{\"id\":\"440fb789-804b-4a43-8f89-7e73921a45b7\",\"type\":\"Grid\"},{\"id\":\"828762fa-01f7-43cd-84b6-70e36d3ce8c8\",\"type\":\"GlyphRenderer\"},{\"id\":\"d4881569-19d1-4b98-b939-4714c4e1e2a2\",\"type\":\"LabelSet\"}],\"title\":{\"id\":\"ed566a46-7177-4b6c-8641-dae1900601b0\",\"type\":\"Title\"},\"tool_events\":{\"id\":\"f14a6ab4-990a-4366-9687-d6d02b0dd9ef\",\"type\":\"ToolEvents\"},\"toolbar\":{\"id\":\"73840bd8-3471-419e-845c-875e518fa196\",\"type\":\"Toolbar\"},\"toolbar_location\":\"above\",\"x_range\":{\"id\":\"8fddfbff-c952-4538-b785-ee00665f8648\",\"type\":\"DataRange1d\"},\"y_range\":{\"id\":\"fe29e017-5c93-4208-ad97-7f2c213c31b3\",\"type\":\"DataRange1d\"}},\"id\":\"2902cd40-5f26-4a35-b923-fecfe0b0e894\",\"subtype\":\"Figure\",\"type\":\"Plot\"},{\"attributes\":{\"plot\":{\"id\":\"2902cd40-5f26-4a35-b923-fecfe0b0e894\",\"subtype\":\"Figure\",\"type\":\"Plot\"}},\"id\":\"702798e4-1d0f-4a22-bf8c-3abb3f6c80dd\",\"type\":\"ResetTool\"},{\"attributes\":{\"plot\":{\"id\":\"2902cd40-5f26-4a35-b923-fecfe0b0e894\",\"subtype\":\"Figure\",\"type\":\"Plot\"}},\"id\":\"198f99fa-02bc-4447-97d0-1c4f07199e5f\",\"type\":\"SaveTool\"},{\"attributes\":{\"fill_color\":{\"value\":\"#1f77b4\"},\"line_color\":{\"value\":\"#1f77b4\"},\"size\":{\"units\":\"screen\",\"value\":8},\"x\":{\"field\":\"x1\"},\"y\":{\"field\":\"x2\"}},\"id\":\"448c0bd6-f2bd-411c-9011-8602ea65d016\",\"type\":\"Circle\"},{\"attributes\":{\"fill_alpha\":{\"value\":0.1},\"fill_color\":{\"value\":\"#1f77b4\"},\"line_alpha\":{\"value\":0.1},\"line_color\":{\"value\":\"#1f77b4\"},\"size\":{\"units\":\"screen\",\"value\":8},\"x\":{\"field\":\"x1\"},\"y\":{\"field\":\"x2\"}},\"id\":\"c26d1e9c-564c-44a4-b8ec-b55d3e2cc041\",\"type\":\"Circle\"},{\"attributes\":{\"data_source\":{\"id\":\"2c78147f-144e-4c77-b241-ff96113245b1\",\"type\":\"ColumnDataSource\"},\"glyph\":{\"id\":\"448c0bd6-f2bd-411c-9011-8602ea65d016\",\"type\":\"Circle\"},\"hover_glyph\":null,\"nonselection_glyph\":{\"id\":\"c26d1e9c-564c-44a4-b8ec-b55d3e2cc041\",\"type\":\"Circle\"},\"selection_glyph\":null},\"id\":\"828762fa-01f7-43cd-84b6-70e36d3ce8c8\",\"type\":\"GlyphRenderer\"},{\"attributes\":{},\"id\":\"f14a6ab4-990a-4366-9687-d6d02b0dd9ef\",\"type\":\"ToolEvents\"}],\"root_ids\":[\"2902cd40-5f26-4a35-b923-fecfe0b0e894\"]},\"title\":\"Bokeh Application\",\"version\":\"0.12.2\"}};\n",
       "            var render_items = [{\"docid\":\"7a9a88e9-7347-456e-af40-12eccb262143\",\"elementid\":\"2c1b0563-2824-498b-8e56-b8352b8a8d85\",\"modelid\":\"2902cd40-5f26-4a35-b923-fecfe0b0e894\"}];\n",
       "            \n",
       "            Bokeh.embed.embed_items(docs_json, render_items);\n",
       "        });\n",
       "      },\n",
       "      function(Bokeh) {\n",
       "      }\n",
       "    ];\n",
       "  \n",
       "    function run_inline_js() {\n",
       "      \n",
       "      if ((window.Bokeh !== undefined) || (force === \"1\")) {\n",
       "        for (var i = 0; i < inline_js.length; i++) {\n",
       "          inline_js[i](window.Bokeh);\n",
       "        }if (force === \"1\") {\n",
       "          display_loaded();\n",
       "        }} else if (Date.now() < window._bokeh_timeout) {\n",
       "        setTimeout(run_inline_js, 100);\n",
       "      } else if (!window._bokeh_failed_load) {\n",
       "        console.log(\"Bokeh: BokehJS failed to load within specified timeout.\");\n",
       "        window._bokeh_failed_load = true;\n",
       "      } else if (!force) {\n",
       "        var cell = $(\"#2c1b0563-2824-498b-8e56-b8352b8a8d85\").parents('.cell').data().cell;\n",
       "        cell.output_area.append_execute_result(NB_LOAD_WARNING)\n",
       "      }\n",
       "  \n",
       "    }\n",
       "  \n",
       "    if (window._bokeh_is_loading === 0) {\n",
       "      console.log(\"Bokeh: BokehJS loaded, going straight to plotting\");\n",
       "      run_inline_js();\n",
       "    } else {\n",
       "      load_libs(js_urls, function() {\n",
       "        console.log(\"Bokeh: BokehJS plotting callback run at\", now());\n",
       "        run_inline_js();\n",
       "      });\n",
       "    }\n",
       "  }(this));\n",
       "</script>"
      ]
     },
     "metadata": {},
     "output_type": "display_data"
    }
   ],
   "source": [
    "p3 = figure(tools=\"pan,wheel_zoom,reset,save\",\n",
    "           toolbar_location=\"above\",\n",
    "           title=\"word2vec T-SNE for most common words\")\n",
    "\n",
    "source = ColumnDataSource(data=dict(x1=words_top_wiki_tsne[:,0],\n",
    "                                    x2=words_top_wiki_tsne[:,1],\n",
    "                                    names=words_top_wiki))\n",
    "\n",
    "p3.scatter(x=\"x1\", y=\"x2\", size=8, source=source)\n",
    "\n",
    "labels = LabelSet(x=\"x1\", y=\"x2\", text=\"names\", y_offset=6,\n",
    "                  text_font_size=\"8pt\", text_color=\"#555555\",\n",
    "                  source=source, text_align='center')\n",
    "p3.add_layout(labels)\n",
    "\n",
    "show(p3)"
   ]
  },
  {
   "cell_type": "code",
   "execution_count": 95,
   "metadata": {
    "collapsed": false
   },
   "outputs": [
    {
     "name": "stdout",
     "output_type": "stream",
     "text": [
      "[('software', 0.7993074059486389), ('computers', 0.789939284324646), ('simulation', 0.7373844385147095), ('hardware', 0.7305177450180054), ('interface', 0.727923572063446), ('technology', 0.7196988463401794), ('user', 0.7079048156738281), ('analog', 0.7042402029037476), ('computing', 0.6918647289276123), ('virtual', 0.6771758794784546)]\n"
     ]
    }
   ],
   "source": [
    "# find some similar words\n",
    "print(model_wiki.most_similar('computer'))"
   ]
  },
  {
   "cell_type": "code",
   "execution_count": 96,
   "metadata": {
    "collapsed": false
   },
   "outputs": [
    {
     "name": "stdout",
     "output_type": "stream",
     "text": [
      "[('woman', 0.671110987663269), ('boy', 0.6100094318389893), ('dog', 0.5843208432197571), ('girl', 0.5826656818389893), ('person', 0.5783488154411316), ('mask', 0.5756555795669556), ('soldier', 0.5672560930252075), ('creature', 0.5654325485229492), ('warrior', 0.547448992729187), ('thief', 0.545087456703186)]\n"
     ]
    }
   ],
   "source": [
    "print(model_wiki.most_similar('man'))"
   ]
  },
  {
   "cell_type": "code",
   "execution_count": null,
   "metadata": {
    "collapsed": true
   },
   "outputs": [],
   "source": []
  }
 ],
 "metadata": {
  "anaconda-cloud": {},
  "kernelspec": {
   "display_name": "Python [conda root]",
   "language": "python",
   "name": "conda-root-py"
  },
  "language_info": {
   "codemirror_mode": {
    "name": "ipython",
    "version": 3
   },
   "file_extension": ".py",
   "mimetype": "text/x-python",
   "name": "python",
   "nbconvert_exporter": "python",
   "pygments_lexer": "ipython3",
   "version": "3.5.2"
  }
 },
 "nbformat": 4,
 "nbformat_minor": 0
}

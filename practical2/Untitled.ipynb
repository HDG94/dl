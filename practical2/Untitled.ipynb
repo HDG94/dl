{
 "cells": [
  {
   "cell_type": "code",
   "execution_count": 1,
   "metadata": {
    "collapsed": false
   },
   "outputs": [
    {
     "name": "stdout",
     "output_type": "stream",
     "text": [
      "data shuffled\n",
      "iter:  0\n",
      "[[2 3 4]\n",
      " [4 5 6]\n",
      " [3 4 5]]\n",
      "[[2 3]\n",
      " [4 5]\n",
      " [3 4]]\n",
      "\n",
      "iter:  1\n",
      "[[1 2 3]\n",
      " [2 3 4]\n",
      " [4 5 6]]\n",
      "[[1 2]\n",
      " [2 3]\n",
      " [4 5]]\n",
      "\n"
     ]
    }
   ],
   "source": [
    "# test shuffle\n",
    "# data is of dimension 3, label is of dimension 2, length is 4 \n",
    "data = [[1,2,3],[2,3,4],[3,4,5],[4,5,6]]\n",
    "label = [[1,2],[2,3],[3,4],[4,5]]\n",
    "batch_size = 3\n",
    "\n",
    "from shuffle import shuffle as SF\n",
    "sf = SF(list(zip(data, label)), batch_size)\n",
    "sf.shuffle()\n",
    "for tup in sf.get_batch():\n",
    "    # tup is of form [i, data, label]\n",
    "    print ('iter: ', tup[0])\n",
    "    print (tup[1])\n",
    "    print (tup[2])\n",
    "    print ('')\n",
    "\n"
   ]
  },
  {
   "cell_type": "code",
   "execution_count": null,
   "metadata": {
    "collapsed": true
   },
   "outputs": [],
   "source": []
  },
  {
   "cell_type": "code",
   "execution_count": null,
   "metadata": {
    "collapsed": true
   },
   "outputs": [],
   "source": []
  },
  {
   "cell_type": "code",
   "execution_count": null,
   "metadata": {
    "collapsed": true
   },
   "outputs": [],
   "source": []
  }
 ],
 "metadata": {
  "anaconda-cloud": {},
  "kernelspec": {
   "display_name": "Python [conda root]",
   "language": "python",
   "name": "conda-root-py"
  },
  "language_info": {
   "codemirror_mode": {
    "name": "ipython",
    "version": 3
   },
   "file_extension": ".py",
   "mimetype": "text/x-python",
   "name": "python",
   "nbconvert_exporter": "python",
   "pygments_lexer": "ipython3",
   "version": "3.5.2"
  }
 },
 "nbformat": 4,
 "nbformat_minor": 1
}
